{
 "cells": [
  {
   "cell_type": "code",
   "execution_count": 1,
   "id": "fc9e3ddd",
   "metadata": {
    "_cell_guid": "b1076dfc-b9ad-4769-8c92-a6c4dae69d19",
    "_uuid": "8f2839f25d086af736a60e9eeb907d3b93b6e0e5",
    "execution": {
     "iopub.execute_input": "2022-09-18T10:33:47.885205Z",
     "iopub.status.busy": "2022-09-18T10:33:47.884692Z",
     "iopub.status.idle": "2022-09-18T10:33:47.936754Z",
     "shell.execute_reply": "2022-09-18T10:33:47.935827Z"
    },
    "papermill": {
     "duration": 0.07557,
     "end_time": "2022-09-18T10:33:47.939037",
     "exception": false,
     "start_time": "2022-09-18T10:33:47.863467",
     "status": "completed"
    },
    "tags": []
   },
   "outputs": [
    {
     "name": "stdout",
     "output_type": "stream",
     "text": [
      "/kaggle/input/chaii-hindi-and-tamil-question-answering/sample_submission.csv\n",
      "/kaggle/input/chaii-hindi-and-tamil-question-answering/train.csv\n",
      "/kaggle/input/chaii-hindi-and-tamil-question-answering/test.csv\n",
      "/kaggle/input/hf-datasets/wheels/multiprocess-0.70.11.1-py37-none-any.whl\n",
      "/kaggle/input/hf-datasets/wheels/tqdm-4.49.0-py2.py3-none-any.whl\n",
      "/kaggle/input/hf-datasets/wheels/huggingface_hub-0.0.9-py3-none-any.whl\n",
      "/kaggle/input/hf-datasets/wheels/filelock-3.0.12-py3-none-any.whl\n",
      "/kaggle/input/hf-datasets/wheels/typing_extensions-3.10.0.0-py3-none-any.whl\n",
      "/kaggle/input/hf-datasets/wheels/certifi-2021.5.30-py2.py3-none-any.whl\n",
      "/kaggle/input/hf-datasets/wheels/pandas-1.2.4-cp37-cp37m-manylinux1_x86_64.whl\n",
      "/kaggle/input/hf-datasets/wheels/numpy-1.20.3-cp37-cp37m-manylinux_2_12_x86_64.manylinux2010_x86_64.whl\n",
      "/kaggle/input/hf-datasets/wheels/fsspec-2021.6.0-py3-none-any.whl\n",
      "/kaggle/input/hf-datasets/wheels/datasets-1.7.0-py3-none-any.whl\n",
      "/kaggle/input/hf-datasets/wheels/python_dateutil-2.8.1-py2.py3-none-any.whl\n",
      "/kaggle/input/hf-datasets/wheels/idna-2.10-py2.py3-none-any.whl\n",
      "/kaggle/input/hf-datasets/wheels/six-1.16.0-py2.py3-none-any.whl\n",
      "/kaggle/input/hf-datasets/wheels/pyparsing-2.4.7-py2.py3-none-any.whl\n",
      "/kaggle/input/hf-datasets/wheels/xxhash-2.0.2-cp37-cp37m-manylinux2010_x86_64.whl\n",
      "/kaggle/input/hf-datasets/wheels/importlib_metadata-4.5.0-py3-none-any.whl\n",
      "/kaggle/input/hf-datasets/wheels/chardet-4.0.0-py2.py3-none-any.whl\n",
      "/kaggle/input/hf-datasets/wheels/dill-0.3.3-py2.py3-none-any.whl\n",
      "/kaggle/input/hf-datasets/wheels/pyarrow-3.0.0-cp37-cp37m-manylinux2014_x86_64.whl\n",
      "/kaggle/input/hf-datasets/wheels/packaging-20.9-py2.py3-none-any.whl\n",
      "/kaggle/input/hf-datasets/wheels/pytz-2021.1-py2.py3-none-any.whl\n",
      "/kaggle/input/hf-datasets/wheels/zipp-3.4.1-py3-none-any.whl\n",
      "/kaggle/input/hf-datasets/wheels/urllib3-1.26.5-py2.py3-none-any.whl\n",
      "/kaggle/input/hf-datasets/wheels/requests-2.25.1-py2.py3-none-any.whl\n",
      "/kaggle/input/xlm-roberta-squad2/deepset/xlm-roberta-large-squad2/config.json\n",
      "/kaggle/input/xlm-roberta-squad2/deepset/xlm-roberta-large-squad2/tokenizer.json\n",
      "/kaggle/input/xlm-roberta-squad2/deepset/xlm-roberta-large-squad2/tokenizer_config.json\n",
      "/kaggle/input/xlm-roberta-squad2/deepset/xlm-roberta-large-squad2/pytorch_model.bin\n",
      "/kaggle/input/xlm-roberta-squad2/deepset/xlm-roberta-large-squad2/special_tokens_map.json\n",
      "/kaggle/input/xlm-roberta-squad2/deepset/xlm-roberta-large-squad2/sentencepiece.bpe.model\n",
      "/kaggle/input/xlm-roberta-squad2/deepset/xlm-roberta-base-squad2/config.json\n",
      "/kaggle/input/xlm-roberta-squad2/deepset/xlm-roberta-base-squad2/tokenizer.json\n",
      "/kaggle/input/xlm-roberta-squad2/deepset/xlm-roberta-base-squad2/tokenizer_config.json\n",
      "/kaggle/input/xlm-roberta-squad2/deepset/xlm-roberta-base-squad2/pytorch_model.bin\n",
      "/kaggle/input/xlm-roberta-squad2/deepset/xlm-roberta-base-squad2/special_tokens_map.json\n",
      "/kaggle/input/xlm-roberta-squad2/deepset/xlm-roberta-base-squad2/sentencepiece.bpe.model\n"
     ]
    }
   ],
   "source": [
    "# This Python 3 environment comes with many helpful analytics libraries installed\n",
    "# It is defined by the kaggle/python Docker image: https://github.com/kaggle/docker-python\n",
    "# For example, here's several helpful packages to load\n",
    "\n",
    "import numpy as np # linear algebra\n",
    "import pandas as pd # data processing, CSV file I/O (e.g. pd.read_csv)\n",
    "\n",
    "# Input data files are available in the read-only \"../input/\" directory\n",
    "# For example, running this (by clicking run or pressing Shift+Enter) will list all files under the input directory\n",
    "\n",
    "import os\n",
    "for dirname, _, filenames in os.walk('/kaggle/input'):\n",
    "    for filename in filenames:\n",
    "        print(os.path.join(dirname, filename))\n",
    "\n",
    "# You can write up to 20GB to the current directory (/kaggle/working/) that gets preserved as output when you create a version using \"Save & Run All\" \n",
    "# You can also write temporary files to /kaggle/temp/, but they won't be saved outside of the current session"
   ]
  },
  {
   "cell_type": "markdown",
   "id": "e021d144",
   "metadata": {
    "papermill": {
     "duration": 0.010874,
     "end_time": "2022-09-18T10:33:47.961570",
     "exception": false,
     "start_time": "2022-09-18T10:33:47.950696",
     "status": "completed"
    },
    "tags": []
   },
   "source": [
    "# **This is definition from the host:\n",
    "# \n",
    "# For each ID in the test set, you must predict the string that best answers the provided question based on the context. Note that the selected text needs to be quoted and complete to work correctly. Include punctuation, etc. - the above code splits ONLY on whitespace.**"
   ]
  },
  {
   "cell_type": "code",
   "execution_count": 2,
   "id": "8a3d0671",
   "metadata": {
    "execution": {
     "iopub.execute_input": "2022-09-18T10:33:47.999942Z",
     "iopub.status.busy": "2022-09-18T10:33:47.999599Z",
     "iopub.status.idle": "2022-09-18T10:33:48.029534Z",
     "shell.execute_reply": "2022-09-18T10:33:48.028673Z"
    },
    "papermill": {
     "duration": 0.058194,
     "end_time": "2022-09-18T10:33:48.031396",
     "exception": false,
     "start_time": "2022-09-18T10:33:47.973202",
     "status": "completed"
    },
    "tags": []
   },
   "outputs": [
    {
     "data": {
      "text/html": [
       "<div>\n",
       "<style scoped>\n",
       "    .dataframe tbody tr th:only-of-type {\n",
       "        vertical-align: middle;\n",
       "    }\n",
       "\n",
       "    .dataframe tbody tr th {\n",
       "        vertical-align: top;\n",
       "    }\n",
       "\n",
       "    .dataframe thead th {\n",
       "        text-align: right;\n",
       "    }\n",
       "</style>\n",
       "<table border=\"1\" class=\"dataframe\">\n",
       "  <thead>\n",
       "    <tr style=\"text-align: right;\">\n",
       "      <th></th>\n",
       "      <th>id</th>\n",
       "      <th>PredictionString</th>\n",
       "    </tr>\n",
       "  </thead>\n",
       "  <tbody>\n",
       "    <tr>\n",
       "      <th>0</th>\n",
       "      <td>22bff3dec</td>\n",
       "      <td>NaN</td>\n",
       "    </tr>\n",
       "  </tbody>\n",
       "</table>\n",
       "</div>"
      ],
      "text/plain": [
       "          id  PredictionString\n",
       "0  22bff3dec               NaN"
      ]
     },
     "execution_count": 2,
     "metadata": {},
     "output_type": "execute_result"
    }
   ],
   "source": [
    "sub = pd.read_csv('../input/chaii-hindi-and-tamil-question-answering/sample_submission.csv')\n",
    "sub.head(1)"
   ]
  },
  {
   "cell_type": "markdown",
   "id": "8ebce908",
   "metadata": {
    "papermill": {
     "duration": 0.018658,
     "end_time": "2022-09-18T10:33:48.063861",
     "exception": false,
     "start_time": "2022-09-18T10:33:48.045203",
     "status": "completed"
    },
    "tags": []
   },
   "source": [
    "# **What train data do we have available?\n",
    "# Looks like the training set is very small: 747 Hindi and 368 Tamil examples. We have the context, question, answer_text and answer_start. So this is in fact a reading comprehension task, which means that we have context available and need to find the start and end span in that contexts that answers our question. Typical example of such format is SQUAD.**"
   ]
  },
  {
   "cell_type": "markdown",
   "id": "a32c8f78",
   "metadata": {
    "papermill": {
     "duration": 0.017586,
     "end_time": "2022-09-18T10:33:48.099189",
     "exception": false,
     "start_time": "2022-09-18T10:33:48.081603",
     "status": "completed"
    },
    "tags": []
   },
   "source": []
  },
  {
   "cell_type": "code",
   "execution_count": 3,
   "id": "a14dfe45",
   "metadata": {
    "execution": {
     "iopub.execute_input": "2022-09-18T10:33:48.123203Z",
     "iopub.status.busy": "2022-09-18T10:33:48.122483Z",
     "iopub.status.idle": "2022-09-18T10:33:48.710046Z",
     "shell.execute_reply": "2022-09-18T10:33:48.709225Z"
    },
    "papermill": {
     "duration": 0.601512,
     "end_time": "2022-09-18T10:33:48.712012",
     "exception": false,
     "start_time": "2022-09-18T10:33:48.110500",
     "status": "completed"
    },
    "tags": []
   },
   "outputs": [],
   "source": [
    "train=pd.read_csv(\"../input/chaii-hindi-and-tamil-question-answering/train.csv\")"
   ]
  },
  {
   "cell_type": "code",
   "execution_count": 4,
   "id": "571c5cbd",
   "metadata": {
    "execution": {
     "iopub.execute_input": "2022-09-18T10:33:48.736824Z",
     "iopub.status.busy": "2022-09-18T10:33:48.735980Z",
     "iopub.status.idle": "2022-09-18T10:33:48.748493Z",
     "shell.execute_reply": "2022-09-18T10:33:48.747826Z"
    },
    "papermill": {
     "duration": 0.026447,
     "end_time": "2022-09-18T10:33:48.750223",
     "exception": false,
     "start_time": "2022-09-18T10:33:48.723776",
     "status": "completed"
    },
    "tags": []
   },
   "outputs": [
    {
     "data": {
      "text/html": [
       "<div>\n",
       "<style scoped>\n",
       "    .dataframe tbody tr th:only-of-type {\n",
       "        vertical-align: middle;\n",
       "    }\n",
       "\n",
       "    .dataframe tbody tr th {\n",
       "        vertical-align: top;\n",
       "    }\n",
       "\n",
       "    .dataframe thead th {\n",
       "        text-align: right;\n",
       "    }\n",
       "</style>\n",
       "<table border=\"1\" class=\"dataframe\">\n",
       "  <thead>\n",
       "    <tr style=\"text-align: right;\">\n",
       "      <th></th>\n",
       "      <th>id</th>\n",
       "      <th>context</th>\n",
       "      <th>question</th>\n",
       "      <th>answer_text</th>\n",
       "      <th>answer_start</th>\n",
       "      <th>language</th>\n",
       "    </tr>\n",
       "  </thead>\n",
       "  <tbody>\n",
       "    <tr>\n",
       "      <th>0</th>\n",
       "      <td>903deec17</td>\n",
       "      <td>ஒரு சாதாரண வளர்ந்த மனிதனுடைய எலும்புக்கூடு பின...</td>\n",
       "      <td>மனித உடலில் எத்தனை எலும்புகள் உள்ளன?</td>\n",
       "      <td>206</td>\n",
       "      <td>53</td>\n",
       "      <td>tamil</td>\n",
       "    </tr>\n",
       "    <tr>\n",
       "      <th>1</th>\n",
       "      <td>d9841668c</td>\n",
       "      <td>காளிதாசன் (தேவநாகரி: कालिदास) சமஸ்கிருத இலக்கி...</td>\n",
       "      <td>காளிதாசன் எங்கு பிறந்தார்?</td>\n",
       "      <td>காசுமீரில்</td>\n",
       "      <td>2358</td>\n",
       "      <td>tamil</td>\n",
       "    </tr>\n",
       "    <tr>\n",
       "      <th>2</th>\n",
       "      <td>29d154b56</td>\n",
       "      <td>சர் அலெக்ஸாண்டர் ஃபிளெமிங் (Sir Alexander Flem...</td>\n",
       "      <td>பென்சிலின் கண்டுபிடித்தவர் யார்?</td>\n",
       "      <td>சர் அலெக்ஸாண்டர் ஃபிளெமிங்</td>\n",
       "      <td>0</td>\n",
       "      <td>tamil</td>\n",
       "    </tr>\n",
       "    <tr>\n",
       "      <th>3</th>\n",
       "      <td>41660850a</td>\n",
       "      <td>குழந்தையின் அழுகையை  நிறுத்தவும், தூங்க வைக்கவ...</td>\n",
       "      <td>தமிழ்நாட்டில் குழந்தைகளை தூங்க வைக்க பாடும் பா...</td>\n",
       "      <td>தாலாட்டு</td>\n",
       "      <td>68</td>\n",
       "      <td>tamil</td>\n",
       "    </tr>\n",
       "    <tr>\n",
       "      <th>4</th>\n",
       "      <td>b29c82c22</td>\n",
       "      <td>சூரியக் குடும்பம் \\nசூரியக் குடும்பம் (Solar S...</td>\n",
       "      <td>பூமியின் அருகில் உள்ள விண்மீன் எது?</td>\n",
       "      <td>சூரியனும்</td>\n",
       "      <td>585</td>\n",
       "      <td>tamil</td>\n",
       "    </tr>\n",
       "  </tbody>\n",
       "</table>\n",
       "</div>"
      ],
      "text/plain": [
       "          id                                            context  \\\n",
       "0  903deec17  ஒரு சாதாரண வளர்ந்த மனிதனுடைய எலும்புக்கூடு பின...   \n",
       "1  d9841668c  காளிதாசன் (தேவநாகரி: कालिदास) சமஸ்கிருத இலக்கி...   \n",
       "2  29d154b56  சர் அலெக்ஸாண்டர் ஃபிளெமிங் (Sir Alexander Flem...   \n",
       "3  41660850a  குழந்தையின் அழுகையை  நிறுத்தவும், தூங்க வைக்கவ...   \n",
       "4  b29c82c22  சூரியக் குடும்பம் \\nசூரியக் குடும்பம் (Solar S...   \n",
       "\n",
       "                                            question  \\\n",
       "0               மனித உடலில் எத்தனை எலும்புகள் உள்ளன?   \n",
       "1                         காளிதாசன் எங்கு பிறந்தார்?   \n",
       "2                   பென்சிலின் கண்டுபிடித்தவர் யார்?   \n",
       "3  தமிழ்நாட்டில் குழந்தைகளை தூங்க வைக்க பாடும் பா...   \n",
       "4                பூமியின் அருகில் உள்ள விண்மீன் எது?   \n",
       "\n",
       "                  answer_text  answer_start language  \n",
       "0                         206            53    tamil  \n",
       "1                  காசுமீரில்          2358    tamil  \n",
       "2  சர் அலெக்ஸாண்டர் ஃபிளெமிங்             0    tamil  \n",
       "3                    தாலாட்டு            68    tamil  \n",
       "4                   சூரியனும்           585    tamil  "
      ]
     },
     "execution_count": 4,
     "metadata": {},
     "output_type": "execute_result"
    }
   ],
   "source": [
    "train.head()"
   ]
  },
  {
   "cell_type": "code",
   "execution_count": 5,
   "id": "1d8cbfc8",
   "metadata": {
    "execution": {
     "iopub.execute_input": "2022-09-18T10:33:48.774520Z",
     "iopub.status.busy": "2022-09-18T10:33:48.774242Z",
     "iopub.status.idle": "2022-09-18T10:33:48.784892Z",
     "shell.execute_reply": "2022-09-18T10:33:48.784058Z"
    },
    "papermill": {
     "duration": 0.025734,
     "end_time": "2022-09-18T10:33:48.787465",
     "exception": false,
     "start_time": "2022-09-18T10:33:48.761731",
     "status": "completed"
    },
    "tags": []
   },
   "outputs": [
    {
     "data": {
      "text/plain": [
       "hindi    746\n",
       "tamil    368\n",
       "Name: language, dtype: int64"
      ]
     },
     "execution_count": 5,
     "metadata": {},
     "output_type": "execute_result"
    }
   ],
   "source": [
    "train.language.value_counts()"
   ]
  },
  {
   "cell_type": "markdown",
   "id": "df2dfbc7",
   "metadata": {
    "papermill": {
     "duration": 0.011821,
     "end_time": "2022-09-18T10:33:48.811243",
     "exception": false,
     "start_time": "2022-09-18T10:33:48.799422",
     "status": "completed"
    },
    "tags": []
   },
   "source": [
    "# ***What about test?**\n",
    "In test, we have just 5 examples, and similar columns like in train except that we don't have answer_text and answer_start. It seems that answer_text is what we're trying to predict.*****"
   ]
  },
  {
   "cell_type": "code",
   "execution_count": 6,
   "id": "3f65563e",
   "metadata": {
    "execution": {
     "iopub.execute_input": "2022-09-18T10:33:48.837910Z",
     "iopub.status.busy": "2022-09-18T10:33:48.837586Z",
     "iopub.status.idle": "2022-09-18T10:33:48.855472Z",
     "shell.execute_reply": "2022-09-18T10:33:48.854631Z"
    },
    "papermill": {
     "duration": 0.034411,
     "end_time": "2022-09-18T10:33:48.857419",
     "exception": false,
     "start_time": "2022-09-18T10:33:48.823008",
     "status": "completed"
    },
    "tags": []
   },
   "outputs": [
    {
     "data": {
      "text/html": [
       "<div>\n",
       "<style scoped>\n",
       "    .dataframe tbody tr th:only-of-type {\n",
       "        vertical-align: middle;\n",
       "    }\n",
       "\n",
       "    .dataframe tbody tr th {\n",
       "        vertical-align: top;\n",
       "    }\n",
       "\n",
       "    .dataframe thead th {\n",
       "        text-align: right;\n",
       "    }\n",
       "</style>\n",
       "<table border=\"1\" class=\"dataframe\">\n",
       "  <thead>\n",
       "    <tr style=\"text-align: right;\">\n",
       "      <th></th>\n",
       "      <th>id</th>\n",
       "      <th>context</th>\n",
       "      <th>question</th>\n",
       "      <th>language</th>\n",
       "    </tr>\n",
       "  </thead>\n",
       "  <tbody>\n",
       "    <tr>\n",
       "      <th>0</th>\n",
       "      <td>22bff3dec</td>\n",
       "      <td>ज्वाला गुट्टा (जन्म: 7 सितंबर 1983; वर्धा, महा...</td>\n",
       "      <td>ज्वाला गुट्टा की माँ का नाम क्या है</td>\n",
       "      <td>hindi</td>\n",
       "    </tr>\n",
       "    <tr>\n",
       "      <th>1</th>\n",
       "      <td>282758170</td>\n",
       "      <td>गूगल मानचित्र (Google Maps) (पूर्व में गूगल लो...</td>\n",
       "      <td>गूगल मैप्स कब लॉन्च किया गया था?</td>\n",
       "      <td>hindi</td>\n",
       "    </tr>\n",
       "    <tr>\n",
       "      <th>2</th>\n",
       "      <td>d60987e0e</td>\n",
       "      <td>गुस्ताव रॉबर्ट किरचॉफ़ (१२ मार्च १८२४ - १७ अक्...</td>\n",
       "      <td>गुस्ताव किरचॉफ का जन्म कब हुआ था?</td>\n",
       "      <td>hindi</td>\n",
       "    </tr>\n",
       "    <tr>\n",
       "      <th>3</th>\n",
       "      <td>f99c770dc</td>\n",
       "      <td>அலுமினியம் (ஆங்கிலம்: அலுமினியம்; வட அமெரிக்க ...</td>\n",
       "      <td>அலுமினியத்தின் அணு எண் என்ன?</td>\n",
       "      <td>tamil</td>\n",
       "    </tr>\n",
       "    <tr>\n",
       "      <th>4</th>\n",
       "      <td>40dec1964</td>\n",
       "      <td>கூட்டுறவு இயக்க வரலாறு, இங்கிலாந்து  நாட்டில் ...</td>\n",
       "      <td>இந்தியாவில் பசுமை புரட்சியின் தந்தை என்று கருத...</td>\n",
       "      <td>tamil</td>\n",
       "    </tr>\n",
       "  </tbody>\n",
       "</table>\n",
       "</div>"
      ],
      "text/plain": [
       "          id                                            context  \\\n",
       "0  22bff3dec  ज्वाला गुट्टा (जन्म: 7 सितंबर 1983; वर्धा, महा...   \n",
       "1  282758170  गूगल मानचित्र (Google Maps) (पूर्व में गूगल लो...   \n",
       "2  d60987e0e  गुस्ताव रॉबर्ट किरचॉफ़ (१२ मार्च १८२४ - १७ अक्...   \n",
       "3  f99c770dc  அலுமினியம் (ஆங்கிலம்: அலுமினியம்; வட அமெரிக்க ...   \n",
       "4  40dec1964  கூட்டுறவு இயக்க வரலாறு, இங்கிலாந்து  நாட்டில் ...   \n",
       "\n",
       "                                            question language  \n",
       "0                ज्वाला गुट्टा की माँ का नाम क्या है    hindi  \n",
       "1                   गूगल मैप्स कब लॉन्च किया गया था?    hindi  \n",
       "2                  गुस्ताव किरचॉफ का जन्म कब हुआ था?    hindi  \n",
       "3                       அலுமினியத்தின் அணு எண் என்ன?    tamil  \n",
       "4  இந்தியாவில் பசுமை புரட்சியின் தந்தை என்று கருத...    tamil  "
      ]
     },
     "execution_count": 6,
     "metadata": {},
     "output_type": "execute_result"
    }
   ],
   "source": [
    "test = pd.read_csv('../input/chaii-hindi-and-tamil-question-answering/test.csv')\n",
    "test.head()"
   ]
  },
  {
   "cell_type": "code",
   "execution_count": 7,
   "id": "d5a9da6d",
   "metadata": {
    "execution": {
     "iopub.execute_input": "2022-09-18T10:33:48.882679Z",
     "iopub.status.busy": "2022-09-18T10:33:48.882411Z",
     "iopub.status.idle": "2022-09-18T10:33:48.888069Z",
     "shell.execute_reply": "2022-09-18T10:33:48.887330Z"
    },
    "papermill": {
     "duration": 0.020045,
     "end_time": "2022-09-18T10:33:48.889886",
     "exception": false,
     "start_time": "2022-09-18T10:33:48.869841",
     "status": "completed"
    },
    "tags": []
   },
   "outputs": [
    {
     "data": {
      "text/plain": [
       "5"
      ]
     },
     "execution_count": 7,
     "metadata": {},
     "output_type": "execute_result"
    }
   ],
   "source": [
    "len(test)"
   ]
  },
  {
   "cell_type": "markdown",
   "id": "8e98eb8e",
   "metadata": {
    "papermill": {
     "duration": 0.011642,
     "end_time": "2022-09-18T10:33:48.915376",
     "exception": false,
     "start_time": "2022-09-18T10:33:48.903734",
     "status": "completed"
    },
    "tags": []
   },
   "source": [
    "# **Metric\n",
    "# #  We're evaluated based on Jaccard score, which is an intersection over union metric. It's measures how many words from the context we picked correctly.**"
   ]
  },
  {
   "cell_type": "markdown",
   "id": "6c0366c4",
   "metadata": {
    "papermill": {
     "duration": 0.011801,
     "end_time": "2022-09-18T10:33:48.939144",
     "exception": false,
     "start_time": "2022-09-18T10:33:48.927343",
     "status": "completed"
    },
    "tags": []
   },
   "source": [
    "**Baseline\n",
    "Based on: https://github.com/huggingface/notebooks/blob/master/examples/question_answering.ipynb**"
   ]
  },
  {
   "cell_type": "code",
   "execution_count": 8,
   "id": "170dd7d8",
   "metadata": {
    "execution": {
     "iopub.execute_input": "2022-09-18T10:33:48.963745Z",
     "iopub.status.busy": "2022-09-18T10:33:48.963468Z",
     "iopub.status.idle": "2022-09-18T10:33:55.656903Z",
     "shell.execute_reply": "2022-09-18T10:33:55.656022Z"
    },
    "papermill": {
     "duration": 6.708475,
     "end_time": "2022-09-18T10:33:55.659389",
     "exception": false,
     "start_time": "2022-09-18T10:33:48.950914",
     "status": "completed"
    },
    "tags": []
   },
   "outputs": [],
   "source": [
    "import transformers"
   ]
  },
  {
   "cell_type": "code",
   "execution_count": 9,
   "id": "76e67c57",
   "metadata": {
    "execution": {
     "iopub.execute_input": "2022-09-18T10:33:55.686887Z",
     "iopub.status.busy": "2022-09-18T10:33:55.686385Z",
     "iopub.status.idle": "2022-09-18T10:33:55.690560Z",
     "shell.execute_reply": "2022-09-18T10:33:55.689638Z"
    },
    "papermill": {
     "duration": 0.02009,
     "end_time": "2022-09-18T10:33:55.692557",
     "exception": false,
     "start_time": "2022-09-18T10:33:55.672467",
     "status": "completed"
    },
    "tags": []
   },
   "outputs": [],
   "source": [
    "model_checkpoint=\"../input/xlm-roberta-squad2/deepset/xlm-roberta-large-squad2\""
   ]
  },
  {
   "cell_type": "code",
   "execution_count": 10,
   "id": "1653b501",
   "metadata": {
    "execution": {
     "iopub.execute_input": "2022-09-18T10:33:55.718936Z",
     "iopub.status.busy": "2022-09-18T10:33:55.718639Z",
     "iopub.status.idle": "2022-09-18T10:33:56.889994Z",
     "shell.execute_reply": "2022-09-18T10:33:56.889067Z"
    },
    "papermill": {
     "duration": 1.18682,
     "end_time": "2022-09-18T10:33:56.892004",
     "exception": false,
     "start_time": "2022-09-18T10:33:55.705184",
     "status": "completed"
    },
    "tags": []
   },
   "outputs": [],
   "source": [
    "from transformers import AutoTokenizer\n",
    "tokenizer=AutoTokenizer.from_pretrained(model_checkpoint)"
   ]
  },
  {
   "cell_type": "code",
   "execution_count": 11,
   "id": "e4bb250b",
   "metadata": {
    "execution": {
     "iopub.execute_input": "2022-09-18T10:33:56.918724Z",
     "iopub.status.busy": "2022-09-18T10:33:56.918015Z",
     "iopub.status.idle": "2022-09-18T10:34:31.024668Z",
     "shell.execute_reply": "2022-09-18T10:34:31.023847Z"
    },
    "papermill": {
     "duration": 34.122063,
     "end_time": "2022-09-18T10:34:31.027058",
     "exception": false,
     "start_time": "2022-09-18T10:33:56.904995",
     "status": "completed"
    },
    "tags": []
   },
   "outputs": [
    {
     "name": "stderr",
     "output_type": "stream",
     "text": [
      "Token indices sequence length is longer than the specified maximum sequence length for this model (1492 > 512). Running this sequence through the model will result in indexing errors\n"
     ]
    }
   ],
   "source": [
    "train[\"num_tokens_context\"]=train[\"context\"].apply(lambda x: len(tokenizer(x)[\"input_ids\"]))"
   ]
  },
  {
   "cell_type": "code",
   "execution_count": 12,
   "id": "c3d89ae5",
   "metadata": {
    "execution": {
     "iopub.execute_input": "2022-09-18T10:34:31.053470Z",
     "iopub.status.busy": "2022-09-18T10:34:31.053152Z",
     "iopub.status.idle": "2022-09-18T10:34:31.297447Z",
     "shell.execute_reply": "2022-09-18T10:34:31.296709Z"
    },
    "papermill": {
     "duration": 0.259036,
     "end_time": "2022-09-18T10:34:31.299233",
     "exception": false,
     "start_time": "2022-09-18T10:34:31.040197",
     "status": "completed"
    },
    "tags": []
   },
   "outputs": [
    {
     "data": {
      "text/plain": [
       "<AxesSubplot:>"
      ]
     },
     "execution_count": 12,
     "metadata": {},
     "output_type": "execute_result"
    },
    {
     "data": {
      "image/png": "[encoded data removed]",
      "text/plain": [
       "<Figure size 432x288 with 1 Axes>"
      ]
     },
     "metadata": {
      "needs_background": "light"
     },
     "output_type": "display_data"
    }
   ],
   "source": [
    "train[\"num_tokens_context\"].hist()"
   ]
  },
  {
   "cell_type": "code",
   "execution_count": 13,
   "id": "350f6d6a",
   "metadata": {
    "execution": {
     "iopub.execute_input": "2022-09-18T10:34:31.325061Z",
     "iopub.status.busy": "2022-09-18T10:34:31.324751Z",
     "iopub.status.idle": "2022-09-18T10:34:31.329149Z",
     "shell.execute_reply": "2022-09-18T10:34:31.328430Z"
    },
    "papermill": {
     "duration": 0.019019,
     "end_time": "2022-09-18T10:34:31.330839",
     "exception": false,
     "start_time": "2022-09-18T10:34:31.311820",
     "status": "completed"
    },
    "tags": []
   },
   "outputs": [],
   "source": [
    "def convert_answers(r):\n",
    "    start= r[0]\n",
    "    text= r[1]\n",
    "    return {\n",
    "        'answer_start': [start],\n",
    "        'text': [text]\n",
    "    }"
   ]
  },
  {
   "cell_type": "code",
   "execution_count": 14,
   "id": "25e79c1a",
   "metadata": {
    "execution": {
     "iopub.execute_input": "2022-09-18T10:34:31.356407Z",
     "iopub.status.busy": "2022-09-18T10:34:31.355770Z",
     "iopub.status.idle": "2022-09-18T10:34:31.377377Z",
     "shell.execute_reply": "2022-09-18T10:34:31.376699Z"
    },
    "papermill": {
     "duration": 0.03606,
     "end_time": "2022-09-18T10:34:31.379046",
     "exception": false,
     "start_time": "2022-09-18T10:34:31.342986",
     "status": "completed"
    },
    "tags": []
   },
   "outputs": [],
   "source": [
    "train = train.sample(frac=1, random_state=42)\n",
    "train['answers'] = train[['answer_start', 'answer_text']].apply(convert_answers, axis=1)"
   ]
  },
  {
   "cell_type": "code",
   "execution_count": 15,
   "id": "aee7ecf0",
   "metadata": {
    "execution": {
     "iopub.execute_input": "2022-09-18T10:34:31.404606Z",
     "iopub.status.busy": "2022-09-18T10:34:31.404013Z",
     "iopub.status.idle": "2022-09-18T10:34:31.427469Z",
     "shell.execute_reply": "2022-09-18T10:34:31.426771Z"
    },
    "papermill": {
     "duration": 0.038155,
     "end_time": "2022-09-18T10:34:31.429343",
     "exception": false,
     "start_time": "2022-09-18T10:34:31.391188",
     "status": "completed"
    },
    "tags": []
   },
   "outputs": [
    {
     "data": {
      "text/html": [
       "<div>\n",
       "<style scoped>\n",
       "    .dataframe tbody tr th:only-of-type {\n",
       "        vertical-align: middle;\n",
       "    }\n",
       "\n",
       "    .dataframe tbody tr th {\n",
       "        vertical-align: top;\n",
       "    }\n",
       "\n",
       "    .dataframe thead th {\n",
       "        text-align: right;\n",
       "    }\n",
       "</style>\n",
       "<table border=\"1\" class=\"dataframe\">\n",
       "  <thead>\n",
       "    <tr style=\"text-align: right;\">\n",
       "      <th></th>\n",
       "      <th>id</th>\n",
       "      <th>context</th>\n",
       "      <th>question</th>\n",
       "      <th>answer_text</th>\n",
       "      <th>answer_start</th>\n",
       "      <th>language</th>\n",
       "      <th>num_tokens_context</th>\n",
       "      <th>answers</th>\n",
       "    </tr>\n",
       "  </thead>\n",
       "  <tbody>\n",
       "    <tr>\n",
       "      <th>879</th>\n",
       "      <td>cd1339bdd</td>\n",
       "      <td>एरीजोना (English: Arizona) संयुक्त राज्य अमेरि...</td>\n",
       "      <td>एरिज़ोना की राजधानी क्या है?</td>\n",
       "      <td>फ़िनक्स</td>\n",
       "      <td>123</td>\n",
       "      <td>hindi</td>\n",
       "      <td>300</td>\n",
       "      <td>{'answer_start': [123], 'text': ['फ़िनक्स']}</td>\n",
       "    </tr>\n",
       "    <tr>\n",
       "      <th>101</th>\n",
       "      <td>4c38392a6</td>\n",
       "      <td>ஆத்திரேலியா, ஆஸ்திரேலியா அல்லது அவுஸ்திரேலியா ...</td>\n",
       "      <td>அவுஸ்திரேலியா நாட்டின் தலைநகரம் எது?</td>\n",
       "      <td>கான்பரா</td>\n",
       "      <td>1472</td>\n",
       "      <td>tamil</td>\n",
       "      <td>7227</td>\n",
       "      <td>{'answer_start': [1472], 'text': ['கான்பரா']}</td>\n",
       "    </tr>\n",
       "    <tr>\n",
       "      <th>1111</th>\n",
       "      <td>0d35dc007</td>\n",
       "      <td>अग्नि पंचम (अग्नि-५) भारत की अन्तरमहाद्वीपीय ब...</td>\n",
       "      <td>अग्नि पंचम(५) मिसाइल की लम्बाई कितने मीटर है?</td>\n",
       "      <td>17</td>\n",
       "      <td>155</td>\n",
       "      <td>hindi</td>\n",
       "      <td>1330</td>\n",
       "      <td>{'answer_start': [155], 'text': ['17']}</td>\n",
       "    </tr>\n",
       "    <tr>\n",
       "      <th>726</th>\n",
       "      <td>5b2018761</td>\n",
       "      <td>मदर टेरेसा (२६ अगस्त १९१० - ५ सितम्बर १९९७) जि...</td>\n",
       "      <td>मदर टेरेसा की राष्ट्रीयता क्या थी?</td>\n",
       "      <td>भारतीय</td>\n",
       "      <td>328</td>\n",
       "      <td>hindi</td>\n",
       "      <td>1694</td>\n",
       "      <td>{'answer_start': [328], 'text': ['भारतीय']}</td>\n",
       "    </tr>\n",
       "    <tr>\n",
       "      <th>291</th>\n",
       "      <td>4f99ce2e0</td>\n",
       "      <td>எம். ஜி. ஆர் என்ற பெயரில் புகழ் பெற்ற, மருதூர்...</td>\n",
       "      <td>நடிகர் ம. கோ. இராமச்சந்திரன் எப்போது பிறந்தார்?</td>\n",
       "      <td>சனவரி 17, 1917</td>\n",
       "      <td>99</td>\n",
       "      <td>tamil</td>\n",
       "      <td>4898</td>\n",
       "      <td>{'answer_start': [99], 'text': ['சனவரி 17, 191...</td>\n",
       "    </tr>\n",
       "    <tr>\n",
       "      <th>...</th>\n",
       "      <td>...</td>\n",
       "      <td>...</td>\n",
       "      <td>...</td>\n",
       "      <td>...</td>\n",
       "      <td>...</td>\n",
       "      <td>...</td>\n",
       "      <td>...</td>\n",
       "      <td>...</td>\n",
       "    </tr>\n",
       "    <tr>\n",
       "      <th>466</th>\n",
       "      <td>3acaa3b86</td>\n",
       "      <td>अरस्तु (384 ईपू – 322 ईपू) यूनानी दार्शनिक थे।...</td>\n",
       "      <td>अरस्तु का जन्म कहाँ हुआ था?</td>\n",
       "      <td>स्टेगेरिया</td>\n",
       "      <td>97</td>\n",
       "      <td>hindi</td>\n",
       "      <td>1433</td>\n",
       "      <td>{'answer_start': [97], 'text': ['स्टेगेरिया']}</td>\n",
       "    </tr>\n",
       "    <tr>\n",
       "      <th>121</th>\n",
       "      <td>7a3e4bf22</td>\n",
       "      <td>சிந்துவெளி நாகரிகம் (Indus Valley Civilisation...</td>\n",
       "      <td>சிந்து சமவெளி நாகரிகம் எப்போது உருவானது?</td>\n",
       "      <td>கி.மு 3000</td>\n",
       "      <td>305</td>\n",
       "      <td>tamil</td>\n",
       "      <td>4319</td>\n",
       "      <td>{'answer_start': [305], 'text': ['கி.மு 3000']}</td>\n",
       "    </tr>\n",
       "    <tr>\n",
       "      <th>1044</th>\n",
       "      <td>de34ee0a0</td>\n",
       "      <td>Main Page\\n\\nआई एन एस (INS) विक्रमादित्य  (San...</td>\n",
       "      <td>आई एन एस विक्रमादित्य युद्धपोत किस कंपनी द्वार...</td>\n",
       "      <td>माइकोलैव ब्लैक ‍सी शिपयार्ड</td>\n",
       "      <td>460</td>\n",
       "      <td>hindi</td>\n",
       "      <td>3129</td>\n",
       "      <td>{'answer_start': [460], 'text': ['माइकोलैव ब्ल...</td>\n",
       "    </tr>\n",
       "    <tr>\n",
       "      <th>1095</th>\n",
       "      <td>518fc3aaf</td>\n",
       "      <td>अमेरिकी क्रन्तिकारी युद्ध (1775–1783), जिसे सं...</td>\n",
       "      <td>कितने अमेरिकी उपनिवेश अमेरिकी क्रांति का हिस्स...</td>\n",
       "      <td>तेरह</td>\n",
       "      <td>147</td>\n",
       "      <td>hindi</td>\n",
       "      <td>7119</td>\n",
       "      <td>{'answer_start': [147], 'text': ['तेरह']}</td>\n",
       "    </tr>\n",
       "    <tr>\n",
       "      <th>860</th>\n",
       "      <td>632812604</td>\n",
       "      <td>संयुक्त राष्ट्र संगठन का मुख्यालय [[[अमेरिका]]...</td>\n",
       "      <td>संयुक्त राष्ट्र का मुख्यालय कहाँ पर है?</td>\n",
       "      <td>न्युयॉर्क</td>\n",
       "      <td>50</td>\n",
       "      <td>hindi</td>\n",
       "      <td>100</td>\n",
       "      <td>{'answer_start': [50], 'text': ['न्युयॉर्क']}</td>\n",
       "    </tr>\n",
       "  </tbody>\n",
       "</table>\n",
       "<p>1114 rows × 8 columns</p>\n",
       "</div>"
      ],
      "text/plain": [
       "             id                                            context  \\\n",
       "879   cd1339bdd  एरीजोना (English: Arizona) संयुक्त राज्य अमेरि...   \n",
       "101   4c38392a6  ஆத்திரேலியா, ஆஸ்திரேலியா அல்லது அவுஸ்திரேலியா ...   \n",
       "1111  0d35dc007  अग्नि पंचम (अग्नि-५) भारत की अन्तरमहाद्वीपीय ब...   \n",
       "726   5b2018761  मदर टेरेसा (२६ अगस्त १९१० - ५ सितम्बर १९९७) जि...   \n",
       "291   4f99ce2e0  எம். ஜி. ஆர் என்ற பெயரில் புகழ் பெற்ற, மருதூர்...   \n",
       "...         ...                                                ...   \n",
       "466   3acaa3b86  अरस्तु (384 ईपू – 322 ईपू) यूनानी दार्शनिक थे।...   \n",
       "121   7a3e4bf22  சிந்துவெளி நாகரிகம் (Indus Valley Civilisation...   \n",
       "1044  de34ee0a0  Main Page\\n\\nआई एन एस (INS) विक्रमादित्य  (San...   \n",
       "1095  518fc3aaf  अमेरिकी क्रन्तिकारी युद्ध (1775–1783), जिसे सं...   \n",
       "860   632812604  संयुक्त राष्ट्र संगठन का मुख्यालय [[[अमेरिका]]...   \n",
       "\n",
       "                                               question  \\\n",
       "879                        एरिज़ोना की राजधानी क्या है?   \n",
       "101                அவுஸ்திரேலியா நாட்டின் தலைநகரம் எது?   \n",
       "1111      अग्नि पंचम(५) मिसाइल की लम्बाई कितने मीटर है?   \n",
       "726                  मदर टेरेसा की राष्ट्रीयता क्या थी?   \n",
       "291     நடிகர் ம. கோ. இராமச்சந்திரன் எப்போது பிறந்தார்?   \n",
       "...                                                 ...   \n",
       "466                         अरस्तु का जन्म कहाँ हुआ था?   \n",
       "121            சிந்து சமவெளி நாகரிகம் எப்போது உருவானது?   \n",
       "1044  आई एन एस विक्रमादित्य युद्धपोत किस कंपनी द्वार...   \n",
       "1095  कितने अमेरिकी उपनिवेश अमेरिकी क्रांति का हिस्स...   \n",
       "860             संयुक्त राष्ट्र का मुख्यालय कहाँ पर है?   \n",
       "\n",
       "                      answer_text  answer_start language  num_tokens_context  \\\n",
       "879                       फ़िनक्स           123    hindi                 300   \n",
       "101                       கான்பரா          1472    tamil                7227   \n",
       "1111                           17           155    hindi                1330   \n",
       "726                        भारतीय           328    hindi                1694   \n",
       "291                சனவரி 17, 1917            99    tamil                4898   \n",
       "...                           ...           ...      ...                 ...   \n",
       "466                    स्टेगेरिया            97    hindi                1433   \n",
       "121                    கி.மு 3000           305    tamil                4319   \n",
       "1044  माइकोलैव ब्लैक ‍सी शिपयार्ड           460    hindi                3129   \n",
       "1095                         तेरह           147    hindi                7119   \n",
       "860                     न्युयॉर्क            50    hindi                 100   \n",
       "\n",
       "                                                answers  \n",
       "879        {'answer_start': [123], 'text': ['फ़िनक्स']}  \n",
       "101       {'answer_start': [1472], 'text': ['கான்பரா']}  \n",
       "1111            {'answer_start': [155], 'text': ['17']}  \n",
       "726         {'answer_start': [328], 'text': ['भारतीय']}  \n",
       "291   {'answer_start': [99], 'text': ['சனவரி 17, 191...  \n",
       "...                                                 ...  \n",
       "466      {'answer_start': [97], 'text': ['स्टेगेरिया']}  \n",
       "121     {'answer_start': [305], 'text': ['கி.மு 3000']}  \n",
       "1044  {'answer_start': [460], 'text': ['माइकोलैव ब्ल...  \n",
       "1095          {'answer_start': [147], 'text': ['तेरह']}  \n",
       "860       {'answer_start': [50], 'text': ['न्युयॉर्क']}  \n",
       "\n",
       "[1114 rows x 8 columns]"
      ]
     },
     "execution_count": 15,
     "metadata": {},
     "output_type": "execute_result"
    }
   ],
   "source": [
    "train"
   ]
  },
  {
   "cell_type": "code",
   "execution_count": 16,
   "id": "61cab279",
   "metadata": {
    "execution": {
     "iopub.execute_input": "2022-09-18T10:34:31.455694Z",
     "iopub.status.busy": "2022-09-18T10:34:31.455057Z",
     "iopub.status.idle": "2022-09-18T10:34:31.460926Z",
     "shell.execute_reply": "2022-09-18T10:34:31.460179Z"
    },
    "papermill": {
     "duration": 0.020663,
     "end_time": "2022-09-18T10:34:31.462566",
     "exception": false,
     "start_time": "2022-09-18T10:34:31.441903",
     "status": "completed"
    },
    "tags": []
   },
   "outputs": [],
   "source": [
    "df_train = train[:-64].reset_index(drop=True)\n",
    "df_valid = train[-64:].reset_index(drop=True)\n"
   ]
  },
  {
   "cell_type": "code",
   "execution_count": 17,
   "id": "fbf5e3be",
   "metadata": {
    "execution": {
     "iopub.execute_input": "2022-09-18T10:34:31.488857Z",
     "iopub.status.busy": "2022-09-18T10:34:31.488273Z",
     "iopub.status.idle": "2022-09-18T10:34:31.503007Z",
     "shell.execute_reply": "2022-09-18T10:34:31.502301Z"
    },
    "papermill": {
     "duration": 0.030027,
     "end_time": "2022-09-18T10:34:31.504914",
     "exception": false,
     "start_time": "2022-09-18T10:34:31.474887",
     "status": "completed"
    },
    "tags": []
   },
   "outputs": [
    {
     "data": {
      "text/html": [
       "<div>\n",
       "<style scoped>\n",
       "    .dataframe tbody tr th:only-of-type {\n",
       "        vertical-align: middle;\n",
       "    }\n",
       "\n",
       "    .dataframe tbody tr th {\n",
       "        vertical-align: top;\n",
       "    }\n",
       "\n",
       "    .dataframe thead th {\n",
       "        text-align: right;\n",
       "    }\n",
       "</style>\n",
       "<table border=\"1\" class=\"dataframe\">\n",
       "  <thead>\n",
       "    <tr style=\"text-align: right;\">\n",
       "      <th></th>\n",
       "      <th>id</th>\n",
       "      <th>context</th>\n",
       "      <th>question</th>\n",
       "      <th>answer_text</th>\n",
       "      <th>answer_start</th>\n",
       "      <th>language</th>\n",
       "      <th>num_tokens_context</th>\n",
       "      <th>answers</th>\n",
       "    </tr>\n",
       "  </thead>\n",
       "  <tbody>\n",
       "    <tr>\n",
       "      <th>0</th>\n",
       "      <td>cd1339bdd</td>\n",
       "      <td>एरीजोना (English: Arizona) संयुक्त राज्य अमेरि...</td>\n",
       "      <td>एरिज़ोना की राजधानी क्या है?</td>\n",
       "      <td>फ़िनक्स</td>\n",
       "      <td>123</td>\n",
       "      <td>hindi</td>\n",
       "      <td>300</td>\n",
       "      <td>{'answer_start': [123], 'text': ['फ़िनक्स']}</td>\n",
       "    </tr>\n",
       "    <tr>\n",
       "      <th>1</th>\n",
       "      <td>4c38392a6</td>\n",
       "      <td>ஆத்திரேலியா, ஆஸ்திரேலியா அல்லது அவுஸ்திரேலியா ...</td>\n",
       "      <td>அவுஸ்திரேலியா நாட்டின் தலைநகரம் எது?</td>\n",
       "      <td>கான்பரா</td>\n",
       "      <td>1472</td>\n",
       "      <td>tamil</td>\n",
       "      <td>7227</td>\n",
       "      <td>{'answer_start': [1472], 'text': ['கான்பரா']}</td>\n",
       "    </tr>\n",
       "    <tr>\n",
       "      <th>2</th>\n",
       "      <td>0d35dc007</td>\n",
       "      <td>अग्नि पंचम (अग्नि-५) भारत की अन्तरमहाद्वीपीय ब...</td>\n",
       "      <td>अग्नि पंचम(५) मिसाइल की लम्बाई कितने मीटर है?</td>\n",
       "      <td>17</td>\n",
       "      <td>155</td>\n",
       "      <td>hindi</td>\n",
       "      <td>1330</td>\n",
       "      <td>{'answer_start': [155], 'text': ['17']}</td>\n",
       "    </tr>\n",
       "    <tr>\n",
       "      <th>3</th>\n",
       "      <td>5b2018761</td>\n",
       "      <td>मदर टेरेसा (२६ अगस्त १९१० - ५ सितम्बर १९९७) जि...</td>\n",
       "      <td>मदर टेरेसा की राष्ट्रीयता क्या थी?</td>\n",
       "      <td>भारतीय</td>\n",
       "      <td>328</td>\n",
       "      <td>hindi</td>\n",
       "      <td>1694</td>\n",
       "      <td>{'answer_start': [328], 'text': ['भारतीय']}</td>\n",
       "    </tr>\n",
       "    <tr>\n",
       "      <th>4</th>\n",
       "      <td>4f99ce2e0</td>\n",
       "      <td>எம். ஜி. ஆர் என்ற பெயரில் புகழ் பெற்ற, மருதூர்...</td>\n",
       "      <td>நடிகர் ம. கோ. இராமச்சந்திரன் எப்போது பிறந்தார்?</td>\n",
       "      <td>சனவரி 17, 1917</td>\n",
       "      <td>99</td>\n",
       "      <td>tamil</td>\n",
       "      <td>4898</td>\n",
       "      <td>{'answer_start': [99], 'text': ['சனவரி 17, 191...</td>\n",
       "    </tr>\n",
       "  </tbody>\n",
       "</table>\n",
       "</div>"
      ],
      "text/plain": [
       "          id                                            context  \\\n",
       "0  cd1339bdd  एरीजोना (English: Arizona) संयुक्त राज्य अमेरि...   \n",
       "1  4c38392a6  ஆத்திரேலியா, ஆஸ்திரேலியா அல்லது அவுஸ்திரேலியா ...   \n",
       "2  0d35dc007  अग्नि पंचम (अग्नि-५) भारत की अन्तरमहाद्वीपीय ब...   \n",
       "3  5b2018761  मदर टेरेसा (२६ अगस्त १९१० - ५ सितम्बर १९९७) जि...   \n",
       "4  4f99ce2e0  எம். ஜி. ஆர் என்ற பெயரில் புகழ் பெற்ற, மருதூர்...   \n",
       "\n",
       "                                          question     answer_text  \\\n",
       "0                     एरिज़ोना की राजधानी क्या है?         फ़िनक्स   \n",
       "1             அவுஸ்திரேலியா நாட்டின் தலைநகரம் எது?         கான்பரா   \n",
       "2    अग्नि पंचम(५) मिसाइल की लम्बाई कितने मीटर है?              17   \n",
       "3               मदर टेरेसा की राष्ट्रीयता क्या थी?          भारतीय   \n",
       "4  நடிகர் ம. கோ. இராமச்சந்திரன் எப்போது பிறந்தார்?  சனவரி 17, 1917   \n",
       "\n",
       "   answer_start language  num_tokens_context  \\\n",
       "0           123    hindi                 300   \n",
       "1          1472    tamil                7227   \n",
       "2           155    hindi                1330   \n",
       "3           328    hindi                1694   \n",
       "4            99    tamil                4898   \n",
       "\n",
       "                                             answers  \n",
       "0       {'answer_start': [123], 'text': ['फ़िनक्स']}  \n",
       "1      {'answer_start': [1472], 'text': ['கான்பரா']}  \n",
       "2            {'answer_start': [155], 'text': ['17']}  \n",
       "3        {'answer_start': [328], 'text': ['भारतीय']}  \n",
       "4  {'answer_start': [99], 'text': ['சனவரி 17, 191...  "
      ]
     },
     "execution_count": 17,
     "metadata": {},
     "output_type": "execute_result"
    }
   ],
   "source": [
    "df_train.head()"
   ]
  },
  {
   "cell_type": "code",
   "execution_count": 18,
   "id": "551711ba",
   "metadata": {
    "execution": {
     "iopub.execute_input": "2022-09-18T10:34:31.531529Z",
     "iopub.status.busy": "2022-09-18T10:34:31.530891Z",
     "iopub.status.idle": "2022-09-18T10:34:31.820103Z",
     "shell.execute_reply": "2022-09-18T10:34:31.819323Z"
    },
    "papermill": {
     "duration": 0.304762,
     "end_time": "2022-09-18T10:34:31.822274",
     "exception": false,
     "start_time": "2022-09-18T10:34:31.517512",
     "status": "completed"
    },
    "tags": []
   },
   "outputs": [],
   "source": [
    "from datasets import Dataset"
   ]
  },
  {
   "cell_type": "code",
   "execution_count": 19,
   "id": "77629c9e",
   "metadata": {
    "execution": {
     "iopub.execute_input": "2022-09-18T10:34:31.849729Z",
     "iopub.status.busy": "2022-09-18T10:34:31.849197Z",
     "iopub.status.idle": "2022-09-18T10:34:43.878255Z",
     "shell.execute_reply": "2022-09-18T10:34:43.877178Z"
    },
    "papermill": {
     "duration": 12.044901,
     "end_time": "2022-09-18T10:34:43.880537",
     "exception": false,
     "start_time": "2022-09-18T10:34:31.835636",
     "status": "completed"
    },
    "tags": []
   },
   "outputs": [
    {
     "name": "stdout",
     "output_type": "stream",
     "text": [
      "huggingface/tokenizers: The current process just got forked, after parallelism has already been used. Disabling parallelism to avoid deadlocks...\n",
      "To disable this warning, you can either:\n",
      "\t- Avoid using `tokenizers` before the fork if possible\n",
      "\t- Explicitly set the environment variable TOKENIZERS_PARALLELISM=(true | false)\n",
      "huggingface/tokenizers: The current process just got forked, after parallelism has already been used. Disabling parallelism to avoid deadlocks...\n",
      "To disable this warning, you can either:\n",
      "\t- Avoid using `tokenizers` before the fork if possible\n",
      "\t- Explicitly set the environment variable TOKENIZERS_PARALLELISM=(true | false)\n",
      "\u001b[31mERROR: pip's dependency resolver does not currently take into account all the packages that are installed. This behaviour is the source of the following dependency conflicts.\r\n",
      "dask-cudf 21.10.1 requires cupy-cuda114, which is not installed.\r\n",
      "s3fs 2022.5.0 requires fsspec==2022.5.0, but you have fsspec 2021.6.0 which is incompatible.\r\n",
      "pytorch-lightning 1.6.3 requires fsspec[http]!=2021.06.0,>=2021.05.0, but you have fsspec 2021.6.0 which is incompatible.\r\n",
      "gcsfs 2022.3.0 requires fsspec==2022.3.0, but you have fsspec 2021.6.0 which is incompatible.\r\n",
      "dask-cudf 21.10.1 requires dask==2021.09.1, but you have dask 2022.2.0 which is incompatible.\r\n",
      "dask-cudf 21.10.1 requires distributed==2021.09.1, but you have distributed 2022.2.0 which is incompatible.\u001b[0m\u001b[31m\r\n",
      "\u001b[0m"
     ]
    }
   ],
   "source": [
    "!pip uninstall fsspec -qq -y\n",
    "!pip install --no-index --find-links ../input/hf-datasets/wheels datasets -qq"
   ]
  },
  {
   "cell_type": "code",
   "execution_count": 20,
   "id": "0915b614",
   "metadata": {
    "execution": {
     "iopub.execute_input": "2022-09-18T10:34:43.910149Z",
     "iopub.status.busy": "2022-09-18T10:34:43.909813Z",
     "iopub.status.idle": "2022-09-18T10:34:43.994033Z",
     "shell.execute_reply": "2022-09-18T10:34:43.993225Z"
    },
    "papermill": {
     "duration": 0.102285,
     "end_time": "2022-09-18T10:34:43.996155",
     "exception": false,
     "start_time": "2022-09-18T10:34:43.893870",
     "status": "completed"
    },
    "tags": []
   },
   "outputs": [],
   "source": [
    "train_dataset = Dataset.from_pandas(df_train)\n",
    "valid_dataset = Dataset.from_pandas(df_valid)"
   ]
  },
  {
   "cell_type": "code",
   "execution_count": 21,
   "id": "36c84e54",
   "metadata": {
    "execution": {
     "iopub.execute_input": "2022-09-18T10:34:44.024179Z",
     "iopub.status.busy": "2022-09-18T10:34:44.023539Z",
     "iopub.status.idle": "2022-09-18T10:34:44.032052Z",
     "shell.execute_reply": "2022-09-18T10:34:44.031257Z"
    },
    "papermill": {
     "duration": 0.024289,
     "end_time": "2022-09-18T10:34:44.033805",
     "exception": false,
     "start_time": "2022-09-18T10:34:44.009516",
     "status": "completed"
    },
    "tags": []
   },
   "outputs": [
    {
     "data": {
      "text/plain": [
       "{'id': 'cd1339bdd',\n",
       " 'context': 'एरीजोना (English: Arizona) संयुक्त राज्य अमेरिका के दक्षिणपश्चिमी हिस्से में स्थित राज्य है। इसका सबसे बड़ा शहर और राजधानी फ़िनक्स है। दूसरा सबसे बड़ा राज्य टक्सन है और उसके बाद फ़िनक्स के महानगर क्षेत्र स्थित शहर मेसा, ग्लेनडेल, चंदलर और स्कोत्ट्सडेल है।\\nएरीजोना संयुक्त राज्यों में शामिल होने वाला ४८व राज्य था जिसे की इसमें १४ फरबरी १९१२ को समिलित किया गया। इसी दिन इस राज्य की देश में माने जाने वाली भूमि की वर्षागाठ भी थी। एरीजोना अपने रेगिस्तानी मौसम, भयंकर गर्मी और हल्की ठंड के लिए जाना जाता है। पर राज्य के उच्च इलाकों में बहुत पहाड़ व जंगल है, इसी कारण वहाँ का मौसम अन्य राज्य के मुकाबले ठंडा रहता है। जुलाई १ २००६ के अनुसार एरीजोना देश में आबादी के हिसाब से सबसे तेजी से बढ़ता राज्य है। इससे पहले यह दर्जा नेवादा के पास था।\\nराज्य का एक-चौथाई इलाका मूल अमेरिकी आदिवासी के लिये संरक्षित है। राज्य की आधिकरिक भाषा अँग्रेजी है जिसे बोलने वाले जनसंख्या के 74 प्रतिशत है। स्पेनी 19.5 प्रतिशत द्वारा बोली जाती है। 2015 में राज्य की आबादी 68,28,065 अनुमानित की गई है। जिस हिसाब से उसका अमेरिकी राज्यों में 14वां स्थान है।\\n\\n\\nश्रेणी:संयुक्त राज्य अमेरिका के राज्य',\n",
       " 'question': 'एरिज़ोना की राजधानी क्या है?',\n",
       " 'answer_text': 'फ़िनक्स',\n",
       " 'answer_start': 123,\n",
       " 'language': 'hindi',\n",
       " 'num_tokens_context': 300,\n",
       " 'answers': {'answer_start': [123], 'text': ['फ़िनक्स']}}"
      ]
     },
     "execution_count": 21,
     "metadata": {},
     "output_type": "execute_result"
    }
   ],
   "source": [
    "train_dataset[0]"
   ]
  },
  {
   "cell_type": "code",
   "execution_count": 22,
   "id": "41022573",
   "metadata": {
    "execution": {
     "iopub.execute_input": "2022-09-18T10:34:44.061510Z",
     "iopub.status.busy": "2022-09-18T10:34:44.060879Z",
     "iopub.status.idle": "2022-09-18T10:34:44.064750Z",
     "shell.execute_reply": "2022-09-18T10:34:44.064049Z"
    },
    "papermill": {
     "duration": 0.019818,
     "end_time": "2022-09-18T10:34:44.066672",
     "exception": false,
     "start_time": "2022-09-18T10:34:44.046854",
     "status": "completed"
    },
    "tags": []
   },
   "outputs": [],
   "source": [
    "max_length = 384 # The maximum length of a feature (question and context)\n",
    "doc_stride = 128\n",
    "pad_on_right = tokenizer.padding_side == \"right\"\n",
    "batch_size=4"
   ]
  },
  {
   "cell_type": "code",
   "execution_count": 23,
   "id": "8446bcc3",
   "metadata": {
    "execution": {
     "iopub.execute_input": "2022-09-18T10:34:44.094402Z",
     "iopub.status.busy": "2022-09-18T10:34:44.094138Z",
     "iopub.status.idle": "2022-09-18T10:34:44.106078Z",
     "shell.execute_reply": "2022-09-18T10:34:44.105322Z"
    },
    "papermill": {
     "duration": 0.028017,
     "end_time": "2022-09-18T10:34:44.107885",
     "exception": false,
     "start_time": "2022-09-18T10:34:44.079868",
     "status": "completed"
    },
    "tags": []
   },
   "outputs": [],
   "source": [
    "def prepare_train_features(examples):\n",
    "    # Some of the questions have lots of whitespace on the left, which is not useful and will make the\n",
    "    # truncation of the context fail (the tokenized question will take a lots of space). So we remove that\n",
    "    # left whitespace\n",
    "    examples[\"question\"] = [q.lstrip() for q in examples[\"question\"]]\n",
    "\n",
    "    # Tokenize our examples with truncation and padding, but keep the overflows using a stride. This results\n",
    "    # in one example possible giving several features when a context is long, each of those features having a\n",
    "    # context that overlaps a bit the context of the previous feature.\n",
    "    tokenized_examples = tokenizer(\n",
    "        examples[\"question\" if pad_on_right else \"context\"],\n",
    "        examples[\"context\" if pad_on_right else \"question\"],\n",
    "        truncation=\"only_second\" if pad_on_right else \"only_first\",\n",
    "        max_length=max_length,\n",
    "        stride=doc_stride,\n",
    "        return_overflowing_tokens=True,\n",
    "        return_offsets_mapping=True,\n",
    "        padding=\"max_length\",\n",
    "    )\n",
    "\n",
    "    # Since one example might give us several features if it has a long context, we need a map from a feature to\n",
    "    # its corresponding example. This key gives us just that.\n",
    "    sample_mapping = tokenized_examples.pop(\"overflow_to_sample_mapping\")\n",
    "    # The offset mappings will give us a map from token to character position in the original context. This will\n",
    "    # help us compute the start_positions and end_positions.\n",
    "    offset_mapping = tokenized_examples.pop(\"offset_mapping\")\n",
    "\n",
    "    # Let's label those examples!\n",
    "    tokenized_examples[\"start_positions\"] = []\n",
    "    tokenized_examples[\"end_positions\"] = []\n",
    "\n",
    "    for i, offsets in enumerate(offset_mapping):\n",
    "        # We will label impossible answers with the index of the CLS token.\n",
    "        input_ids = tokenized_examples[\"input_ids\"][i]\n",
    "        cls_index = input_ids.index(tokenizer.cls_token_id)\n",
    "\n",
    "        # Grab the sequence corresponding to that example (to know what is the context and what is the question).\n",
    "        sequence_ids = tokenized_examples.sequence_ids(i)\n",
    "\n",
    "        # One example can give several spans, this is the index of the example containing this span of text.\n",
    "        sample_index = sample_mapping[i]\n",
    "        answers = examples[\"answers\"][sample_index]\n",
    "        # If no answers are given, set the cls_index as answer.\n",
    "        if len(answers[\"answer_start\"]) == 0:\n",
    "            tokenized_examples[\"start_positions\"].append(cls_index)\n",
    "            tokenized_examples[\"end_positions\"].append(cls_index)\n",
    "        else:\n",
    "            # Start/end character index of the answer in the text.\n",
    "            start_char = answers[\"answer_start\"][0]\n",
    "            end_char = start_char + len(answers[\"text\"][0])\n",
    "\n",
    "            # Start token index of the current span in the text.\n",
    "            token_start_index = 0\n",
    "            while sequence_ids[token_start_index] != (1 if pad_on_right else 0):\n",
    "                token_start_index += 1\n",
    "\n",
    "            # End token index of the current span in the text.\n",
    "            token_end_index = len(input_ids) - 1\n",
    "            while sequence_ids[token_end_index] != (1 if pad_on_right else 0):\n",
    "                token_end_index -= 1\n",
    "\n",
    "            # Detect if the answer is out of the span (in which case this feature is labeled with the CLS index).\n",
    "            if not (offsets[token_start_index][0] <= start_char and offsets[token_end_index][1] >= end_char):\n",
    "                tokenized_examples[\"start_positions\"].append(cls_index)\n",
    "                tokenized_examples[\"end_positions\"].append(cls_index)\n",
    "            else:\n",
    "                # Otherwise move the token_start_index and token_end_index to the two ends of the answer.\n",
    "                # Note: we could go after the last offset if the answer is the last word (edge case).\n",
    "                while token_start_index < len(offsets) and offsets[token_start_index][0] <= start_char:\n",
    "                    token_start_index += 1\n",
    "                tokenized_examples[\"start_positions\"].append(token_start_index - 1)\n",
    "                while offsets[token_end_index][1] >= end_char:\n",
    "                    token_end_index -= 1\n",
    "                tokenized_examples[\"end_positions\"].append(token_end_index + 1)\n",
    "\n",
    "    return tokenized_examples"
   ]
  },
  {
   "cell_type": "code",
   "execution_count": 24,
   "id": "691fb559",
   "metadata": {
    "execution": {
     "iopub.execute_input": "2022-09-18T10:34:44.135040Z",
     "iopub.status.busy": "2022-09-18T10:34:44.134418Z",
     "iopub.status.idle": "2022-09-18T10:35:20.747759Z",
     "shell.execute_reply": "2022-09-18T10:35:20.746926Z"
    },
    "papermill": {
     "duration": 36.628864,
     "end_time": "2022-09-18T10:35:20.749608",
     "exception": false,
     "start_time": "2022-09-18T10:34:44.120744",
     "status": "completed"
    },
    "tags": []
   },
   "outputs": [
    {
     "data": {
      "application/vnd.jupyter.widget-view+json": {
       "model_id": "76c30244eca24ba09875337ebf7b96c1",
       "version_major": 2,
       "version_minor": 0
      },
      "text/plain": [
       "  0%|          | 0/2 [00:00<?, ?ba/s]"
      ]
     },
     "metadata": {},
     "output_type": "display_data"
    },
    {
     "data": {
      "application/vnd.jupyter.widget-view+json": {
       "model_id": "e4c2284b12424badad94a3d6e498dcbb",
       "version_major": 2,
       "version_minor": 0
      },
      "text/plain": [
       "  0%|          | 0/1 [00:00<?, ?ba/s]"
      ]
     },
     "metadata": {},
     "output_type": "display_data"
    }
   ],
   "source": [
    "tokenized_train_ds = train_dataset.map(prepare_train_features, batched=True, remove_columns=train_dataset.column_names)\n",
    "tokenized_valid_ds = valid_dataset.map(prepare_train_features, batched=True, remove_columns=train_dataset.column_names)"
   ]
  },
  {
   "cell_type": "code",
   "execution_count": 25,
   "id": "8fe30d5d",
   "metadata": {
    "execution": {
     "iopub.execute_input": "2022-09-18T10:35:20.777994Z",
     "iopub.status.busy": "2022-09-18T10:35:20.777343Z",
     "iopub.status.idle": "2022-09-18T10:35:56.617462Z",
     "shell.execute_reply": "2022-09-18T10:35:56.616604Z"
    },
    "papermill": {
     "duration": 35.856409,
     "end_time": "2022-09-18T10:35:56.619610",
     "exception": false,
     "start_time": "2022-09-18T10:35:20.763201",
     "status": "completed"
    },
    "tags": []
   },
   "outputs": [],
   "source": [
    "from transformers import AutoModelForQuestionAnswering, TrainingArguments, Trainer\n",
    "\n",
    "model = AutoModelForQuestionAnswering.from_pretrained(model_checkpoint)"
   ]
  },
  {
   "cell_type": "code",
   "execution_count": 26,
   "id": "93b29448",
   "metadata": {
    "execution": {
     "iopub.execute_input": "2022-09-18T10:35:56.648448Z",
     "iopub.status.busy": "2022-09-18T10:35:56.647785Z",
     "iopub.status.idle": "2022-09-18T10:35:56.731210Z",
     "shell.execute_reply": "2022-09-18T10:35:56.730407Z"
    },
    "papermill": {
     "duration": 0.099833,
     "end_time": "2022-09-18T10:35:56.733099",
     "exception": false,
     "start_time": "2022-09-18T10:35:56.633266",
     "status": "completed"
    },
    "tags": []
   },
   "outputs": [],
   "source": [
    "args = TrainingArguments(\n",
    "    f\"chaii-qa\",\n",
    "    evaluation_strategy = \"epoch\",\n",
    "    save_strategy = \"epoch\",\n",
    "    learning_rate=3e-5,\n",
    "    warmup_ratio=0.1,\n",
    "    gradient_accumulation_steps=8,\n",
    "    per_device_train_batch_size=batch_size,\n",
    "    per_device_eval_batch_size=batch_size,\n",
    "    num_train_epochs=1,\n",
    "    weight_decay=0.01,\n",
    ")"
   ]
  },
  {
   "cell_type": "code",
   "execution_count": 27,
   "id": "59c6fdd8",
   "metadata": {
    "execution": {
     "iopub.execute_input": "2022-09-18T10:35:56.760899Z",
     "iopub.status.busy": "2022-09-18T10:35:56.760590Z",
     "iopub.status.idle": "2022-09-18T10:35:56.764557Z",
     "shell.execute_reply": "2022-09-18T10:35:56.763708Z"
    },
    "papermill": {
     "duration": 0.019771,
     "end_time": "2022-09-18T10:35:56.766405",
     "exception": false,
     "start_time": "2022-09-18T10:35:56.746634",
     "status": "completed"
    },
    "tags": []
   },
   "outputs": [],
   "source": [
    "from transformers import default_data_collator\n",
    "\n",
    "data_collator = default_data_collator"
   ]
  },
  {
   "cell_type": "code",
   "execution_count": 28,
   "id": "51e0ff19",
   "metadata": {
    "execution": {
     "iopub.execute_input": "2022-09-18T10:35:56.793861Z",
     "iopub.status.busy": "2022-09-18T10:35:56.793221Z",
     "iopub.status.idle": "2022-09-18T10:36:03.057592Z",
     "shell.execute_reply": "2022-09-18T10:36:03.056023Z"
    },
    "papermill": {
     "duration": 6.280761,
     "end_time": "2022-09-18T10:36:03.060156",
     "exception": false,
     "start_time": "2022-09-18T10:35:56.779395",
     "status": "completed"
    },
    "tags": []
   },
   "outputs": [
    {
     "name": "stdout",
     "output_type": "stream",
     "text": [
      "huggingface/tokenizers: The current process just got forked, after parallelism has already been used. Disabling parallelism to avoid deadlocks...\n",
      "To disable this warning, you can either:\n",
      "\t- Avoid using `tokenizers` before the fork if possible\n",
      "\t- Explicitly set the environment variable TOKENIZERS_PARALLELISM=(true | false)\n",
      "huggingface/tokenizers: The current process just got forked, after parallelism has already been used. Disabling parallelism to avoid deadlocks...\n",
      "To disable this warning, you can either:\n",
      "\t- Avoid using `tokenizers` before the fork if possible\n",
      "\t- Explicitly set the environment variable TOKENIZERS_PARALLELISM=(true | false)\n",
      "huggingface/tokenizers: The current process just got forked, after parallelism has already been used. Disabling parallelism to avoid deadlocks...\n",
      "To disable this warning, you can either:\n",
      "\t- Avoid using `tokenizers` before the fork if possible\n",
      "\t- Explicitly set the environment variable TOKENIZERS_PARALLELISM=(true | false)\n"
     ]
    }
   ],
   "source": [
    "trainer = Trainer(\n",
    "    model,\n",
    "    args,\n",
    "    train_dataset=tokenized_train_ds,\n",
    "    eval_dataset=tokenized_valid_ds,\n",
    "    data_collator=data_collator,\n",
    "    tokenizer=tokenizer,\n",
    ")"
   ]
  },
  {
   "cell_type": "code",
   "execution_count": 29,
   "id": "8727a073",
   "metadata": {
    "execution": {
     "iopub.execute_input": "2022-09-18T10:36:03.089964Z",
     "iopub.status.busy": "2022-09-18T10:36:03.089633Z",
     "iopub.status.idle": "2022-09-18T10:36:03.095743Z",
     "shell.execute_reply": "2022-09-18T10:36:03.094723Z"
    },
    "papermill": {
     "duration": 0.022435,
     "end_time": "2022-09-18T10:36:03.097597",
     "exception": false,
     "start_time": "2022-09-18T10:36:03.075162",
     "status": "completed"
    },
    "tags": []
   },
   "outputs": [
    {
     "name": "stdout",
     "output_type": "stream",
     "text": [
      "env: WANDB_DISABLED=True\n"
     ]
    }
   ],
   "source": [
    "%env WANDB_DISABLED=True"
   ]
  },
  {
   "cell_type": "code",
   "execution_count": 30,
   "id": "f5772846",
   "metadata": {
    "execution": {
     "iopub.execute_input": "2022-09-18T10:36:03.125041Z",
     "iopub.status.busy": "2022-09-18T10:36:03.124741Z",
     "iopub.status.idle": "2022-09-18T10:38:39.805515Z",
     "shell.execute_reply": "2022-09-18T10:38:39.803687Z"
    },
    "papermill": {
     "duration": 156.696771,
     "end_time": "2022-09-18T10:38:39.807524",
     "exception": false,
     "start_time": "2022-09-18T10:36:03.110753",
     "status": "completed"
    },
    "tags": []
   },
   "outputs": [
    {
     "name": "stdout",
     "output_type": "stream",
     "text": [
      "huggingface/tokenizers: The current process just got forked, after parallelism has already been used. Disabling parallelism to avoid deadlocks...\n",
      "To disable this warning, you can either:\n",
      "\t- Avoid using `tokenizers` before the fork if possible\n",
      "\t- Explicitly set the environment variable TOKENIZERS_PARALLELISM=(true | false)\n",
      "Requirement already satisfied: wandb in /opt/conda/lib/python3.7/site-packages (0.12.16)\r\n",
      "\u001b[33mWARNING: Retrying (Retry(total=4, connect=None, read=None, redirect=None, status=None)) after connection broken by 'NewConnectionError('<pip._vendor.urllib3.connection.HTTPSConnection object at 0x7f094462b690>: Failed to establish a new connection: [Errno -3] Temporary failure in name resolution')': /simple/wandb/\u001b[0m\u001b[33m\r\n",
      "\u001b[0m\u001b[33mWARNING: Retrying (Retry(total=3, connect=None, read=None, redirect=None, status=None)) after connection broken by 'NewConnectionError('<pip._vendor.urllib3.connection.HTTPSConnection object at 0x7f094462bb90>: Failed to establish a new connection: [Errno -3] Temporary failure in name resolution')': /simple/wandb/\u001b[0m\u001b[33m\r\n",
      "\u001b[0m\u001b[33mWARNING: Retrying (Retry(total=2, connect=None, read=None, redirect=None, status=None)) after connection broken by 'NewConnectionError('<pip._vendor.urllib3.connection.HTTPSConnection object at 0x7f094462bf90>: Failed to establish a new connection: [Errno -3] Temporary failure in name resolution')': /simple/wandb/\u001b[0m\u001b[33m\r\n",
      "\u001b[0m\u001b[33mWARNING: Retrying (Retry(total=1, connect=None, read=None, redirect=None, status=None)) after connection broken by 'NewConnectionError('<pip._vendor.urllib3.connection.HTTPSConnection object at 0x7f09445ec450>: Failed to establish a new connection: [Errno -3] Temporary failure in name resolution')': /simple/wandb/\u001b[0m\u001b[33m\r\n",
      "\u001b[0m\u001b[33mWARNING: Retrying (Retry(total=0, connect=None, read=None, redirect=None, status=None)) after connection broken by 'NewConnectionError('<pip._vendor.urllib3.connection.HTTPSConnection object at 0x7f09445ec810>: Failed to establish a new connection: [Errno -3] Temporary failure in name resolution')': /simple/wandb/\u001b[0m\u001b[33m\r\n",
      "\u001b[0mRequirement already satisfied: requests<3,>=2.0.0 in /opt/conda/lib/python3.7/site-packages (from wandb) (2.27.1)\r\n",
      "Requirement already satisfied: sentry-sdk>=1.0.0 in /opt/conda/lib/python3.7/site-packages (from wandb) (1.5.12)\r\n",
      "Requirement already satisfied: python-dateutil>=2.6.1 in /opt/conda/lib/python3.7/site-packages (from wandb) (2.8.2)\r\n",
      "Requirement already satisfied: pathtools in /opt/conda/lib/python3.7/site-packages (from wandb) (0.1.2)\r\n",
      "Requirement already satisfied: shortuuid>=0.5.0 in /opt/conda/lib/python3.7/site-packages (from wandb) (1.0.9)\r\n",
      "Requirement already satisfied: Click!=8.0.0,>=7.0 in /opt/conda/lib/python3.7/site-packages (from wandb) (8.0.4)\r\n",
      "Requirement already satisfied: PyYAML in /opt/conda/lib/python3.7/site-packages (from wandb) (6.0)\r\n",
      "Requirement already satisfied: setuptools in /opt/conda/lib/python3.7/site-packages (from wandb) (59.8.0)\r\n",
      "Requirement already satisfied: six>=1.13.0 in /opt/conda/lib/python3.7/site-packages (from wandb) (1.16.0)\r\n",
      "Requirement already satisfied: psutil>=5.0.0 in /opt/conda/lib/python3.7/site-packages (from wandb) (5.9.0)\r\n",
      "Requirement already satisfied: protobuf>=3.12.0 in /opt/conda/lib/python3.7/site-packages (from wandb) (3.20.1)\r\n",
      "Requirement already satisfied: GitPython>=1.0.0 in /opt/conda/lib/python3.7/site-packages (from wandb) (3.1.27)\r\n",
      "Requirement already satisfied: setproctitle in /opt/conda/lib/python3.7/site-packages (from wandb) (1.2.3)\r\n",
      "Requirement already satisfied: promise<3,>=2.0 in /opt/conda/lib/python3.7/site-packages (from wandb) (2.3)\r\n",
      "Requirement already satisfied: docker-pycreds>=0.4.0 in /opt/conda/lib/python3.7/site-packages (from wandb) (0.4.0)\r\n",
      "Requirement already satisfied: importlib-metadata in /opt/conda/lib/python3.7/site-packages (from Click!=8.0.0,>=7.0->wandb) (4.11.4)\r\n",
      "Requirement already satisfied: gitdb<5,>=4.0.1 in /opt/conda/lib/python3.7/site-packages (from GitPython>=1.0.0->wandb) (4.0.9)\r\n",
      "Requirement already satisfied: typing-extensions>=3.7.4.3 in /opt/conda/lib/python3.7/site-packages (from GitPython>=1.0.0->wandb) (4.2.0)\r\n",
      "Requirement already satisfied: urllib3<1.27,>=1.21.1 in /opt/conda/lib/python3.7/site-packages (from requests<3,>=2.0.0->wandb) (1.26.9)\r\n",
      "Requirement already satisfied: charset-normalizer~=2.0.0 in /opt/conda/lib/python3.7/site-packages (from requests<3,>=2.0.0->wandb) (2.0.12)\r\n",
      "Requirement already satisfied: idna<4,>=2.5 in /opt/conda/lib/python3.7/site-packages (from requests<3,>=2.0.0->wandb) (3.3)\r\n",
      "Requirement already satisfied: certifi>=2017.4.17 in /opt/conda/lib/python3.7/site-packages (from requests<3,>=2.0.0->wandb) (2022.5.18.1)\r\n",
      "Requirement already satisfied: smmap<6,>=3.0.1 in /opt/conda/lib/python3.7/site-packages (from gitdb<5,>=4.0.1->GitPython>=1.0.0->wandb) (3.0.5)\r\n",
      "Requirement already satisfied: zipp>=0.5 in /opt/conda/lib/python3.7/site-packages (from importlib-metadata->Click!=8.0.0,>=7.0->wandb) (3.8.0)\r\n",
      "\u001b[33mWARNING: Running pip as the 'root' user can result in broken permissions and conflicting behaviour with the system package manager. It is recommended to use a virtual environment instead: https://pip.pypa.io/warnings/venv\u001b[0m\u001b[33m\r\n",
      "\u001b[0m\u001b[33mWARNING: There was an error checking the latest version of pip.\u001b[0m\u001b[33m\r\n",
      "\u001b[0mNote: you may need to restart the kernel to use updated packages.\n"
     ]
    }
   ],
   "source": [
    "pip install wandb --upgrade"
   ]
  },
  {
   "cell_type": "code",
   "execution_count": 31,
   "id": "429dfb1c",
   "metadata": {
    "execution": {
     "iopub.execute_input": "2022-09-18T10:38:39.839176Z",
     "iopub.status.busy": "2022-09-18T10:38:39.838319Z",
     "iopub.status.idle": "2022-09-18T11:10:40.706472Z",
     "shell.execute_reply": "2022-09-18T11:10:40.695701Z"
    },
    "papermill": {
     "duration": 1920.941173,
     "end_time": "2022-09-18T11:10:40.763805",
     "exception": false,
     "start_time": "2022-09-18T10:38:39.822632",
     "status": "completed"
    },
    "tags": []
   },
   "outputs": [
    {
     "name": "stderr",
     "output_type": "stream",
     "text": [
      "/opt/conda/lib/python3.7/site-packages/transformers/optimization.py:309: FutureWarning: This implementation of AdamW is deprecated and will be removed in a future version. Use the PyTorch implementation torch.optim.AdamW instead, or set `no_deprecation_warning=True` to disable this warning\n",
      "  FutureWarning,\n",
      "***** Running training *****\n",
      "  Num examples = 13925\n",
      "  Num Epochs = 1\n",
      "  Instantaneous batch size per device = 4\n",
      "  Total train batch size (w. parallel, distributed & accumulation) = 32\n",
      "  Gradient Accumulation steps = 8\n",
      "  Total optimization steps = 435\n",
      "Automatic Weights & Biases logging enabled, to disable set os.environ[\"WANDB_DISABLED\"] = \"true\"\n"
     ]
    },
    {
     "name": "stdout",
     "output_type": "stream",
     "text": [
      "huggingface/tokenizers: The current process just got forked, after parallelism has already been used. Disabling parallelism to avoid deadlocks...\n",
      "To disable this warning, you can either:\n",
      "\t- Avoid using `tokenizers` before the fork if possible\n",
      "\t- Explicitly set the environment variable TOKENIZERS_PARALLELISM=(true | false)\n",
      "huggingface/tokenizers: The current process just got forked, after parallelism has already been used. Disabling parallelism to avoid deadlocks...\n",
      "To disable this warning, you can either:\n",
      "\t- Avoid using `tokenizers` before the fork if possible\n",
      "\t- Explicitly set the environment variable TOKENIZERS_PARALLELISM=(true | false)\n"
     ]
    },
    {
     "data": {
      "text/html": [
       "Tracking run with wandb version 0.12.16"
      ],
      "text/plain": [
       "<IPython.core.display.HTML object>"
      ]
     },
     "metadata": {},
     "output_type": "display_data"
    },
    {
     "data": {
      "text/html": [
       "W&B syncing is set to <code>`offline`<code> in this directory.  <br/>Run <code>`wandb online`<code> or set <code>WANDB_MODE=online<code> to enable cloud syncing."
      ],
      "text/plain": [
       "<IPython.core.display.HTML object>"
      ]
     },
     "metadata": {},
     "output_type": "display_data"
    },
    {
     "data": {
      "text/html": [
       "\n",
       "    <div>\n",
       "      \n",
       "      <progress value='435' max='435' style='width:300px; height:20px; vertical-align: middle;'></progress>\n",
       "      [435/435 31:12, Epoch 0/1]\n",
       "    </div>\n",
       "    <table border=\"1\" class=\"dataframe\">\n",
       "  <thead>\n",
       " <tr style=\"text-align: left;\">\n",
       "      <th>Epoch</th>\n",
       "      <th>Training Loss</th>\n",
       "      <th>Validation Loss</th>\n",
       "    </tr>\n",
       "  </thead>\n",
       "  <tbody>\n",
       "    <tr>\n",
       "      <td>0</td>\n",
       "      <td>No log</td>\n",
       "      <td>0.284637</td>\n",
       "    </tr>\n",
       "  </tbody>\n",
       "</table><p>"
      ],
      "text/plain": [
       "<IPython.core.display.HTML object>"
      ]
     },
     "metadata": {},
     "output_type": "display_data"
    },
    {
     "name": "stderr",
     "output_type": "stream",
     "text": [
      "***** Running Evaluation *****\n",
      "  Num examples = 816\n",
      "  Batch size = 4\n",
      "Saving model checkpoint to chaii-qa/checkpoint-435\n",
      "Configuration saved in chaii-qa/checkpoint-435/config.json\n",
      "Model weights saved in chaii-qa/checkpoint-435/pytorch_model.bin\n",
      "tokenizer config file saved in chaii-qa/checkpoint-435/tokenizer_config.json\n",
      "Special tokens file saved in chaii-qa/checkpoint-435/special_tokens_map.json\n",
      "\n",
      "\n",
      "Training completed. Do not forget to share your model on huggingface.co/models =)\n",
      "\n",
      "\n"
     ]
    },
    {
     "data": {
      "text/plain": [
       "TrainOutput(global_step=435, training_loss=0.2638397918350395, metrics={'train_runtime': 1920.7108, 'train_samples_per_second': 7.25, 'train_steps_per_second': 0.226, 'total_flos': 9695700997816320.0, 'train_loss': 0.2638397918350395, 'epoch': 1.0})"
      ]
     },
     "execution_count": 31,
     "metadata": {},
     "output_type": "execute_result"
    }
   ],
   "source": [
    "trainer.train()"
   ]
  },
  {
   "cell_type": "code",
   "execution_count": 32,
   "id": "f7879f66",
   "metadata": {
    "execution": {
     "iopub.execute_input": "2022-09-18T11:10:40.999951Z",
     "iopub.status.busy": "2022-09-18T11:10:40.982590Z",
     "iopub.status.idle": "2022-09-18T11:10:54.578440Z",
     "shell.execute_reply": "2022-09-18T11:10:54.577669Z"
    },
    "papermill": {
     "duration": 13.708635,
     "end_time": "2022-09-18T11:10:54.580618",
     "exception": false,
     "start_time": "2022-09-18T11:10:40.871983",
     "status": "completed"
    },
    "tags": []
   },
   "outputs": [
    {
     "name": "stderr",
     "output_type": "stream",
     "text": [
      "Saving model checkpoint to chaii-bert-trained\n",
      "Configuration saved in chaii-bert-trained/config.json\n",
      "Model weights saved in chaii-bert-trained/pytorch_model.bin\n",
      "tokenizer config file saved in chaii-bert-trained/tokenizer_config.json\n",
      "Special tokens file saved in chaii-bert-trained/special_tokens_map.json\n"
     ]
    }
   ],
   "source": [
    "trainer.save_model(\"chaii-bert-trained\")"
   ]
  },
  {
   "cell_type": "code",
   "execution_count": 33,
   "id": "40e29959",
   "metadata": {
    "execution": {
     "iopub.execute_input": "2022-09-18T11:10:54.633104Z",
     "iopub.status.busy": "2022-09-18T11:10:54.632593Z",
     "iopub.status.idle": "2022-09-18T11:10:54.644046Z",
     "shell.execute_reply": "2022-09-18T11:10:54.643393Z"
    },
    "papermill": {
     "duration": 0.045602,
     "end_time": "2022-09-18T11:10:54.650707",
     "exception": false,
     "start_time": "2022-09-18T11:10:54.605105",
     "status": "completed"
    },
    "tags": []
   },
   "outputs": [],
   "source": [
    "def prepare_validation_features(examples):\n",
    "    # Some of the questions have lots of whitespace on the left, which is not useful and will make the\n",
    "    # truncation of the context fail (the tokenized question will take a lots of space). So we remove that\n",
    "    # left whitespace\n",
    "    examples[\"question\"] = [q.lstrip() for q in examples[\"question\"]]\n",
    "\n",
    "    # Tokenize our examples with truncation and maybe padding, but keep the overflows using a stride. This results\n",
    "    # in one example possible giving several features when a context is long, each of those features having a\n",
    "    # context that overlaps a bit the context of the previous feature.\n",
    "    tokenized_examples = tokenizer(\n",
    "        examples[\"question\" if pad_on_right else \"context\"],\n",
    "        examples[\"context\" if pad_on_right else \"question\"],\n",
    "        truncation=\"only_second\" if pad_on_right else \"only_first\",\n",
    "        max_length=max_length,\n",
    "        stride=doc_stride,\n",
    "        return_overflowing_tokens=True,\n",
    "        return_offsets_mapping=True,\n",
    "        padding=\"max_length\",\n",
    "    )\n",
    "\n",
    "    # Since one example might give us several features if it has a long context, we need a map from a feature to\n",
    "    # its corresponding example. This key gives us just that.\n",
    "    sample_mapping = tokenized_examples.pop(\"overflow_to_sample_mapping\")\n",
    "\n",
    "    # We keep the example_id that gave us this feature and we will store the offset mappings.\n",
    "    tokenized_examples[\"example_id\"] = []\n",
    "\n",
    "    for i in range(len(tokenized_examples[\"input_ids\"])):\n",
    "        # Grab the sequence corresponding to that example (to know what is the context and what is the question).\n",
    "        sequence_ids = tokenized_examples.sequence_ids(i)\n",
    "        context_index = 1 if pad_on_right else 0\n",
    "\n",
    "        # One example can give several spans, this is the index of the example containing this span of text.\n",
    "        sample_index = sample_mapping[i]\n",
    "        tokenized_examples[\"example_id\"].append(examples[\"id\"][sample_index])\n",
    "\n",
    "        # Set to None the offset_mapping that are not part of the context so it's easy to determine if a token\n",
    "        # position is part of the context or not.\n",
    "        tokenized_examples[\"offset_mapping\"][i] = [\n",
    "            (o if sequence_ids[k] == context_index else None)\n",
    "            for k, o in enumerate(tokenized_examples[\"offset_mapping\"][i])\n",
    "        ]\n",
    "\n",
    "    return tokenized_examples\n"
   ]
  },
  {
   "cell_type": "code",
   "execution_count": 34,
   "id": "b86eca46",
   "metadata": {
    "execution": {
     "iopub.execute_input": "2022-09-18T11:10:54.700828Z",
     "iopub.status.busy": "2022-09-18T11:10:54.700491Z",
     "iopub.status.idle": "2022-09-18T11:11:02.682001Z",
     "shell.execute_reply": "2022-09-18T11:11:02.681179Z"
    },
    "papermill": {
     "duration": 8.010988,
     "end_time": "2022-09-18T11:11:02.686704",
     "exception": false,
     "start_time": "2022-09-18T11:10:54.675716",
     "status": "completed"
    },
    "tags": []
   },
   "outputs": [
    {
     "data": {
      "application/vnd.jupyter.widget-view+json": {
       "model_id": "9a4c6d3bab094fedbb2f0e5c8244d00e",
       "version_major": 2,
       "version_minor": 0
      },
      "text/plain": [
       "  0%|          | 0/1 [00:00<?, ?ba/s]"
      ]
     },
     "metadata": {},
     "output_type": "display_data"
    }
   ],
   "source": [
    "validation_features = valid_dataset.map(\n",
    "    prepare_validation_features,\n",
    "    batched=True,\n",
    "    remove_columns=valid_dataset.column_names\n",
    ")"
   ]
  },
  {
   "cell_type": "code",
   "execution_count": 35,
   "id": "ae57ba5d",
   "metadata": {
    "execution": {
     "iopub.execute_input": "2022-09-18T11:11:02.723179Z",
     "iopub.status.busy": "2022-09-18T11:11:02.722462Z",
     "iopub.status.idle": "2022-09-18T11:11:02.728487Z",
     "shell.execute_reply": "2022-09-18T11:11:02.727770Z"
    },
    "papermill": {
     "duration": 0.025744,
     "end_time": "2022-09-18T11:11:02.730177",
     "exception": false,
     "start_time": "2022-09-18T11:11:02.704433",
     "status": "completed"
    },
    "tags": []
   },
   "outputs": [
    {
     "data": {
      "text/plain": [
       "Dataset({\n",
       "    features: ['input_ids', 'attention_mask', 'offset_mapping', 'example_id'],\n",
       "    num_rows: 816\n",
       "})"
      ]
     },
     "execution_count": 35,
     "metadata": {},
     "output_type": "execute_result"
    }
   ],
   "source": [
    "validation_features"
   ]
  },
  {
   "cell_type": "code",
   "execution_count": 36,
   "id": "3557c9ad",
   "metadata": {
    "execution": {
     "iopub.execute_input": "2022-09-18T11:11:02.771422Z",
     "iopub.status.busy": "2022-09-18T11:11:02.771154Z",
     "iopub.status.idle": "2022-09-18T11:11:04.203198Z",
     "shell.execute_reply": "2022-09-18T11:11:04.202324Z"
    },
    "papermill": {
     "duration": 1.458839,
     "end_time": "2022-09-18T11:11:04.205214",
     "exception": false,
     "start_time": "2022-09-18T11:11:02.746375",
     "status": "completed"
    },
    "tags": []
   },
   "outputs": [
    {
     "data": {
      "application/vnd.jupyter.widget-view+json": {
       "model_id": "564b1cbc618d40be9c90a18e43c11a2e",
       "version_major": 2,
       "version_minor": 0
      },
      "text/plain": [
       "  0%|          | 0/816 [00:00<?, ?ex/s]"
      ]
     },
     "metadata": {},
     "output_type": "display_data"
    },
    {
     "data": {
      "text/plain": [
       "Dataset({\n",
       "    features: ['input_ids', 'attention_mask'],\n",
       "    num_rows: 816\n",
       "})"
      ]
     },
     "execution_count": 36,
     "metadata": {},
     "output_type": "execute_result"
    }
   ],
   "source": [
    "valid_feats_small = validation_features.map(lambda example: example, remove_columns=['example_id', 'offset_mapping'])\n",
    "valid_feats_small"
   ]
  },
  {
   "cell_type": "code",
   "execution_count": 37,
   "id": "3182bbc8",
   "metadata": {
    "execution": {
     "iopub.execute_input": "2022-09-18T11:11:04.239185Z",
     "iopub.status.busy": "2022-09-18T11:11:04.238910Z",
     "iopub.status.idle": "2022-09-18T11:11:04.246156Z",
     "shell.execute_reply": "2022-09-18T11:11:04.245455Z"
    },
    "papermill": {
     "duration": 0.026129,
     "end_time": "2022-09-18T11:11:04.247824",
     "exception": false,
     "start_time": "2022-09-18T11:11:04.221695",
     "status": "completed"
    },
    "tags": []
   },
   "outputs": [
    {
     "data": {
      "text/plain": [
       "816"
      ]
     },
     "execution_count": 37,
     "metadata": {},
     "output_type": "execute_result"
    }
   ],
   "source": [
    "len(validation_features)"
   ]
  },
  {
   "cell_type": "code",
   "execution_count": 38,
   "id": "c16b4b3c",
   "metadata": {
    "execution": {
     "iopub.execute_input": "2022-09-18T11:11:04.281372Z",
     "iopub.status.busy": "2022-09-18T11:11:04.281114Z",
     "iopub.status.idle": "2022-09-18T11:11:38.459258Z",
     "shell.execute_reply": "2022-09-18T11:11:38.458526Z"
    },
    "papermill": {
     "duration": 34.197158,
     "end_time": "2022-09-18T11:11:38.461158",
     "exception": false,
     "start_time": "2022-09-18T11:11:04.264000",
     "status": "completed"
    },
    "tags": []
   },
   "outputs": [
    {
     "name": "stderr",
     "output_type": "stream",
     "text": [
      "***** Running Prediction *****\n",
      "  Num examples = 816\n",
      "  Batch size = 4\n"
     ]
    },
    {
     "data": {
      "text/html": [
       "\n",
       "    <div>\n",
       "      \n",
       "      <progress value='221' max='204' style='width:300px; height:20px; vertical-align: middle;'></progress>\n",
       "      [204/204 00:42]\n",
       "    </div>\n",
       "    "
      ],
      "text/plain": [
       "<IPython.core.display.HTML object>"
      ]
     },
     "metadata": {},
     "output_type": "display_data"
    }
   ],
   "source": [
    "raw_predictions = trainer.predict(valid_feats_small)"
   ]
  },
  {
   "cell_type": "code",
   "execution_count": 39,
   "id": "d8476e15",
   "metadata": {
    "execution": {
     "iopub.execute_input": "2022-09-18T11:11:38.498341Z",
     "iopub.status.busy": "2022-09-18T11:11:38.498054Z",
     "iopub.status.idle": "2022-09-18T11:11:39.423199Z",
     "shell.execute_reply": "2022-09-18T11:11:39.422374Z"
    },
    "papermill": {
     "duration": 0.947624,
     "end_time": "2022-09-18T11:11:39.425468",
     "exception": false,
     "start_time": "2022-09-18T11:11:38.477844",
     "status": "completed"
    },
    "tags": []
   },
   "outputs": [],
   "source": [
    "max_answer_length = 30\n",
    "import collections\n",
    "\n",
    "examples = valid_dataset\n",
    "features = validation_features\n",
    "\n",
    "example_id_to_index = {k: i for i, k in enumerate(examples[\"id\"])}\n",
    "features_per_example = collections.defaultdict(list)\n",
    "for i, feature in enumerate(features):\n",
    "    features_per_example[example_id_to_index[feature[\"example_id\"]]].append(i)"
   ]
  },
  {
   "cell_type": "code",
   "execution_count": 40,
   "id": "214839e2",
   "metadata": {
    "execution": {
     "iopub.execute_input": "2022-09-18T11:11:39.460034Z",
     "iopub.status.busy": "2022-09-18T11:11:39.459711Z",
     "iopub.status.idle": "2022-09-18T11:11:39.472932Z",
     "shell.execute_reply": "2022-09-18T11:11:39.472198Z"
    },
    "papermill": {
     "duration": 0.032273,
     "end_time": "2022-09-18T11:11:39.474567",
     "exception": false,
     "start_time": "2022-09-18T11:11:39.442294",
     "status": "completed"
    },
    "tags": []
   },
   "outputs": [],
   "source": [
    "from tqdm.auto import tqdm\n",
    "\n",
    "def postprocess_qa_predictions(examples, features, raw_predictions, n_best_size = 20, max_answer_length = 30):\n",
    "    all_start_logits, all_end_logits = raw_predictions\n",
    "    # Build a map example to its corresponding features.\n",
    "    example_id_to_index = {k: i for i, k in enumerate(examples[\"id\"])}\n",
    "    features_per_example = collections.defaultdict(list)\n",
    "    for i, feature in enumerate(features):\n",
    "        features_per_example[example_id_to_index[feature[\"example_id\"]]].append(i)\n",
    "\n",
    "    # The dictionaries we have to fill.\n",
    "    predictions = collections.OrderedDict()\n",
    "\n",
    "    # Logging.\n",
    "    print(f\"Post-processing {len(examples)} example predictions split into {len(features)} features.\")\n",
    "\n",
    "    # Let's loop over all the examples!\n",
    "    for example_index, example in enumerate(tqdm(examples)):\n",
    "        # Those are the indices of the features associated to the current example.\n",
    "        feature_indices = features_per_example[example_index]\n",
    "\n",
    "        min_null_score = None # Only used if squad_v2 is True.\n",
    "        valid_answers = []\n",
    "        \n",
    "        context = example[\"context\"]\n",
    "        # Looping through all the features associated to the current example.\n",
    "        for feature_index in feature_indices:\n",
    "            # We grab the predictions of the model for this feature.\n",
    "            start_logits = all_start_logits[feature_index]\n",
    "            end_logits = all_end_logits[feature_index]\n",
    "            # This is what will allow us to map some the positions in our logits to span of texts in the original\n",
    "            # context.\n",
    "            offset_mapping = features[feature_index][\"offset_mapping\"]\n",
    "\n",
    "            # Update minimum null prediction.\n",
    "            cls_index = features[feature_index][\"input_ids\"].index(tokenizer.cls_token_id)\n",
    "            feature_null_score = start_logits[cls_index] + end_logits[cls_index]\n",
    "            if min_null_score is None or min_null_score < feature_null_score:\n",
    "                min_null_score = feature_null_score\n",
    "\n",
    "            # Go through all possibilities for the `n_best_size` greater start and end logits.\n",
    "            start_indexes = np.argsort(start_logits)[-1 : -n_best_size - 1 : -1].tolist()\n",
    "            end_indexes = np.argsort(end_logits)[-1 : -n_best_size - 1 : -1].tolist()\n",
    "            for start_index in start_indexes:\n",
    "                for end_index in end_indexes:\n",
    "                    # Don't consider out-of-scope answers, either because the indices are out of bounds or correspond\n",
    "                    # to part of the input_ids that are not in the context.\n",
    "                    if (\n",
    "                        start_index >= len(offset_mapping)\n",
    "                        or end_index >= len(offset_mapping)\n",
    "                        or offset_mapping[start_index] is None\n",
    "                        or offset_mapping[end_index] is None\n",
    "                    ):\n",
    "                        continue\n",
    "                    # Don't consider answers with a length that is either < 0 or > max_answer_length.\n",
    "                    if end_index < start_index or end_index - start_index + 1 > max_answer_length:\n",
    "                        continue\n",
    "\n",
    "                    start_char = offset_mapping[start_index][0]\n",
    "                    end_char = offset_mapping[end_index][1]\n",
    "                    valid_answers.append(\n",
    "                        {\n",
    "                            \"score\": start_logits[start_index] + end_logits[end_index],\n",
    "                            \"text\": context[start_char: end_char]\n",
    "                        }\n",
    "                    )\n",
    "        \n",
    "        if len(valid_answers) > 0:\n",
    "            best_answer = sorted(valid_answers, key=lambda x: x[\"score\"], reverse=True)[0]\n",
    "        else:\n",
    "            # In the very rare edge case we have not a single non-null prediction, we create a fake prediction to avoid\n",
    "            # failure.\n",
    "            best_answer = {\"text\": \"\", \"score\": 0.0}\n",
    "        \n",
    "        # Let's pick our final answer: the best one or the null answer (only for squad_v2)\n",
    "        predictions[example[\"id\"]] = best_answer[\"text\"]\n",
    "\n",
    "    return predictions"
   ]
  },
  {
   "cell_type": "code",
   "execution_count": 41,
   "id": "917d3d9c",
   "metadata": {
    "execution": {
     "iopub.execute_input": "2022-09-18T11:11:39.508202Z",
     "iopub.status.busy": "2022-09-18T11:11:39.507942Z",
     "iopub.status.idle": "2022-09-18T11:11:42.526878Z",
     "shell.execute_reply": "2022-09-18T11:11:42.525933Z"
    },
    "papermill": {
     "duration": 3.039176,
     "end_time": "2022-09-18T11:11:42.529893",
     "exception": false,
     "start_time": "2022-09-18T11:11:39.490717",
     "status": "completed"
    },
    "tags": []
   },
   "outputs": [
    {
     "name": "stdout",
     "output_type": "stream",
     "text": [
      "Post-processing 64 example predictions split into 816 features.\n"
     ]
    },
    {
     "data": {
      "application/vnd.jupyter.widget-view+json": {
       "model_id": "7fa31db949984a7f9f1b8d4c90a6bc2f",
       "version_major": 2,
       "version_minor": 0
      },
      "text/plain": [
       "  0%|          | 0/64 [00:00<?, ?it/s]"
      ]
     },
     "metadata": {},
     "output_type": "display_data"
    }
   ],
   "source": [
    "final_predictions = postprocess_qa_predictions(valid_dataset, validation_features, raw_predictions.predictions)"
   ]
  },
  {
   "cell_type": "code",
   "execution_count": 42,
   "id": "83824e97",
   "metadata": {
    "execution": {
     "iopub.execute_input": "2022-09-18T11:11:42.568738Z",
     "iopub.status.busy": "2022-09-18T11:11:42.568440Z",
     "iopub.status.idle": "2022-09-18T11:11:42.589517Z",
     "shell.execute_reply": "2022-09-18T11:11:42.588831Z"
    },
    "papermill": {
     "duration": 0.04037,
     "end_time": "2022-09-18T11:11:42.591291",
     "exception": false,
     "start_time": "2022-09-18T11:11:42.550921",
     "status": "completed"
    },
    "tags": []
   },
   "outputs": [],
   "source": [
    "references = [{\"id\": ex[\"id\"], \"answer\": ex[\"answers\"]['text'][0]} for ex in valid_dataset]\n"
   ]
  },
  {
   "cell_type": "code",
   "execution_count": 43,
   "id": "daf9f7a6",
   "metadata": {
    "execution": {
     "iopub.execute_input": "2022-09-18T11:11:42.625599Z",
     "iopub.status.busy": "2022-09-18T11:11:42.625317Z",
     "iopub.status.idle": "2022-09-18T11:11:42.635361Z",
     "shell.execute_reply": "2022-09-18T11:11:42.634644Z"
    },
    "papermill": {
     "duration": 0.029177,
     "end_time": "2022-09-18T11:11:42.637077",
     "exception": false,
     "start_time": "2022-09-18T11:11:42.607900",
     "status": "completed"
    },
    "tags": []
   },
   "outputs": [
    {
     "data": {
      "text/plain": [
       "OrderedDict([('dc64d02cf', 'प्रतिभा पाटील'),\n",
       "             ('98d8542f6', ' பிங்க்'),\n",
       "             ('3ce81e663', 'मिर्ज़ा असद-उल्लाह बेग ख़ां'),\n",
       "             ('40f4e32da', ' मीटर प्रति सेकेण्ड2'),\n",
       "             ('bfa4380bd', ' अगरतला'),\n",
       "             ('914cd633c', ' ஐந்து'),\n",
       "             ('daddbeba7', ' ३०'),\n",
       "             ('02221d130', ' 118'),\n",
       "             ('8069e0eea', ' 2.'),\n",
       "             ('7c10c457f', ' सूर्यकांत त्रिपाठी निराला'),\n",
       "             ('c67476278', ' वॉशिंगटन, डी॰ सी॰'),\n",
       "             ('d6c9beda1', ' मेगावती सेतियावती सुकर्णोपुत्री'),\n",
       "             ('7c73a8caa', ' ४,४५,७९,००० किमी'),\n",
       "             ('35ed7e197', ' (2003)'),\n",
       "             ('6f54ca7b7', ' 25 दिसम्बर 1984'),\n",
       "             ('2c9fa8009', ' கோஹிமா'),\n",
       "             ('90299b7e0', ' 26 மே 2001'),\n",
       "             ('ae4dacbc2', ' अँग्रेजी'),\n",
       "             ('481ebd62d', 'वारसा - Warsaw'),\n",
       "             ('0c38e66fa', '\\nकनाडा सार्वजनिक सुरक्षा'),\n",
       "             ('4109d6286', ' டான் பிரவுனால்'),\n",
       "             ('b09a0244d', ' सैफ अली खान'),\n",
       "             ('448ece3bd', 'चार्ल्स बैबेज'),\n",
       "             ('16970cd0d', ' जर्मनी'),\n",
       "             ('f7bd94bb9', ' குணகம்'),\n",
       "             ('321e80660', ' 185 மீட்டர்'),\n",
       "             ('ee8233163', ' 1956'),\n",
       "             ('2c789f525', ' दो'),\n",
       "             ('0513aed88', 'ॠग्वेद'),\n",
       "             ('c2043a852', ' உலான் பாட்டர்'),\n",
       "             ('8997bf894', ' लुंबिनी'),\n",
       "             ('dd16913fe', ' பாத்திமா விஜய் ஆண்டனி'),\n",
       "             ('86706c0f2', ' तीन'),\n",
       "             ('612852f39', ' नई दिल्ली'),\n",
       "             ('8833e118a', ' १९३९ से १९४५'),\n",
       "             ('79b26e4d8', 'विश्वनाथ प्रताप सिंह'),\n",
       "             ('e04ec34ed', ' १ अरब'),\n",
       "             ('d8db99f26', ' 1312 किलोमीटर'),\n",
       "             ('e60195863', ' மெக்சிக்கோ'),\n",
       "             ('33ab9e339', ' डेनिस रिची'),\n",
       "             ('764b2bd93', ' कुन्ती'),\n",
       "             ('bb68fa5c3', ' १४,९६,००,००० किलोमीटर'),\n",
       "             ('de6b67529', ' 846/232'),\n",
       "             ('5aeacd81a', ' सेंट्रल प्रोसेसिंग यूनिट'),\n",
       "             ('771ace3aa', ' ग्रस एंटीगोन'),\n",
       "             ('fcb8af38a', ' 7 जनवरी 1943'),\n",
       "             ('67b7f2604', ' ஏழு ஆண்டுகள்'),\n",
       "             ('fc36a6c01', 'யமுனை'),\n",
       "             ('2bfd1f74c', ' स्विटजरलैंड के जेनेवा'),\n",
       "             ('221526dfb', '\\n38,852 சதுர கிலோ மீட்டர்'),\n",
       "             ('2a8fdb383', ' अनवर अहमद'),\n",
       "             ('bce8a5cee', ' उन्तीस'),\n",
       "             ('28c563a25', ' 1,200 डिग्री -1,400'),\n",
       "             ('65fec9728', ' 16,579 சதுர கிலோ மீட்டர்'),\n",
       "             ('9aaa1672a', ' (1926'),\n",
       "             ('a317a9b97', 'ஜெ.ஜெ. தாம்சன்'),\n",
       "             ('435396d8e', ' 5 हजार'),\n",
       "             ('f64641ba1', ' 3'),\n",
       "             ('a52d546ba', ' கற்களால்'),\n",
       "             ('3acaa3b86', 'स्टेगेरिया'),\n",
       "             ('7a3e4bf22', ' கி.மு 6000'),\n",
       "             ('de34ee0a0', ' यूक्रेन के माइकोलैव ब्लैक \\u200dसी शिपयार्ड'),\n",
       "             ('518fc3aaf', ' तेरह'),\n",
       "             ('632812604', ' न्युयॉर्क')])"
      ]
     },
     "execution_count": 43,
     "metadata": {},
     "output_type": "execute_result"
    }
   ],
   "source": [
    "final_predictions"
   ]
  },
  {
   "cell_type": "code",
   "execution_count": 44,
   "id": "89f48840",
   "metadata": {
    "execution": {
     "iopub.execute_input": "2022-09-18T11:11:42.672508Z",
     "iopub.status.busy": "2022-09-18T11:11:42.671904Z",
     "iopub.status.idle": "2022-09-18T11:11:42.677386Z",
     "shell.execute_reply": "2022-09-18T11:11:42.676651Z"
    },
    "papermill": {
     "duration": 0.025066,
     "end_time": "2022-09-18T11:11:42.679082",
     "exception": false,
     "start_time": "2022-09-18T11:11:42.654016",
     "status": "completed"
    },
    "tags": []
   },
   "outputs": [],
   "source": [
    "def jaccard(row): \n",
    "    str1 = row[0]\n",
    "    str2 = row[1]\n",
    "    a = set(str1.lower().split()) \n",
    "    b = set(str2.lower().split())\n",
    "    c = a.intersection(b)\n",
    "    return float(len(c)) / (len(a) + len(b) - len(c))"
   ]
  },
  {
   "cell_type": "code",
   "execution_count": 45,
   "id": "9125e3b2",
   "metadata": {
    "execution": {
     "iopub.execute_input": "2022-09-18T11:11:42.725350Z",
     "iopub.status.busy": "2022-09-18T11:11:42.725046Z",
     "iopub.status.idle": "2022-09-18T11:11:42.758307Z",
     "shell.execute_reply": "2022-09-18T11:11:42.757553Z"
    },
    "papermill": {
     "duration": 0.053743,
     "end_time": "2022-09-18T11:11:42.760261",
     "exception": false,
     "start_time": "2022-09-18T11:11:42.706518",
     "status": "completed"
    },
    "tags": []
   },
   "outputs": [
    {
     "data": {
      "text/html": [
       "<div>\n",
       "<style scoped>\n",
       "    .dataframe tbody tr th:only-of-type {\n",
       "        vertical-align: middle;\n",
       "    }\n",
       "\n",
       "    .dataframe tbody tr th {\n",
       "        vertical-align: top;\n",
       "    }\n",
       "\n",
       "    .dataframe thead th {\n",
       "        text-align: right;\n",
       "    }\n",
       "</style>\n",
       "<table border=\"1\" class=\"dataframe\">\n",
       "  <thead>\n",
       "    <tr style=\"text-align: right;\">\n",
       "      <th></th>\n",
       "      <th>id</th>\n",
       "      <th>answer</th>\n",
       "      <th>prediction</th>\n",
       "      <th>jaccard</th>\n",
       "    </tr>\n",
       "  </thead>\n",
       "  <tbody>\n",
       "    <tr>\n",
       "      <th>0</th>\n",
       "      <td>dc64d02cf</td>\n",
       "      <td>प्रतिभा पाटील</td>\n",
       "      <td>प्रतिभा पाटील</td>\n",
       "      <td>1.000000</td>\n",
       "    </tr>\n",
       "    <tr>\n",
       "      <th>1</th>\n",
       "      <td>98d8542f6</td>\n",
       "      <td>பிங்க்</td>\n",
       "      <td>பிங்க்</td>\n",
       "      <td>1.000000</td>\n",
       "    </tr>\n",
       "    <tr>\n",
       "      <th>2</th>\n",
       "      <td>3ce81e663</td>\n",
       "      <td>मिर्ज़ा असद-उल्लाह बेग ख़ां</td>\n",
       "      <td>मिर्ज़ा असद-उल्लाह बेग ख़ां</td>\n",
       "      <td>1.000000</td>\n",
       "    </tr>\n",
       "    <tr>\n",
       "      <th>3</th>\n",
       "      <td>40f4e32da</td>\n",
       "      <td>मीटर प्रति सेकेण्ड2</td>\n",
       "      <td>मीटर प्रति सेकेण्ड2</td>\n",
       "      <td>1.000000</td>\n",
       "    </tr>\n",
       "    <tr>\n",
       "      <th>4</th>\n",
       "      <td>bfa4380bd</td>\n",
       "      <td>अगरतला</td>\n",
       "      <td>अगरतला</td>\n",
       "      <td>1.000000</td>\n",
       "    </tr>\n",
       "    <tr>\n",
       "      <th>...</th>\n",
       "      <td>...</td>\n",
       "      <td>...</td>\n",
       "      <td>...</td>\n",
       "      <td>...</td>\n",
       "    </tr>\n",
       "    <tr>\n",
       "      <th>59</th>\n",
       "      <td>3acaa3b86</td>\n",
       "      <td>स्टेगेरिया</td>\n",
       "      <td>स्टेगेरिया</td>\n",
       "      <td>1.000000</td>\n",
       "    </tr>\n",
       "    <tr>\n",
       "      <th>60</th>\n",
       "      <td>7a3e4bf22</td>\n",
       "      <td>கி.மு 3000</td>\n",
       "      <td>கி.மு 6000</td>\n",
       "      <td>0.333333</td>\n",
       "    </tr>\n",
       "    <tr>\n",
       "      <th>61</th>\n",
       "      <td>de34ee0a0</td>\n",
       "      <td>माइकोलैव ब्लैक ‍सी शिपयार्ड</td>\n",
       "      <td>यूक्रेन के माइकोलैव ब्लैक ‍सी शिपयार्ड</td>\n",
       "      <td>0.666667</td>\n",
       "    </tr>\n",
       "    <tr>\n",
       "      <th>62</th>\n",
       "      <td>518fc3aaf</td>\n",
       "      <td>तेरह</td>\n",
       "      <td>तेरह</td>\n",
       "      <td>1.000000</td>\n",
       "    </tr>\n",
       "    <tr>\n",
       "      <th>63</th>\n",
       "      <td>632812604</td>\n",
       "      <td>न्युयॉर्क</td>\n",
       "      <td>न्युयॉर्क</td>\n",
       "      <td>1.000000</td>\n",
       "    </tr>\n",
       "  </tbody>\n",
       "</table>\n",
       "<p>64 rows × 4 columns</p>\n",
       "</div>"
      ],
      "text/plain": [
       "           id                       answer  \\\n",
       "0   dc64d02cf                प्रतिभा पाटील   \n",
       "1   98d8542f6                       பிங்க்   \n",
       "2   3ce81e663  मिर्ज़ा असद-उल्लाह बेग ख़ां   \n",
       "3   40f4e32da          मीटर प्रति सेकेण्ड2   \n",
       "4   bfa4380bd                       अगरतला   \n",
       "..        ...                          ...   \n",
       "59  3acaa3b86                   स्टेगेरिया   \n",
       "60  7a3e4bf22                   கி.மு 3000   \n",
       "61  de34ee0a0  माइकोलैव ब्लैक ‍सी शिपयार्ड   \n",
       "62  518fc3aaf                         तेरह   \n",
       "63  632812604                    न्युयॉर्क   \n",
       "\n",
       "                                 prediction   jaccard  \n",
       "0                             प्रतिभा पाटील  1.000000  \n",
       "1                                    பிங்க்  1.000000  \n",
       "2               मिर्ज़ा असद-उल्लाह बेग ख़ां  1.000000  \n",
       "3                       मीटर प्रति सेकेण्ड2  1.000000  \n",
       "4                                    अगरतला  1.000000  \n",
       "..                                      ...       ...  \n",
       "59                               स्टेगेरिया  1.000000  \n",
       "60                               கி.மு 6000  0.333333  \n",
       "61   यूक्रेन के माइकोलैव ब्लैक ‍सी शिपयार्ड  0.666667  \n",
       "62                                     तेरह  1.000000  \n",
       "63                                न्युयॉर्क  1.000000  \n",
       "\n",
       "[64 rows x 4 columns]"
      ]
     },
     "execution_count": 45,
     "metadata": {},
     "output_type": "execute_result"
    }
   ],
   "source": [
    "res = pd.DataFrame(references)\n",
    "res['prediction'] = res['id'].apply(lambda r: final_predictions[r])\n",
    "res['jaccard'] = res[['answer', 'prediction']].apply(jaccard, axis=1)\n",
    "res"
   ]
  },
  {
   "cell_type": "code",
   "execution_count": 46,
   "id": "1e9020cf",
   "metadata": {
    "execution": {
     "iopub.execute_input": "2022-09-18T11:11:42.797671Z",
     "iopub.status.busy": "2022-09-18T11:11:42.797390Z",
     "iopub.status.idle": "2022-09-18T11:11:42.804474Z",
     "shell.execute_reply": "2022-09-18T11:11:42.803773Z"
    },
    "papermill": {
     "duration": 0.026906,
     "end_time": "2022-09-18T11:11:42.806138",
     "exception": false,
     "start_time": "2022-09-18T11:11:42.779232",
     "status": "completed"
    },
    "tags": []
   },
   "outputs": [
    {
     "data": {
      "text/plain": [
       "0.6622395833333333"
      ]
     },
     "execution_count": 46,
     "metadata": {},
     "output_type": "execute_result"
    }
   ],
   "source": [
    "res.jaccard.mean()"
   ]
  },
  {
   "cell_type": "markdown",
   "id": "702f630f",
   "metadata": {
    "papermill": {
     "duration": 0.017181,
     "end_time": "2022-09-18T11:11:42.841118",
     "exception": false,
     "start_time": "2022-09-18T11:11:42.823937",
     "status": "completed"
    },
    "tags": []
   },
   "source": [
    "**Test predict and submit\n",
    "Ok, so we got 0.66 average jaccard score on our validation set (the score can differ when I re-run the notebook). Next step is to run it on test and submit :)**"
   ]
  },
  {
   "cell_type": "code",
   "execution_count": 47,
   "id": "b96ee372",
   "metadata": {
    "execution": {
     "iopub.execute_input": "2022-09-18T11:11:42.882328Z",
     "iopub.status.busy": "2022-09-18T11:11:42.882044Z",
     "iopub.status.idle": "2022-09-18T11:11:42.896706Z",
     "shell.execute_reply": "2022-09-18T11:11:42.896004Z"
    },
    "papermill": {
     "duration": 0.036247,
     "end_time": "2022-09-18T11:11:42.898423",
     "exception": false,
     "start_time": "2022-09-18T11:11:42.862176",
     "status": "completed"
    },
    "tags": []
   },
   "outputs": [],
   "source": [
    "test=pd.read_csv(\"../input/chaii-hindi-and-tamil-question-answering/test.csv\")"
   ]
  },
  {
   "cell_type": "code",
   "execution_count": 48,
   "id": "20dc2853",
   "metadata": {
    "execution": {
     "iopub.execute_input": "2022-09-18T11:11:42.933473Z",
     "iopub.status.busy": "2022-09-18T11:11:42.933211Z",
     "iopub.status.idle": "2022-09-18T11:11:42.941653Z",
     "shell.execute_reply": "2022-09-18T11:11:42.941002Z"
    },
    "papermill": {
     "duration": 0.0279,
     "end_time": "2022-09-18T11:11:42.943398",
     "exception": false,
     "start_time": "2022-09-18T11:11:42.915498",
     "status": "completed"
    },
    "tags": []
   },
   "outputs": [],
   "source": [
    "test_dataset = Dataset.from_pandas(test)"
   ]
  },
  {
   "cell_type": "code",
   "execution_count": 49,
   "id": "c68133b4",
   "metadata": {
    "execution": {
     "iopub.execute_input": "2022-09-18T11:11:42.978606Z",
     "iopub.status.busy": "2022-09-18T11:11:42.978344Z",
     "iopub.status.idle": "2022-09-18T11:11:43.636452Z",
     "shell.execute_reply": "2022-09-18T11:11:43.635714Z"
    },
    "papermill": {
     "duration": 0.678103,
     "end_time": "2022-09-18T11:11:43.638395",
     "exception": false,
     "start_time": "2022-09-18T11:11:42.960292",
     "status": "completed"
    },
    "tags": []
   },
   "outputs": [
    {
     "data": {
      "application/vnd.jupyter.widget-view+json": {
       "model_id": "f3b4c093438d497db2a508484db0df49",
       "version_major": 2,
       "version_minor": 0
      },
      "text/plain": [
       "  0%|          | 0/1 [00:00<?, ?ba/s]"
      ]
     },
     "metadata": {},
     "output_type": "display_data"
    }
   ],
   "source": [
    "test_features = test_dataset.map(\n",
    "    prepare_validation_features,\n",
    "    batched=True,\n",
    "    remove_columns=test_dataset.column_names\n",
    ")"
   ]
  },
  {
   "cell_type": "code",
   "execution_count": 50,
   "id": "13979953",
   "metadata": {
    "execution": {
     "iopub.execute_input": "2022-09-18T11:11:43.675214Z",
     "iopub.status.busy": "2022-09-18T11:11:43.674935Z",
     "iopub.status.idle": "2022-09-18T11:11:43.806542Z",
     "shell.execute_reply": "2022-09-18T11:11:43.805700Z"
    },
    "papermill": {
     "duration": 0.151378,
     "end_time": "2022-09-18T11:11:43.808349",
     "exception": false,
     "start_time": "2022-09-18T11:11:43.656971",
     "status": "completed"
    },
    "tags": []
   },
   "outputs": [
    {
     "data": {
      "application/vnd.jupyter.widget-view+json": {
       "model_id": "b3893fb70598488a8e7607046aaf347b",
       "version_major": 2,
       "version_minor": 0
      },
      "text/plain": [
       "  0%|          | 0/67 [00:00<?, ?ex/s]"
      ]
     },
     "metadata": {},
     "output_type": "display_data"
    },
    {
     "data": {
      "text/plain": [
       "Dataset({\n",
       "    features: ['input_ids', 'attention_mask'],\n",
       "    num_rows: 67\n",
       "})"
      ]
     },
     "execution_count": 50,
     "metadata": {},
     "output_type": "execute_result"
    }
   ],
   "source": [
    "test_feats_small = test_features.map(lambda example: example, remove_columns=['example_id', 'offset_mapping'])\n",
    "test_feats_small"
   ]
  },
  {
   "cell_type": "code",
   "execution_count": 51,
   "id": "280f0d44",
   "metadata": {
    "execution": {
     "iopub.execute_input": "2022-09-18T11:11:43.847645Z",
     "iopub.status.busy": "2022-09-18T11:11:43.847373Z",
     "iopub.status.idle": "2022-09-18T11:11:46.679452Z",
     "shell.execute_reply": "2022-09-18T11:11:46.678745Z"
    },
    "papermill": {
     "duration": 2.854895,
     "end_time": "2022-09-18T11:11:46.681162",
     "exception": false,
     "start_time": "2022-09-18T11:11:43.826267",
     "status": "completed"
    },
    "tags": []
   },
   "outputs": [
    {
     "name": "stderr",
     "output_type": "stream",
     "text": [
      "***** Running Prediction *****\n",
      "  Num examples = 67\n",
      "  Batch size = 4\n"
     ]
    }
   ],
   "source": [
    "test_predictions = trainer.predict(test_feats_small)"
   ]
  },
  {
   "cell_type": "code",
   "execution_count": 52,
   "id": "afb966fc",
   "metadata": {
    "execution": {
     "iopub.execute_input": "2022-09-18T11:11:46.717935Z",
     "iopub.status.busy": "2022-09-18T11:11:46.717646Z",
     "iopub.status.idle": "2022-09-18T11:11:46.722946Z",
     "shell.execute_reply": "2022-09-18T11:11:46.722148Z"
    },
    "papermill": {
     "duration": 0.025407,
     "end_time": "2022-09-18T11:11:46.724662",
     "exception": false,
     "start_time": "2022-09-18T11:11:46.699255",
     "status": "completed"
    },
    "tags": []
   },
   "outputs": [],
   "source": [
    "test_features.set_format(type=test_features.format[\"type\"], columns=list(test_features.features.keys()))"
   ]
  },
  {
   "cell_type": "code",
   "execution_count": 53,
   "id": "4c4708dc",
   "metadata": {
    "execution": {
     "iopub.execute_input": "2022-09-18T11:11:46.760962Z",
     "iopub.status.busy": "2022-09-18T11:11:46.760685Z",
     "iopub.status.idle": "2022-09-18T11:11:47.253021Z",
     "shell.execute_reply": "2022-09-18T11:11:47.252336Z"
    },
    "papermill": {
     "duration": 0.512773,
     "end_time": "2022-09-18T11:11:47.255208",
     "exception": false,
     "start_time": "2022-09-18T11:11:46.742435",
     "status": "completed"
    },
    "tags": []
   },
   "outputs": [
    {
     "name": "stdout",
     "output_type": "stream",
     "text": [
      "Post-processing 5 example predictions split into 67 features.\n"
     ]
    },
    {
     "data": {
      "application/vnd.jupyter.widget-view+json": {
       "model_id": "eaaef026ed344bc4b65bc7d7a592d2cf",
       "version_major": 2,
       "version_minor": 0
      },
      "text/plain": [
       "  0%|          | 0/5 [00:00<?, ?it/s]"
      ]
     },
     "metadata": {},
     "output_type": "display_data"
    }
   ],
   "source": [
    "final_test_predictions = postprocess_qa_predictions(test_dataset, test_features, test_predictions.predictions)"
   ]
  },
  {
   "cell_type": "code",
   "execution_count": 54,
   "id": "8571290c",
   "metadata": {
    "execution": {
     "iopub.execute_input": "2022-09-18T11:11:47.314829Z",
     "iopub.status.busy": "2022-09-18T11:11:47.314418Z",
     "iopub.status.idle": "2022-09-18T11:11:47.324457Z",
     "shell.execute_reply": "2022-09-18T11:11:47.323523Z"
    },
    "papermill": {
     "duration": 0.043092,
     "end_time": "2022-09-18T11:11:47.327126",
     "exception": false,
     "start_time": "2022-09-18T11:11:47.284034",
     "status": "completed"
    },
    "tags": []
   },
   "outputs": [],
   "source": [
    "sub=pd.read_csv(\"../input/chaii-hindi-and-tamil-question-answering/sample_submission.csv\")"
   ]
  },
  {
   "cell_type": "code",
   "execution_count": 55,
   "id": "b4818b6e",
   "metadata": {
    "execution": {
     "iopub.execute_input": "2022-09-18T11:11:47.392509Z",
     "iopub.status.busy": "2022-09-18T11:11:47.392058Z",
     "iopub.status.idle": "2022-09-18T11:11:47.414731Z",
     "shell.execute_reply": "2022-09-18T11:11:47.414021Z"
    },
    "papermill": {
     "duration": 0.057062,
     "end_time": "2022-09-18T11:11:47.417185",
     "exception": false,
     "start_time": "2022-09-18T11:11:47.360123",
     "status": "completed"
    },
    "tags": []
   },
   "outputs": [
    {
     "data": {
      "text/html": [
       "<div>\n",
       "<style scoped>\n",
       "    .dataframe tbody tr th:only-of-type {\n",
       "        vertical-align: middle;\n",
       "    }\n",
       "\n",
       "    .dataframe tbody tr th {\n",
       "        vertical-align: top;\n",
       "    }\n",
       "\n",
       "    .dataframe thead th {\n",
       "        text-align: right;\n",
       "    }\n",
       "</style>\n",
       "<table border=\"1\" class=\"dataframe\">\n",
       "  <thead>\n",
       "    <tr style=\"text-align: right;\">\n",
       "      <th></th>\n",
       "      <th>id</th>\n",
       "      <th>PredictionString</th>\n",
       "    </tr>\n",
       "  </thead>\n",
       "  <tbody>\n",
       "    <tr>\n",
       "      <th>0</th>\n",
       "      <td>22bff3dec</td>\n",
       "      <td>येलन चीन</td>\n",
       "    </tr>\n",
       "    <tr>\n",
       "      <th>1</th>\n",
       "      <td>282758170</td>\n",
       "      <td>20 अप्रैल 2010</td>\n",
       "    </tr>\n",
       "    <tr>\n",
       "      <th>2</th>\n",
       "      <td>d60987e0e</td>\n",
       "      <td>१२ मार्च १८२४</td>\n",
       "    </tr>\n",
       "    <tr>\n",
       "      <th>3</th>\n",
       "      <td>f99c770dc</td>\n",
       "      <td>13</td>\n",
       "    </tr>\n",
       "    <tr>\n",
       "      <th>4</th>\n",
       "      <td>40dec1964</td>\n",
       "      <td>சுவாமிநாதன் மற்றும் வர்கீஸ் குரியன்</td>\n",
       "    </tr>\n",
       "  </tbody>\n",
       "</table>\n",
       "</div>"
      ],
      "text/plain": [
       "          id                     PredictionString\n",
       "0  22bff3dec                             येलन चीन\n",
       "1  282758170                       20 अप्रैल 2010\n",
       "2  d60987e0e                        १२ मार्च १८२४\n",
       "3  f99c770dc                                   13\n",
       "4  40dec1964  சுவாமிநாதன் மற்றும் வர்கீஸ் குரியன்"
      ]
     },
     "execution_count": 55,
     "metadata": {},
     "output_type": "execute_result"
    }
   ],
   "source": [
    "sub['PredictionString'] = sub['id'].apply(lambda r: final_test_predictions[r])\n",
    "sub.head()"
   ]
  },
  {
   "cell_type": "code",
   "execution_count": 56,
   "id": "df9ecf0f",
   "metadata": {
    "execution": {
     "iopub.execute_input": "2022-09-18T11:11:47.483721Z",
     "iopub.status.busy": "2022-09-18T11:11:47.483396Z",
     "iopub.status.idle": "2022-09-18T11:11:47.493672Z",
     "shell.execute_reply": "2022-09-18T11:11:47.492813Z"
    },
    "papermill": {
     "duration": 0.032698,
     "end_time": "2022-09-18T11:11:47.495528",
     "exception": false,
     "start_time": "2022-09-18T11:11:47.462830",
     "status": "completed"
    },
    "tags": []
   },
   "outputs": [],
   "source": [
    "sub.to_csv('submission.csv', index=False)"
   ]
  }
 ],
 "metadata": {
  "kernelspec": {
   "display_name": "Python 3",
   "language": "python",
   "name": "python3"
  },
  "language_info": {
   "codemirror_mode": {
    "name": "ipython",
    "version": 3
   },
   "file_extension": ".py",
   "mimetype": "text/x-python",
   "name": "python",
   "nbconvert_exporter": "python",
   "pygments_lexer": "ipython3",
   "version": "3.7.12"
  },
  "papermill": {
   "default_parameters": {},
   "duration": 2290.050164,
   "end_time": "2022-09-18T11:11:50.341402",
   "environment_variables": {},
   "exception": null,
   "input_path": "__notebook__.ipynb",
   "output_path": "__notebook__.ipynb",
   "parameters": {},
   "start_time": "2022-09-18T10:33:40.291238",
   "version": "2.3.4"
  },
  "widgets": {
   "application/vnd.jupyter.widget-state+json": {
    "state": {
     "09870632ae4c46d5a34c246c794ae158": {
      "model_module": "@jupyter-widgets/base",
      "model_module_version": "1.2.0",
      "model_name": "LayoutModel",
      "state": {
       "_model_module": "@jupyter-widgets/base",
       "_model_module_version": "1.2.0",
       "_model_name": "LayoutModel",
       "_view_count": null,
       "_view_module": "@jupyter-widgets/base",
       "_view_module_version": "1.2.0",
       "_view_name": "LayoutView",
       "align_content": null,
       "align_items": null,
       "align_self": null,
       "border": null,
       "bottom": null,
       "display": null,
       "flex": null,
       "flex_flow": null,
       "grid_area": null,
       "grid_auto_columns": null,
       "grid_auto_flow": null,
       "grid_auto_rows": null,
       "grid_column": null,
       "grid_gap": null,
       "grid_row": null,
       "grid_template_areas": null,
       "grid_template_columns": null,
       "grid_template_rows": null,
       "height": null,
       "justify_content": null,
       "justify_items": null,
       "left": null,
       "margin": null,
       "max_height": null,
       "max_width": null,
       "min_height": null,
       "min_width": null,
       "object_fit": null,
       "object_position": null,
       "order": null,
       "overflow": null,
       "overflow_x": null,
       "overflow_y": null,
       "padding": null,
       "right": null,
       "top": null,
       "visibility": null,
       "width": null
      }
     },
     "0a819df80ba54945ad4179c899daa5df": {
      "model_module": "@jupyter-widgets/controls",
      "model_module_version": "1.5.0",
      "model_name": "HTMLModel",
      "state": {
       "_dom_classes": [],
       "_model_module": "@jupyter-widgets/controls",
       "_model_module_version": "1.5.0",
       "_model_name": "HTMLModel",
       "_view_count": null,
       "_view_module": "@jupyter-widgets/controls",
       "_view_module_version": "1.5.0",
       "_view_name": "HTMLView",
       "description": "",
       "description_tooltip": null,
       "layout": "IPY_MODEL_40ad6c0ab40f4458a089704f8efc827b",
       "placeholder": "​",
       "style": "IPY_MODEL_d6f0efffc201489fa41125e8c162ef80",
       "value": "100%"
      }
     },
     "0c7209bdb6d94ecc817bf74c38257169": {
      "model_module": "@jupyter-widgets/controls",
      "model_module_version": "1.5.0",
      "model_name": "FloatProgressModel",
      "state": {
       "_dom_classes": [],
       "_model_module": "@jupyter-widgets/controls",
       "_model_module_version": "1.5.0",
       "_model_name": "FloatProgressModel",
       "_view_count": null,
       "_view_module": "@jupyter-widgets/controls",
       "_view_module_version": "1.5.0",
       "_view_name": "ProgressView",
       "bar_style": "success",
       "description": "",
       "description_tooltip": null,
       "layout": "IPY_MODEL_c557b3395bc941919b63c61a0a9f9b1e",
       "max": 64.0,
       "min": 0.0,
       "orientation": "horizontal",
       "style": "IPY_MODEL_acdc641f2e90413aba9bf7336a2c0e36",
       "value": 64.0
      }
     },
     "0ca7f7ced0cf410ebb8276be98ecdb90": {
      "model_module": "@jupyter-widgets/controls",
      "model_module_version": "1.5.0",
      "model_name": "ProgressStyleModel",
      "state": {
       "_model_module": "@jupyter-widgets/controls",
       "_model_module_version": "1.5.0",
       "_model_name": "ProgressStyleModel",
       "_view_count": null,
       "_view_module": "@jupyter-widgets/base",
       "_view_module_version": "1.2.0",
       "_view_name": "StyleView",
       "bar_color": null,
       "description_width": ""
      }
     },
     "0ce400c749f2451f8c1a4b2d5a6fe172": {
      "model_module": "@jupyter-widgets/base",
      "model_module_version": "1.2.0",
      "model_name": "LayoutModel",
      "state": {
       "_model_module": "@jupyter-widgets/base",
       "_model_module_version": "1.2.0",
       "_model_name": "LayoutModel",
       "_view_count": null,
       "_view_module": "@jupyter-widgets/base",
       "_view_module_version": "1.2.0",
       "_view_name": "LayoutView",
       "align_content": null,
       "align_items": null,
       "align_self": null,
       "border": null,
       "bottom": null,
       "display": null,
       "flex": null,
       "flex_flow": null,
       "grid_area": null,
       "grid_auto_columns": null,
       "grid_auto_flow": null,
       "grid_auto_rows": null,
       "grid_column": null,
       "grid_gap": null,
       "grid_row": null,
       "grid_template_areas": null,
       "grid_template_columns": null,
       "grid_template_rows": null,
       "height": null,
       "justify_content": null,
       "justify_items": null,
       "left": null,
       "margin": null,
       "max_height": null,
       "max_width": null,
       "min_height": null,
       "min_width": null,
       "object_fit": null,
       "object_position": null,
       "order": null,
       "overflow": null,
       "overflow_x": null,
       "overflow_y": null,
       "padding": null,
       "right": null,
       "top": null,
       "visibility": null,
       "width": null
      }
     },
     "0d48d4264c7f478aae8dbb740a120bcb": {
      "model_module": "@jupyter-widgets/controls",
      "model_module_version": "1.5.0",
      "model_name": "HTMLModel",
      "state": {
       "_dom_classes": [],
       "_model_module": "@jupyter-widgets/controls",
       "_model_module_version": "1.5.0",
       "_model_name": "HTMLModel",
       "_view_count": null,
       "_view_module": "@jupyter-widgets/controls",
       "_view_module_version": "1.5.0",
       "_view_name": "HTMLView",
       "description": "",
       "description_tooltip": null,
       "layout": "IPY_MODEL_0ce400c749f2451f8c1a4b2d5a6fe172",
       "placeholder": "​",
       "style": "IPY_MODEL_2d8198cf729f41ebb73c5901a6fba930",
       "value": " 2/2 [00:34&lt;00:00, 14.58s/ba]"
      }
     },
     "0f0ff39177324e308fa7c01077c8a33b": {
      "model_module": "@jupyter-widgets/base",
      "model_module_version": "1.2.0",
      "model_name": "LayoutModel",
      "state": {
       "_model_module": "@jupyter-widgets/base",
       "_model_module_version": "1.2.0",
       "_model_name": "LayoutModel",
       "_view_count": null,
       "_view_module": "@jupyter-widgets/base",
       "_view_module_version": "1.2.0",
       "_view_name": "LayoutView",
       "align_content": null,
       "align_items": null,
       "align_self": null,
       "border": null,
       "bottom": null,
       "display": null,
       "flex": null,
       "flex_flow": null,
       "grid_area": null,
       "grid_auto_columns": null,
       "grid_auto_flow": null,
       "grid_auto_rows": null,
       "grid_column": null,
       "grid_gap": null,
       "grid_row": null,
       "grid_template_areas": null,
       "grid_template_columns": null,
       "grid_template_rows": null,
       "height": null,
       "justify_content": null,
       "justify_items": null,
       "left": null,
       "margin": null,
       "max_height": null,
       "max_width": null,
       "min_height": null,
       "min_width": null,
       "object_fit": null,
       "object_position": null,
       "order": null,
       "overflow": null,
       "overflow_x": null,
       "overflow_y": null,
       "padding": null,
       "right": null,
       "top": null,
       "visibility": null,
       "width": null
      }
     },
     "105c74d74751470d93febcf29fabfe2f": {
      "model_module": "@jupyter-widgets/base",
      "model_module_version": "1.2.0",
      "model_name": "LayoutModel",
      "state": {
       "_model_module": "@jupyter-widgets/base",
       "_model_module_version": "1.2.0",
       "_model_name": "LayoutModel",
       "_view_count": null,
       "_view_module": "@jupyter-widgets/base",
       "_view_module_version": "1.2.0",
       "_view_name": "LayoutView",
       "align_content": null,
       "align_items": null,
       "align_self": null,
       "border": null,
       "bottom": null,
       "display": null,
       "flex": null,
       "flex_flow": null,
       "grid_area": null,
       "grid_auto_columns": null,
       "grid_auto_flow": null,
       "grid_auto_rows": null,
       "grid_column": null,
       "grid_gap": null,
       "grid_row": null,
       "grid_template_areas": null,
       "grid_template_columns": null,
       "grid_template_rows": null,
       "height": null,
       "justify_content": null,
       "justify_items": null,
       "left": null,
       "margin": null,
       "max_height": null,
       "max_width": null,
       "min_height": null,
       "min_width": null,
       "object_fit": null,
       "object_position": null,
       "order": null,
       "overflow": null,
       "overflow_x": null,
       "overflow_y": null,
       "padding": null,
       "right": null,
       "top": null,
       "visibility": null,
       "width": null
      }
     },
     "134500e3b4344bf0a24178d10363b96c": {
      "model_module": "@jupyter-widgets/base",
      "model_module_version": "1.2.0",
      "model_name": "LayoutModel",
      "state": {
       "_model_module": "@jupyter-widgets/base",
       "_model_module_version": "1.2.0",
       "_model_name": "LayoutModel",
       "_view_count": null,
       "_view_module": "@jupyter-widgets/base",
       "_view_module_version": "1.2.0",
       "_view_name": "LayoutView",
       "align_content": null,
       "align_items": null,
       "align_self": null,
       "border": null,
       "bottom": null,
       "display": null,
       "flex": null,
       "flex_flow": null,
       "grid_area": null,
       "grid_auto_columns": null,
       "grid_auto_flow": null,
       "grid_auto_rows": null,
       "grid_column": null,
       "grid_gap": null,
       "grid_row": null,
       "grid_template_areas": null,
       "grid_template_columns": null,
       "grid_template_rows": null,
       "height": null,
       "justify_content": null,
       "justify_items": null,
       "left": null,
       "margin": null,
       "max_height": null,
       "max_width": null,
       "min_height": null,
       "min_width": null,
       "object_fit": null,
       "object_position": null,
       "order": null,
       "overflow": null,
       "overflow_x": null,
       "overflow_y": null,
       "padding": null,
       "right": null,
       "top": null,
       "visibility": null,
       "width": null
      }
     },
     "162566f9b4b14e66bd8646ebdf2bab60": {
      "model_module": "@jupyter-widgets/base",
      "model_module_version": "1.2.0",
      "model_name": "LayoutModel",
      "state": {
       "_model_module": "@jupyter-widgets/base",
       "_model_module_version": "1.2.0",
       "_model_name": "LayoutModel",
       "_view_count": null,
       "_view_module": "@jupyter-widgets/base",
       "_view_module_version": "1.2.0",
       "_view_name": "LayoutView",
       "align_content": null,
       "align_items": null,
       "align_self": null,
       "border": null,
       "bottom": null,
       "display": null,
       "flex": null,
       "flex_flow": null,
       "grid_area": null,
       "grid_auto_columns": null,
       "grid_auto_flow": null,
       "grid_auto_rows": null,
       "grid_column": null,
       "grid_gap": null,
       "grid_row": null,
       "grid_template_areas": null,
       "grid_template_columns": null,
       "grid_template_rows": null,
       "height": null,
       "justify_content": null,
       "justify_items": null,
       "left": null,
       "margin": null,
       "max_height": null,
       "max_width": null,
       "min_height": null,
       "min_width": null,
       "object_fit": null,
       "object_position": null,
       "order": null,
       "overflow": null,
       "overflow_x": null,
       "overflow_y": null,
       "padding": null,
       "right": null,
       "top": null,
       "visibility": null,
       "width": null
      }
     },
     "17de1250530c430ea292c471b774edf1": {
      "model_module": "@jupyter-widgets/base",
      "model_module_version": "1.2.0",
      "model_name": "LayoutModel",
      "state": {
       "_model_module": "@jupyter-widgets/base",
       "_model_module_version": "1.2.0",
       "_model_name": "LayoutModel",
       "_view_count": null,
       "_view_module": "@jupyter-widgets/base",
       "_view_module_version": "1.2.0",
       "_view_name": "LayoutView",
       "align_content": null,
       "align_items": null,
       "align_self": null,
       "border": null,
       "bottom": null,
       "display": null,
       "flex": null,
       "flex_flow": null,
       "grid_area": null,
       "grid_auto_columns": null,
       "grid_auto_flow": null,
       "grid_auto_rows": null,
       "grid_column": null,
       "grid_gap": null,
       "grid_row": null,
       "grid_template_areas": null,
       "grid_template_columns": null,
       "grid_template_rows": null,
       "height": null,
       "justify_content": null,
       "justify_items": null,
       "left": null,
       "margin": null,
       "max_height": null,
       "max_width": null,
       "min_height": null,
       "min_width": null,
       "object_fit": null,
       "object_position": null,
       "order": null,
       "overflow": null,
       "overflow_x": null,
       "overflow_y": null,
       "padding": null,
       "right": null,
       "top": null,
       "visibility": null,
       "width": null
      }
     },
     "24beb36feb2344b19e621610cf722492": {
      "model_module": "@jupyter-widgets/base",
      "model_module_version": "1.2.0",
      "model_name": "LayoutModel",
      "state": {
       "_model_module": "@jupyter-widgets/base",
       "_model_module_version": "1.2.0",
       "_model_name": "LayoutModel",
       "_view_count": null,
       "_view_module": "@jupyter-widgets/base",
       "_view_module_version": "1.2.0",
       "_view_name": "LayoutView",
       "align_content": null,
       "align_items": null,
       "align_self": null,
       "border": null,
       "bottom": null,
       "display": null,
       "flex": null,
       "flex_flow": null,
       "grid_area": null,
       "grid_auto_columns": null,
       "grid_auto_flow": null,
       "grid_auto_rows": null,
       "grid_column": null,
       "grid_gap": null,
       "grid_row": null,
       "grid_template_areas": null,
       "grid_template_columns": null,
       "grid_template_rows": null,
       "height": null,
       "justify_content": null,
       "justify_items": null,
       "left": null,
       "margin": null,
       "max_height": null,
       "max_width": null,
       "min_height": null,
       "min_width": null,
       "object_fit": null,
       "object_position": null,
       "order": null,
       "overflow": null,
       "overflow_x": null,
       "overflow_y": null,
       "padding": null,
       "right": null,
       "top": null,
       "visibility": null,
       "width": null
      }
     },
     "28db826e1bca4b98bb8440af226b8491": {
      "model_module": "@jupyter-widgets/controls",
      "model_module_version": "1.5.0",
      "model_name": "ProgressStyleModel",
      "state": {
       "_model_module": "@jupyter-widgets/controls",
       "_model_module_version": "1.5.0",
       "_model_name": "ProgressStyleModel",
       "_view_count": null,
       "_view_module": "@jupyter-widgets/base",
       "_view_module_version": "1.2.0",
       "_view_name": "StyleView",
       "bar_color": null,
       "description_width": ""
      }
     },
     "2ca15e4de93143df9541ccff42fc8ba6": {
      "model_module": "@jupyter-widgets/controls",
      "model_module_version": "1.5.0",
      "model_name": "FloatProgressModel",
      "state": {
       "_dom_classes": [],
       "_model_module": "@jupyter-widgets/controls",
       "_model_module_version": "1.5.0",
       "_model_name": "FloatProgressModel",
       "_view_count": null,
       "_view_module": "@jupyter-widgets/controls",
       "_view_module_version": "1.5.0",
       "_view_name": "ProgressView",
       "bar_style": "success",
       "description": "",
       "description_tooltip": null,
       "layout": "IPY_MODEL_162566f9b4b14e66bd8646ebdf2bab60",
       "max": 1.0,
       "min": 0.0,
       "orientation": "horizontal",
       "style": "IPY_MODEL_28db826e1bca4b98bb8440af226b8491",
       "value": 1.0
      }
     },
     "2d8198cf729f41ebb73c5901a6fba930": {
      "model_module": "@jupyter-widgets/controls",
      "model_module_version": "1.5.0",
      "model_name": "DescriptionStyleModel",
      "state": {
       "_model_module": "@jupyter-widgets/controls",
       "_model_module_version": "1.5.0",
       "_model_name": "DescriptionStyleModel",
       "_view_count": null,
       "_view_module": "@jupyter-widgets/base",
       "_view_module_version": "1.2.0",
       "_view_name": "StyleView",
       "description_width": ""
      }
     },
     "2d94cade67434770b73b732adb7c6df5": {
      "model_module": "@jupyter-widgets/base",
      "model_module_version": "1.2.0",
      "model_name": "LayoutModel",
      "state": {
       "_model_module": "@jupyter-widgets/base",
       "_model_module_version": "1.2.0",
       "_model_name": "LayoutModel",
       "_view_count": null,
       "_view_module": "@jupyter-widgets/base",
       "_view_module_version": "1.2.0",
       "_view_name": "LayoutView",
       "align_content": null,
       "align_items": null,
       "align_self": null,
       "border": null,
       "bottom": null,
       "display": null,
       "flex": null,
       "flex_flow": null,
       "grid_area": null,
       "grid_auto_columns": null,
       "grid_auto_flow": null,
       "grid_auto_rows": null,
       "grid_column": null,
       "grid_gap": null,
       "grid_row": null,
       "grid_template_areas": null,
       "grid_template_columns": null,
       "grid_template_rows": null,
       "height": null,
       "justify_content": null,
       "justify_items": null,
       "left": null,
       "margin": null,
       "max_height": null,
       "max_width": null,
       "min_height": null,
       "min_width": null,
       "object_fit": null,
       "object_position": null,
       "order": null,
       "overflow": null,
       "overflow_x": null,
       "overflow_y": null,
       "padding": null,
       "right": null,
       "top": null,
       "visibility": null,
       "width": null
      }
     },
     "33f8da5e0fcd412db22cc5519387bc9b": {
      "model_module": "@jupyter-widgets/controls",
      "model_module_version": "1.5.0",
      "model_name": "HTMLModel",
      "state": {
       "_dom_classes": [],
       "_model_module": "@jupyter-widgets/controls",
       "_model_module_version": "1.5.0",
       "_model_name": "HTMLModel",
       "_view_count": null,
       "_view_module": "@jupyter-widgets/controls",
       "_view_module_version": "1.5.0",
       "_view_name": "HTMLView",
       "description": "",
       "description_tooltip": null,
       "layout": "IPY_MODEL_a898549aa73d47319ed10cce3af21bb7",
       "placeholder": "​",
       "style": "IPY_MODEL_a770a0a7c9ac481695ab6bc84d580f7b",
       "value": "100%"
      }
     },
     "398336fe10304bceabe3cb52127b1ef8": {
      "model_module": "@jupyter-widgets/controls",
      "model_module_version": "1.5.0",
      "model_name": "FloatProgressModel",
      "state": {
       "_dom_classes": [],
       "_model_module": "@jupyter-widgets/controls",
       "_model_module_version": "1.5.0",
       "_model_name": "FloatProgressModel",
       "_view_count": null,
       "_view_module": "@jupyter-widgets/controls",
       "_view_module_version": "1.5.0",
       "_view_name": "ProgressView",
       "bar_style": "success",
       "description": "",
       "description_tooltip": null,
       "layout": "IPY_MODEL_6d3f720c3bc747eca9966990ccd0440f",
       "max": 2.0,
       "min": 0.0,
       "orientation": "horizontal",
       "style": "IPY_MODEL_f8fe1e86113844e9b2b67914925c6912",
       "value": 2.0
      }
     },
     "39c407fb22094ce69b563240c00c52cc": {
      "model_module": "@jupyter-widgets/controls",
      "model_module_version": "1.5.0",
      "model_name": "HTMLModel",
      "state": {
       "_dom_classes": [],
       "_model_module": "@jupyter-widgets/controls",
       "_model_module_version": "1.5.0",
       "_model_name": "HTMLModel",
       "_view_count": null,
       "_view_module": "@jupyter-widgets/controls",
       "_view_module_version": "1.5.0",
       "_view_name": "HTMLView",
       "description": "",
       "description_tooltip": null,
       "layout": "IPY_MODEL_ce7f35de411a4037878796881a9a18e5",
       "placeholder": "​",
       "style": "IPY_MODEL_6b2f414d04f94f0d88b14736c429e5a8",
       "value": " 67/67 [00:00&lt;00:00, 586.51ex/s]"
      }
     },
     "3c9aa07f9fa54b50bc1ca3b8c5915895": {
      "model_module": "@jupyter-widgets/controls",
      "model_module_version": "1.5.0",
      "model_name": "DescriptionStyleModel",
      "state": {
       "_model_module": "@jupyter-widgets/controls",
       "_model_module_version": "1.5.0",
       "_model_name": "DescriptionStyleModel",
       "_view_count": null,
       "_view_module": "@jupyter-widgets/base",
       "_view_module_version": "1.2.0",
       "_view_name": "StyleView",
       "description_width": ""
      }
     },
     "40ad6c0ab40f4458a089704f8efc827b": {
      "model_module": "@jupyter-widgets/base",
      "model_module_version": "1.2.0",
      "model_name": "LayoutModel",
      "state": {
       "_model_module": "@jupyter-widgets/base",
       "_model_module_version": "1.2.0",
       "_model_name": "LayoutModel",
       "_view_count": null,
       "_view_module": "@jupyter-widgets/base",
       "_view_module_version": "1.2.0",
       "_view_name": "LayoutView",
       "align_content": null,
       "align_items": null,
       "align_self": null,
       "border": null,
       "bottom": null,
       "display": null,
       "flex": null,
       "flex_flow": null,
       "grid_area": null,
       "grid_auto_columns": null,
       "grid_auto_flow": null,
       "grid_auto_rows": null,
       "grid_column": null,
       "grid_gap": null,
       "grid_row": null,
       "grid_template_areas": null,
       "grid_template_columns": null,
       "grid_template_rows": null,
       "height": null,
       "justify_content": null,
       "justify_items": null,
       "left": null,
       "margin": null,
       "max_height": null,
       "max_width": null,
       "min_height": null,
       "min_width": null,
       "object_fit": null,
       "object_position": null,
       "order": null,
       "overflow": null,
       "overflow_x": null,
       "overflow_y": null,
       "padding": null,
       "right": null,
       "top": null,
       "visibility": null,
       "width": null
      }
     },
     "4542ef70695b47adafb572639538d6b3": {
      "model_module": "@jupyter-widgets/base",
      "model_module_version": "1.2.0",
      "model_name": "LayoutModel",
      "state": {
       "_model_module": "@jupyter-widgets/base",
       "_model_module_version": "1.2.0",
       "_model_name": "LayoutModel",
       "_view_count": null,
       "_view_module": "@jupyter-widgets/base",
       "_view_module_version": "1.2.0",
       "_view_name": "LayoutView",
       "align_content": null,
       "align_items": null,
       "align_self": null,
       "border": null,
       "bottom": null,
       "display": null,
       "flex": null,
       "flex_flow": null,
       "grid_area": null,
       "grid_auto_columns": null,
       "grid_auto_flow": null,
       "grid_auto_rows": null,
       "grid_column": null,
       "grid_gap": null,
       "grid_row": null,
       "grid_template_areas": null,
       "grid_template_columns": null,
       "grid_template_rows": null,
       "height": null,
       "justify_content": null,
       "justify_items": null,
       "left": null,
       "margin": null,
       "max_height": null,
       "max_width": null,
       "min_height": null,
       "min_width": null,
       "object_fit": null,
       "object_position": null,
       "order": null,
       "overflow": null,
       "overflow_x": null,
       "overflow_y": null,
       "padding": null,
       "right": null,
       "top": null,
       "visibility": null,
       "width": null
      }
     },
     "46e5097f2a19445298262d6df4dce898": {
      "model_module": "@jupyter-widgets/controls",
      "model_module_version": "1.5.0",
      "model_name": "HTMLModel",
      "state": {
       "_dom_classes": [],
       "_model_module": "@jupyter-widgets/controls",
       "_model_module_version": "1.5.0",
       "_model_name": "HTMLModel",
       "_view_count": null,
       "_view_module": "@jupyter-widgets/controls",
       "_view_module_version": "1.5.0",
       "_view_name": "HTMLView",
       "description": "",
       "description_tooltip": null,
       "layout": "IPY_MODEL_db7ced7191f540a4b946d7884e0123aa",
       "placeholder": "​",
       "style": "IPY_MODEL_e96a80e9e6bc42b0a45f3e3c550cc047",
       "value": "100%"
      }
     },
     "5010d8ae28674b7b8384843bbc8adbdd": {
      "model_module": "@jupyter-widgets/base",
      "model_module_version": "1.2.0",
      "model_name": "LayoutModel",
      "state": {
       "_model_module": "@jupyter-widgets/base",
       "_model_module_version": "1.2.0",
       "_model_name": "LayoutModel",
       "_view_count": null,
       "_view_module": "@jupyter-widgets/base",
       "_view_module_version": "1.2.0",
       "_view_name": "LayoutView",
       "align_content": null,
       "align_items": null,
       "align_self": null,
       "border": null,
       "bottom": null,
       "display": null,
       "flex": null,
       "flex_flow": null,
       "grid_area": null,
       "grid_auto_columns": null,
       "grid_auto_flow": null,
       "grid_auto_rows": null,
       "grid_column": null,
       "grid_gap": null,
       "grid_row": null,
       "grid_template_areas": null,
       "grid_template_columns": null,
       "grid_template_rows": null,
       "height": null,
       "justify_content": null,
       "justify_items": null,
       "left": null,
       "margin": null,
       "max_height": null,
       "max_width": null,
       "min_height": null,
       "min_width": null,
       "object_fit": null,
       "object_position": null,
       "order": null,
       "overflow": null,
       "overflow_x": null,
       "overflow_y": null,
       "padding": null,
       "right": null,
       "top": null,
       "visibility": null,
       "width": null
      }
     },
     "519c01d6d8b546f2a4b080dcef96174e": {
      "model_module": "@jupyter-widgets/base",
      "model_module_version": "1.2.0",
      "model_name": "LayoutModel",
      "state": {
       "_model_module": "@jupyter-widgets/base",
       "_model_module_version": "1.2.0",
       "_model_name": "LayoutModel",
       "_view_count": null,
       "_view_module": "@jupyter-widgets/base",
       "_view_module_version": "1.2.0",
       "_view_name": "LayoutView",
       "align_content": null,
       "align_items": null,
       "align_self": null,
       "border": null,
       "bottom": null,
       "display": null,
       "flex": null,
       "flex_flow": null,
       "grid_area": null,
       "grid_auto_columns": null,
       "grid_auto_flow": null,
       "grid_auto_rows": null,
       "grid_column": null,
       "grid_gap": null,
       "grid_row": null,
       "grid_template_areas": null,
       "grid_template_columns": null,
       "grid_template_rows": null,
       "height": null,
       "justify_content": null,
       "justify_items": null,
       "left": null,
       "margin": null,
       "max_height": null,
       "max_width": null,
       "min_height": null,
       "min_width": null,
       "object_fit": null,
       "object_position": null,
       "order": null,
       "overflow": null,
       "overflow_x": null,
       "overflow_y": null,
       "padding": null,
       "right": null,
       "top": null,
       "visibility": null,
       "width": null
      }
     },
     "564b1cbc618d40be9c90a18e43c11a2e": {
      "model_module": "@jupyter-widgets/controls",
      "model_module_version": "1.5.0",
      "model_name": "HBoxModel",
      "state": {
       "_dom_classes": [],
       "_model_module": "@jupyter-widgets/controls",
       "_model_module_version": "1.5.0",
       "_model_name": "HBoxModel",
       "_view_count": null,
       "_view_module": "@jupyter-widgets/controls",
       "_view_module_version": "1.5.0",
       "_view_name": "HBoxView",
       "box_style": "",
       "children": [
        "IPY_MODEL_cc5c6afa6e864e1bb08acfa8d5bf41e0",
        "IPY_MODEL_df5079b6e13f4a0ebc83f8e6168f193f",
        "IPY_MODEL_7a9ff352af1e46068304a123a622d155"
       ],
       "layout": "IPY_MODEL_24beb36feb2344b19e621610cf722492"
      }
     },
     "583eda857a6f4f68b779d6d66f292888": {
      "model_module": "@jupyter-widgets/controls",
      "model_module_version": "1.5.0",
      "model_name": "DescriptionStyleModel",
      "state": {
       "_model_module": "@jupyter-widgets/controls",
       "_model_module_version": "1.5.0",
       "_model_name": "DescriptionStyleModel",
       "_view_count": null,
       "_view_module": "@jupyter-widgets/base",
       "_view_module_version": "1.2.0",
       "_view_name": "StyleView",
       "description_width": ""
      }
     },
     "597e59684c7f47fdab13449e6fd35bff": {
      "model_module": "@jupyter-widgets/controls",
      "model_module_version": "1.5.0",
      "model_name": "ProgressStyleModel",
      "state": {
       "_model_module": "@jupyter-widgets/controls",
       "_model_module_version": "1.5.0",
       "_model_name": "ProgressStyleModel",
       "_view_count": null,
       "_view_module": "@jupyter-widgets/base",
       "_view_module_version": "1.2.0",
       "_view_name": "StyleView",
       "bar_color": null,
       "description_width": ""
      }
     },
     "5d14a26391214607bed1d66a2ae8566f": {
      "model_module": "@jupyter-widgets/controls",
      "model_module_version": "1.5.0",
      "model_name": "HTMLModel",
      "state": {
       "_dom_classes": [],
       "_model_module": "@jupyter-widgets/controls",
       "_model_module_version": "1.5.0",
       "_model_name": "HTMLModel",
       "_view_count": null,
       "_view_module": "@jupyter-widgets/controls",
       "_view_module_version": "1.5.0",
       "_view_name": "HTMLView",
       "description": "",
       "description_tooltip": null,
       "layout": "IPY_MODEL_b5ee0b845c98471a92e1eb3f4209466d",
       "placeholder": "​",
       "style": "IPY_MODEL_e22d9cd506ec4a53a1ac714c64bd6760",
       "value": " 1/1 [00:01&lt;00:00,  1.93s/ba]"
      }
     },
     "67fc6186043b43ae893055349034fdbe": {
      "model_module": "@jupyter-widgets/controls",
      "model_module_version": "1.5.0",
      "model_name": "LabelModel",
      "state": {
       "_dom_classes": [],
       "_model_module": "@jupyter-widgets/controls",
       "_model_module_version": "1.5.0",
       "_model_name": "LabelModel",
       "_view_count": null,
       "_view_module": "@jupyter-widgets/controls",
       "_view_module_version": "1.5.0",
       "_view_name": "LabelView",
       "description": "",
       "description_tooltip": null,
       "layout": "IPY_MODEL_912248c9fcd446a0b2c12270bb858b5f",
       "placeholder": "​",
       "style": "IPY_MODEL_fcfb112c98a94b6d9c037707260a7f11",
       "value": ""
      }
     },
     "68bcfa24fbfc4e9582594980421bc171": {
      "model_module": "@jupyter-widgets/controls",
      "model_module_version": "1.5.0",
      "model_name": "ProgressStyleModel",
      "state": {
       "_model_module": "@jupyter-widgets/controls",
       "_model_module_version": "1.5.0",
       "_model_name": "ProgressStyleModel",
       "_view_count": null,
       "_view_module": "@jupyter-widgets/base",
       "_view_module_version": "1.2.0",
       "_view_name": "StyleView",
       "bar_color": null,
       "description_width": ""
      }
     },
     "6b2f414d04f94f0d88b14736c429e5a8": {
      "model_module": "@jupyter-widgets/controls",
      "model_module_version": "1.5.0",
      "model_name": "DescriptionStyleModel",
      "state": {
       "_model_module": "@jupyter-widgets/controls",
       "_model_module_version": "1.5.0",
       "_model_name": "DescriptionStyleModel",
       "_view_count": null,
       "_view_module": "@jupyter-widgets/base",
       "_view_module_version": "1.2.0",
       "_view_name": "StyleView",
       "description_width": ""
      }
     },
     "6d3f720c3bc747eca9966990ccd0440f": {
      "model_module": "@jupyter-widgets/base",
      "model_module_version": "1.2.0",
      "model_name": "LayoutModel",
      "state": {
       "_model_module": "@jupyter-widgets/base",
       "_model_module_version": "1.2.0",
       "_model_name": "LayoutModel",
       "_view_count": null,
       "_view_module": "@jupyter-widgets/base",
       "_view_module_version": "1.2.0",
       "_view_name": "LayoutView",
       "align_content": null,
       "align_items": null,
       "align_self": null,
       "border": null,
       "bottom": null,
       "display": null,
       "flex": null,
       "flex_flow": null,
       "grid_area": null,
       "grid_auto_columns": null,
       "grid_auto_flow": null,
       "grid_auto_rows": null,
       "grid_column": null,
       "grid_gap": null,
       "grid_row": null,
       "grid_template_areas": null,
       "grid_template_columns": null,
       "grid_template_rows": null,
       "height": null,
       "justify_content": null,
       "justify_items": null,
       "left": null,
       "margin": null,
       "max_height": null,
       "max_width": null,
       "min_height": null,
       "min_width": null,
       "object_fit": null,
       "object_position": null,
       "order": null,
       "overflow": null,
       "overflow_x": null,
       "overflow_y": null,
       "padding": null,
       "right": null,
       "top": null,
       "visibility": null,
       "width": null
      }
     },
     "76c30244eca24ba09875337ebf7b96c1": {
      "model_module": "@jupyter-widgets/controls",
      "model_module_version": "1.5.0",
      "model_name": "HBoxModel",
      "state": {
       "_dom_classes": [],
       "_model_module": "@jupyter-widgets/controls",
       "_model_module_version": "1.5.0",
       "_model_name": "HBoxModel",
       "_view_count": null,
       "_view_module": "@jupyter-widgets/controls",
       "_view_module_version": "1.5.0",
       "_view_name": "HBoxView",
       "box_style": "",
       "children": [
        "IPY_MODEL_fdaeae53aec74600be1c33266f69455b",
        "IPY_MODEL_398336fe10304bceabe3cb52127b1ef8",
        "IPY_MODEL_0d48d4264c7f478aae8dbb740a120bcb"
       ],
       "layout": "IPY_MODEL_105c74d74751470d93febcf29fabfe2f"
      }
     },
     "779054365b2b4914b43baef8a8ffaeb3": {
      "model_module": "@jupyter-widgets/base",
      "model_module_version": "1.2.0",
      "model_name": "LayoutModel",
      "state": {
       "_model_module": "@jupyter-widgets/base",
       "_model_module_version": "1.2.0",
       "_model_name": "LayoutModel",
       "_view_count": null,
       "_view_module": "@jupyter-widgets/base",
       "_view_module_version": "1.2.0",
       "_view_name": "LayoutView",
       "align_content": null,
       "align_items": null,
       "align_self": null,
       "border": null,
       "bottom": null,
       "display": null,
       "flex": null,
       "flex_flow": null,
       "grid_area": null,
       "grid_auto_columns": null,
       "grid_auto_flow": null,
       "grid_auto_rows": null,
       "grid_column": null,
       "grid_gap": null,
       "grid_row": null,
       "grid_template_areas": null,
       "grid_template_columns": null,
       "grid_template_rows": null,
       "height": null,
       "justify_content": null,
       "justify_items": null,
       "left": null,
       "margin": null,
       "max_height": null,
       "max_width": null,
       "min_height": null,
       "min_width": null,
       "object_fit": null,
       "object_position": null,
       "order": null,
       "overflow": null,
       "overflow_x": null,
       "overflow_y": null,
       "padding": null,
       "right": null,
       "top": null,
       "visibility": null,
       "width": null
      }
     },
     "7a9ff352af1e46068304a123a622d155": {
      "model_module": "@jupyter-widgets/controls",
      "model_module_version": "1.5.0",
      "model_name": "HTMLModel",
      "state": {
       "_dom_classes": [],
       "_model_module": "@jupyter-widgets/controls",
       "_model_module_version": "1.5.0",
       "_model_name": "HTMLModel",
       "_view_count": null,
       "_view_module": "@jupyter-widgets/controls",
       "_view_module_version": "1.5.0",
       "_view_name": "HTMLView",
       "description": "",
       "description_tooltip": null,
       "layout": "IPY_MODEL_abaaa1f445be45ecab25ca9276c0c131",
       "placeholder": "​",
       "style": "IPY_MODEL_86763616342747fe87a34e4ad080b523",
       "value": " 816/816 [00:01&lt;00:00, 762.42ex/s]"
      }
     },
     "7c916dde08fe43e88bb639ffde9abd1b": {
      "model_module": "@jupyter-widgets/base",
      "model_module_version": "1.2.0",
      "model_name": "LayoutModel",
      "state": {
       "_model_module": "@jupyter-widgets/base",
       "_model_module_version": "1.2.0",
       "_model_name": "LayoutModel",
       "_view_count": null,
       "_view_module": "@jupyter-widgets/base",
       "_view_module_version": "1.2.0",
       "_view_name": "LayoutView",
       "align_content": null,
       "align_items": null,
       "align_self": null,
       "border": null,
       "bottom": null,
       "display": null,
       "flex": null,
       "flex_flow": null,
       "grid_area": null,
       "grid_auto_columns": null,
       "grid_auto_flow": null,
       "grid_auto_rows": null,
       "grid_column": null,
       "grid_gap": null,
       "grid_row": null,
       "grid_template_areas": null,
       "grid_template_columns": null,
       "grid_template_rows": null,
       "height": null,
       "justify_content": null,
       "justify_items": null,
       "left": null,
       "margin": null,
       "max_height": null,
       "max_width": null,
       "min_height": null,
       "min_width": null,
       "object_fit": null,
       "object_position": null,
       "order": null,
       "overflow": null,
       "overflow_x": null,
       "overflow_y": null,
       "padding": null,
       "right": null,
       "top": null,
       "visibility": null,
       "width": null
      }
     },
     "7f0289355ec04587ba9df05d60f58a6a": {
      "model_module": "@jupyter-widgets/controls",
      "model_module_version": "1.5.0",
      "model_name": "DescriptionStyleModel",
      "state": {
       "_model_module": "@jupyter-widgets/controls",
       "_model_module_version": "1.5.0",
       "_model_name": "DescriptionStyleModel",
       "_view_count": null,
       "_view_module": "@jupyter-widgets/base",
       "_view_module_version": "1.2.0",
       "_view_name": "StyleView",
       "description_width": ""
      }
     },
     "7fa31db949984a7f9f1b8d4c90a6bc2f": {
      "model_module": "@jupyter-widgets/controls",
      "model_module_version": "1.5.0",
      "model_name": "HBoxModel",
      "state": {
       "_dom_classes": [],
       "_model_module": "@jupyter-widgets/controls",
       "_model_module_version": "1.5.0",
       "_model_name": "HBoxModel",
       "_view_count": null,
       "_view_module": "@jupyter-widgets/controls",
       "_view_module_version": "1.5.0",
       "_view_name": "HBoxView",
       "box_style": "",
       "children": [
        "IPY_MODEL_0a819df80ba54945ad4179c899daa5df",
        "IPY_MODEL_0c7209bdb6d94ecc817bf74c38257169",
        "IPY_MODEL_cbcc4ff591184ffbb253e65c9f1bde34"
       ],
       "layout": "IPY_MODEL_17de1250530c430ea292c471b774edf1"
      }
     },
     "7fe88b208e5c4962b6f81dfc92581e29": {
      "model_module": "@jupyter-widgets/controls",
      "model_module_version": "1.5.0",
      "model_name": "DescriptionStyleModel",
      "state": {
       "_model_module": "@jupyter-widgets/controls",
       "_model_module_version": "1.5.0",
       "_model_name": "DescriptionStyleModel",
       "_view_count": null,
       "_view_module": "@jupyter-widgets/base",
       "_view_module_version": "1.2.0",
       "_view_name": "StyleView",
       "description_width": ""
      }
     },
     "86763616342747fe87a34e4ad080b523": {
      "model_module": "@jupyter-widgets/controls",
      "model_module_version": "1.5.0",
      "model_name": "DescriptionStyleModel",
      "state": {
       "_model_module": "@jupyter-widgets/controls",
       "_model_module_version": "1.5.0",
       "_model_name": "DescriptionStyleModel",
       "_view_count": null,
       "_view_module": "@jupyter-widgets/base",
       "_view_module_version": "1.2.0",
       "_view_name": "StyleView",
       "description_width": ""
      }
     },
     "89317a46b15445ac970b644d5dd59ac4": {
      "model_module": "@jupyter-widgets/base",
      "model_module_version": "1.2.0",
      "model_name": "LayoutModel",
      "state": {
       "_model_module": "@jupyter-widgets/base",
       "_model_module_version": "1.2.0",
       "_model_name": "LayoutModel",
       "_view_count": null,
       "_view_module": "@jupyter-widgets/base",
       "_view_module_version": "1.2.0",
       "_view_name": "LayoutView",
       "align_content": null,
       "align_items": null,
       "align_self": null,
       "border": null,
       "bottom": null,
       "display": null,
       "flex": null,
       "flex_flow": null,
       "grid_area": null,
       "grid_auto_columns": null,
       "grid_auto_flow": null,
       "grid_auto_rows": null,
       "grid_column": null,
       "grid_gap": null,
       "grid_row": null,
       "grid_template_areas": null,
       "grid_template_columns": null,
       "grid_template_rows": null,
       "height": null,
       "justify_content": null,
       "justify_items": null,
       "left": null,
       "margin": null,
       "max_height": null,
       "max_width": null,
       "min_height": null,
       "min_width": null,
       "object_fit": null,
       "object_position": null,
       "order": null,
       "overflow": null,
       "overflow_x": null,
       "overflow_y": null,
       "padding": null,
       "right": null,
       "top": null,
       "visibility": null,
       "width": null
      }
     },
     "89576efc415642f189263faf3863f042": {
      "model_module": "@jupyter-widgets/base",
      "model_module_version": "1.2.0",
      "model_name": "LayoutModel",
      "state": {
       "_model_module": "@jupyter-widgets/base",
       "_model_module_version": "1.2.0",
       "_model_name": "LayoutModel",
       "_view_count": null,
       "_view_module": "@jupyter-widgets/base",
       "_view_module_version": "1.2.0",
       "_view_name": "LayoutView",
       "align_content": null,
       "align_items": null,
       "align_self": null,
       "border": null,
       "bottom": null,
       "display": null,
       "flex": null,
       "flex_flow": null,
       "grid_area": null,
       "grid_auto_columns": null,
       "grid_auto_flow": null,
       "grid_auto_rows": null,
       "grid_column": null,
       "grid_gap": null,
       "grid_row": null,
       "grid_template_areas": null,
       "grid_template_columns": null,
       "grid_template_rows": null,
       "height": null,
       "justify_content": null,
       "justify_items": null,
       "left": null,
       "margin": null,
       "max_height": null,
       "max_width": null,
       "min_height": null,
       "min_width": null,
       "object_fit": null,
       "object_position": null,
       "order": null,
       "overflow": null,
       "overflow_x": null,
       "overflow_y": null,
       "padding": null,
       "right": null,
       "top": null,
       "visibility": null,
       "width": null
      }
     },
     "8afa423f4d03489d9f9617e1a3593f87": {
      "model_module": "@jupyter-widgets/controls",
      "model_module_version": "1.5.0",
      "model_name": "FloatProgressModel",
      "state": {
       "_dom_classes": [],
       "_model_module": "@jupyter-widgets/controls",
       "_model_module_version": "1.5.0",
       "_model_name": "FloatProgressModel",
       "_view_count": null,
       "_view_module": "@jupyter-widgets/controls",
       "_view_module_version": "1.5.0",
       "_view_name": "ProgressView",
       "bar_style": "success",
       "description": "",
       "description_tooltip": null,
       "layout": "IPY_MODEL_ad6e5f4dae854c1ab86f62d07dadc972",
       "max": 1.0,
       "min": 0.0,
       "orientation": "horizontal",
       "style": "IPY_MODEL_c407a4e8164041b6900cf76e4ca7edef",
       "value": 1.0
      }
     },
     "8b6255e7a3774a8da3e6ac5d09edcc23": {
      "model_module": "@jupyter-widgets/controls",
      "model_module_version": "1.5.0",
      "model_name": "DescriptionStyleModel",
      "state": {
       "_model_module": "@jupyter-widgets/controls",
       "_model_module_version": "1.5.0",
       "_model_name": "DescriptionStyleModel",
       "_view_count": null,
       "_view_module": "@jupyter-widgets/base",
       "_view_module_version": "1.2.0",
       "_view_name": "StyleView",
       "description_width": ""
      }
     },
     "8c92bed6a68941859c3c2d822d597120": {
      "model_module": "@jupyter-widgets/base",
      "model_module_version": "1.2.0",
      "model_name": "LayoutModel",
      "state": {
       "_model_module": "@jupyter-widgets/base",
       "_model_module_version": "1.2.0",
       "_model_name": "LayoutModel",
       "_view_count": null,
       "_view_module": "@jupyter-widgets/base",
       "_view_module_version": "1.2.0",
       "_view_name": "LayoutView",
       "align_content": null,
       "align_items": null,
       "align_self": null,
       "border": null,
       "bottom": null,
       "display": null,
       "flex": null,
       "flex_flow": null,
       "grid_area": null,
       "grid_auto_columns": null,
       "grid_auto_flow": null,
       "grid_auto_rows": null,
       "grid_column": null,
       "grid_gap": null,
       "grid_row": null,
       "grid_template_areas": null,
       "grid_template_columns": null,
       "grid_template_rows": null,
       "height": null,
       "justify_content": null,
       "justify_items": null,
       "left": null,
       "margin": null,
       "max_height": null,
       "max_width": null,
       "min_height": null,
       "min_width": null,
       "object_fit": null,
       "object_position": null,
       "order": null,
       "overflow": null,
       "overflow_x": null,
       "overflow_y": null,
       "padding": null,
       "right": null,
       "top": null,
       "visibility": null,
       "width": null
      }
     },
     "8ff09f2b47a4408a8831bec15d0a2d1f": {
      "model_module": "@jupyter-widgets/controls",
      "model_module_version": "1.5.0",
      "model_name": "HTMLModel",
      "state": {
       "_dom_classes": [],
       "_model_module": "@jupyter-widgets/controls",
       "_model_module_version": "1.5.0",
       "_model_name": "HTMLModel",
       "_view_count": null,
       "_view_module": "@jupyter-widgets/controls",
       "_view_module_version": "1.5.0",
       "_view_name": "HTMLView",
       "description": "",
       "description_tooltip": null,
       "layout": "IPY_MODEL_aa5a10f61a0849e3807cb046dea58a45",
       "placeholder": "​",
       "style": "IPY_MODEL_583eda857a6f4f68b779d6d66f292888",
       "value": "100%"
      }
     },
     "912248c9fcd446a0b2c12270bb858b5f": {
      "model_module": "@jupyter-widgets/base",
      "model_module_version": "1.2.0",
      "model_name": "LayoutModel",
      "state": {
       "_model_module": "@jupyter-widgets/base",
       "_model_module_version": "1.2.0",
       "_model_name": "LayoutModel",
       "_view_count": null,
       "_view_module": "@jupyter-widgets/base",
       "_view_module_version": "1.2.0",
       "_view_name": "LayoutView",
       "align_content": null,
       "align_items": null,
       "align_self": null,
       "border": null,
       "bottom": null,
       "display": null,
       "flex": null,
       "flex_flow": null,
       "grid_area": null,
       "grid_auto_columns": null,
       "grid_auto_flow": null,
       "grid_auto_rows": null,
       "grid_column": null,
       "grid_gap": null,
       "grid_row": null,
       "grid_template_areas": null,
       "grid_template_columns": null,
       "grid_template_rows": null,
       "height": null,
       "justify_content": null,
       "justify_items": null,
       "left": null,
       "margin": null,
       "max_height": null,
       "max_width": null,
       "min_height": null,
       "min_width": null,
       "object_fit": null,
       "object_position": null,
       "order": null,
       "overflow": null,
       "overflow_x": null,
       "overflow_y": null,
       "padding": null,
       "right": null,
       "top": null,
       "visibility": null,
       "width": null
      }
     },
     "9a4c6d3bab094fedbb2f0e5c8244d00e": {
      "model_module": "@jupyter-widgets/controls",
      "model_module_version": "1.5.0",
      "model_name": "HBoxModel",
      "state": {
       "_dom_classes": [],
       "_model_module": "@jupyter-widgets/controls",
       "_model_module_version": "1.5.0",
       "_model_name": "HBoxModel",
       "_view_count": null,
       "_view_module": "@jupyter-widgets/controls",
       "_view_module_version": "1.5.0",
       "_view_name": "HBoxView",
       "box_style": "",
       "children": [
        "IPY_MODEL_ef71308126884f04b1d84725bb53d334",
        "IPY_MODEL_2ca15e4de93143df9541ccff42fc8ba6",
        "IPY_MODEL_dd46feea5c694adab9c1c3aaae85a3af"
       ],
       "layout": "IPY_MODEL_4542ef70695b47adafb572639538d6b3"
      }
     },
     "9c2a65b3dccf432fac85eddfb95b7eb1": {
      "model_module": "@jupyter-widgets/controls",
      "model_module_version": "1.5.0",
      "model_name": "HTMLModel",
      "state": {
       "_dom_classes": [],
       "_model_module": "@jupyter-widgets/controls",
       "_model_module_version": "1.5.0",
       "_model_name": "HTMLModel",
       "_view_count": null,
       "_view_module": "@jupyter-widgets/controls",
       "_view_module_version": "1.5.0",
       "_view_name": "HTMLView",
       "description": "",
       "description_tooltip": null,
       "layout": "IPY_MODEL_7c916dde08fe43e88bb639ffde9abd1b",
       "placeholder": "​",
       "style": "IPY_MODEL_b1a88661415341f1914c6cc5187782a0",
       "value": "100%"
      }
     },
     "a296c63b8e244e21a578ad2420f4eb11": {
      "model_module": "@jupyter-widgets/base",
      "model_module_version": "1.2.0",
      "model_name": "LayoutModel",
      "state": {
       "_model_module": "@jupyter-widgets/base",
       "_model_module_version": "1.2.0",
       "_model_name": "LayoutModel",
       "_view_count": null,
       "_view_module": "@jupyter-widgets/base",
       "_view_module_version": "1.2.0",
       "_view_name": "LayoutView",
       "align_content": null,
       "align_items": null,
       "align_self": null,
       "border": null,
       "bottom": null,
       "display": null,
       "flex": null,
       "flex_flow": null,
       "grid_area": null,
       "grid_auto_columns": null,
       "grid_auto_flow": null,
       "grid_auto_rows": null,
       "grid_column": null,
       "grid_gap": null,
       "grid_row": null,
       "grid_template_areas": null,
       "grid_template_columns": null,
       "grid_template_rows": null,
       "height": null,
       "justify_content": null,
       "justify_items": null,
       "left": null,
       "margin": null,
       "max_height": null,
       "max_width": null,
       "min_height": null,
       "min_width": null,
       "object_fit": null,
       "object_position": null,
       "order": null,
       "overflow": null,
       "overflow_x": null,
       "overflow_y": null,
       "padding": null,
       "right": null,
       "top": null,
       "visibility": null,
       "width": null
      }
     },
     "a3004914650b473e9eb3beb3dbadebcd": {
      "model_module": "@jupyter-widgets/controls",
      "model_module_version": "1.5.0",
      "model_name": "DescriptionStyleModel",
      "state": {
       "_model_module": "@jupyter-widgets/controls",
       "_model_module_version": "1.5.0",
       "_model_name": "DescriptionStyleModel",
       "_view_count": null,
       "_view_module": "@jupyter-widgets/base",
       "_view_module_version": "1.2.0",
       "_view_name": "StyleView",
       "description_width": ""
      }
     },
     "a770a0a7c9ac481695ab6bc84d580f7b": {
      "model_module": "@jupyter-widgets/controls",
      "model_module_version": "1.5.0",
      "model_name": "DescriptionStyleModel",
      "state": {
       "_model_module": "@jupyter-widgets/controls",
       "_model_module_version": "1.5.0",
       "_model_name": "DescriptionStyleModel",
       "_view_count": null,
       "_view_module": "@jupyter-widgets/base",
       "_view_module_version": "1.2.0",
       "_view_name": "StyleView",
       "description_width": ""
      }
     },
     "a898549aa73d47319ed10cce3af21bb7": {
      "model_module": "@jupyter-widgets/base",
      "model_module_version": "1.2.0",
      "model_name": "LayoutModel",
      "state": {
       "_model_module": "@jupyter-widgets/base",
       "_model_module_version": "1.2.0",
       "_model_name": "LayoutModel",
       "_view_count": null,
       "_view_module": "@jupyter-widgets/base",
       "_view_module_version": "1.2.0",
       "_view_name": "LayoutView",
       "align_content": null,
       "align_items": null,
       "align_self": null,
       "border": null,
       "bottom": null,
       "display": null,
       "flex": null,
       "flex_flow": null,
       "grid_area": null,
       "grid_auto_columns": null,
       "grid_auto_flow": null,
       "grid_auto_rows": null,
       "grid_column": null,
       "grid_gap": null,
       "grid_row": null,
       "grid_template_areas": null,
       "grid_template_columns": null,
       "grid_template_rows": null,
       "height": null,
       "justify_content": null,
       "justify_items": null,
       "left": null,
       "margin": null,
       "max_height": null,
       "max_width": null,
       "min_height": null,
       "min_width": null,
       "object_fit": null,
       "object_position": null,
       "order": null,
       "overflow": null,
       "overflow_x": null,
       "overflow_y": null,
       "padding": null,
       "right": null,
       "top": null,
       "visibility": null,
       "width": null
      }
     },
     "aa5a10f61a0849e3807cb046dea58a45": {
      "model_module": "@jupyter-widgets/base",
      "model_module_version": "1.2.0",
      "model_name": "LayoutModel",
      "state": {
       "_model_module": "@jupyter-widgets/base",
       "_model_module_version": "1.2.0",
       "_model_name": "LayoutModel",
       "_view_count": null,
       "_view_module": "@jupyter-widgets/base",
       "_view_module_version": "1.2.0",
       "_view_name": "LayoutView",
       "align_content": null,
       "align_items": null,
       "align_self": null,
       "border": null,
       "bottom": null,
       "display": null,
       "flex": null,
       "flex_flow": null,
       "grid_area": null,
       "grid_auto_columns": null,
       "grid_auto_flow": null,
       "grid_auto_rows": null,
       "grid_column": null,
       "grid_gap": null,
       "grid_row": null,
       "grid_template_areas": null,
       "grid_template_columns": null,
       "grid_template_rows": null,
       "height": null,
       "justify_content": null,
       "justify_items": null,
       "left": null,
       "margin": null,
       "max_height": null,
       "max_width": null,
       "min_height": null,
       "min_width": null,
       "object_fit": null,
       "object_position": null,
       "order": null,
       "overflow": null,
       "overflow_x": null,
       "overflow_y": null,
       "padding": null,
       "right": null,
       "top": null,
       "visibility": null,
       "width": null
      }
     },
     "aa66fd6411c548c98a0b46db6b2967b4": {
      "model_module": "@jupyter-widgets/controls",
      "model_module_version": "1.5.0",
      "model_name": "HTMLModel",
      "state": {
       "_dom_classes": [],
       "_model_module": "@jupyter-widgets/controls",
       "_model_module_version": "1.5.0",
       "_model_name": "HTMLModel",
       "_view_count": null,
       "_view_module": "@jupyter-widgets/controls",
       "_view_module_version": "1.5.0",
       "_view_name": "HTMLView",
       "description": "",
       "description_tooltip": null,
       "layout": "IPY_MODEL_a296c63b8e244e21a578ad2420f4eb11",
       "placeholder": "​",
       "style": "IPY_MODEL_8b6255e7a3774a8da3e6ac5d09edcc23",
       "value": " 5/5 [00:00&lt;00:00,  6.59it/s]"
      }
     },
     "abaaa1f445be45ecab25ca9276c0c131": {
      "model_module": "@jupyter-widgets/base",
      "model_module_version": "1.2.0",
      "model_name": "LayoutModel",
      "state": {
       "_model_module": "@jupyter-widgets/base",
       "_model_module_version": "1.2.0",
       "_model_name": "LayoutModel",
       "_view_count": null,
       "_view_module": "@jupyter-widgets/base",
       "_view_module_version": "1.2.0",
       "_view_name": "LayoutView",
       "align_content": null,
       "align_items": null,
       "align_self": null,
       "border": null,
       "bottom": null,
       "display": null,
       "flex": null,
       "flex_flow": null,
       "grid_area": null,
       "grid_auto_columns": null,
       "grid_auto_flow": null,
       "grid_auto_rows": null,
       "grid_column": null,
       "grid_gap": null,
       "grid_row": null,
       "grid_template_areas": null,
       "grid_template_columns": null,
       "grid_template_rows": null,
       "height": null,
       "justify_content": null,
       "justify_items": null,
       "left": null,
       "margin": null,
       "max_height": null,
       "max_width": null,
       "min_height": null,
       "min_width": null,
       "object_fit": null,
       "object_position": null,
       "order": null,
       "overflow": null,
       "overflow_x": null,
       "overflow_y": null,
       "padding": null,
       "right": null,
       "top": null,
       "visibility": null,
       "width": null
      }
     },
     "acdc641f2e90413aba9bf7336a2c0e36": {
      "model_module": "@jupyter-widgets/controls",
      "model_module_version": "1.5.0",
      "model_name": "ProgressStyleModel",
      "state": {
       "_model_module": "@jupyter-widgets/controls",
       "_model_module_version": "1.5.0",
       "_model_name": "ProgressStyleModel",
       "_view_count": null,
       "_view_module": "@jupyter-widgets/base",
       "_view_module_version": "1.2.0",
       "_view_name": "StyleView",
       "bar_color": null,
       "description_width": ""
      }
     },
     "ad6e5f4dae854c1ab86f62d07dadc972": {
      "model_module": "@jupyter-widgets/base",
      "model_module_version": "1.2.0",
      "model_name": "LayoutModel",
      "state": {
       "_model_module": "@jupyter-widgets/base",
       "_model_module_version": "1.2.0",
       "_model_name": "LayoutModel",
       "_view_count": null,
       "_view_module": "@jupyter-widgets/base",
       "_view_module_version": "1.2.0",
       "_view_name": "LayoutView",
       "align_content": null,
       "align_items": null,
       "align_self": null,
       "border": null,
       "bottom": null,
       "display": null,
       "flex": null,
       "flex_flow": null,
       "grid_area": null,
       "grid_auto_columns": null,
       "grid_auto_flow": null,
       "grid_auto_rows": null,
       "grid_column": null,
       "grid_gap": null,
       "grid_row": null,
       "grid_template_areas": null,
       "grid_template_columns": null,
       "grid_template_rows": null,
       "height": null,
       "justify_content": null,
       "justify_items": null,
       "left": null,
       "margin": null,
       "max_height": null,
       "max_width": null,
       "min_height": null,
       "min_width": null,
       "object_fit": null,
       "object_position": null,
       "order": null,
       "overflow": null,
       "overflow_x": null,
       "overflow_y": null,
       "padding": null,
       "right": null,
       "top": null,
       "visibility": null,
       "width": null
      }
     },
     "b0548c863a0a425ea715b2582a0ecc9f": {
      "model_module": "@jupyter-widgets/controls",
      "model_module_version": "1.5.0",
      "model_name": "VBoxModel",
      "state": {
       "_dom_classes": [],
       "_model_module": "@jupyter-widgets/controls",
       "_model_module_version": "1.5.0",
       "_model_name": "VBoxModel",
       "_view_count": null,
       "_view_module": "@jupyter-widgets/controls",
       "_view_module_version": "1.5.0",
       "_view_name": "VBoxView",
       "box_style": "",
       "children": [
        "IPY_MODEL_67fc6186043b43ae893055349034fdbe",
        "IPY_MODEL_c4fbaba3b3614f52b678c5d202907586"
       ],
       "layout": "IPY_MODEL_519c01d6d8b546f2a4b080dcef96174e"
      }
     },
     "b1a88661415341f1914c6cc5187782a0": {
      "model_module": "@jupyter-widgets/controls",
      "model_module_version": "1.5.0",
      "model_name": "DescriptionStyleModel",
      "state": {
       "_model_module": "@jupyter-widgets/controls",
       "_model_module_version": "1.5.0",
       "_model_name": "DescriptionStyleModel",
       "_view_count": null,
       "_view_module": "@jupyter-widgets/base",
       "_view_module_version": "1.2.0",
       "_view_name": "StyleView",
       "description_width": ""
      }
     },
     "b3893fb70598488a8e7607046aaf347b": {
      "model_module": "@jupyter-widgets/controls",
      "model_module_version": "1.5.0",
      "model_name": "HBoxModel",
      "state": {
       "_dom_classes": [],
       "_model_module": "@jupyter-widgets/controls",
       "_model_module_version": "1.5.0",
       "_model_name": "HBoxModel",
       "_view_count": null,
       "_view_module": "@jupyter-widgets/controls",
       "_view_module_version": "1.5.0",
       "_view_name": "HBoxView",
       "box_style": "",
       "children": [
        "IPY_MODEL_9c2a65b3dccf432fac85eddfb95b7eb1",
        "IPY_MODEL_fc85b3968c644cefb63c945f9c8ab37b",
        "IPY_MODEL_39c407fb22094ce69b563240c00c52cc"
       ],
       "layout": "IPY_MODEL_d782403e29bb403ca5f20f0a8c1fe34e"
      }
     },
     "b5ee0b845c98471a92e1eb3f4209466d": {
      "model_module": "@jupyter-widgets/base",
      "model_module_version": "1.2.0",
      "model_name": "LayoutModel",
      "state": {
       "_model_module": "@jupyter-widgets/base",
       "_model_module_version": "1.2.0",
       "_model_name": "LayoutModel",
       "_view_count": null,
       "_view_module": "@jupyter-widgets/base",
       "_view_module_version": "1.2.0",
       "_view_name": "LayoutView",
       "align_content": null,
       "align_items": null,
       "align_self": null,
       "border": null,
       "bottom": null,
       "display": null,
       "flex": null,
       "flex_flow": null,
       "grid_area": null,
       "grid_auto_columns": null,
       "grid_auto_flow": null,
       "grid_auto_rows": null,
       "grid_column": null,
       "grid_gap": null,
       "grid_row": null,
       "grid_template_areas": null,
       "grid_template_columns": null,
       "grid_template_rows": null,
       "height": null,
       "justify_content": null,
       "justify_items": null,
       "left": null,
       "margin": null,
       "max_height": null,
       "max_width": null,
       "min_height": null,
       "min_width": null,
       "object_fit": null,
       "object_position": null,
       "order": null,
       "overflow": null,
       "overflow_x": null,
       "overflow_y": null,
       "padding": null,
       "right": null,
       "top": null,
       "visibility": null,
       "width": null
      }
     },
     "bc86239e73f64e79b245cb204c58dfb1": {
      "model_module": "@jupyter-widgets/base",
      "model_module_version": "1.2.0",
      "model_name": "LayoutModel",
      "state": {
       "_model_module": "@jupyter-widgets/base",
       "_model_module_version": "1.2.0",
       "_model_name": "LayoutModel",
       "_view_count": null,
       "_view_module": "@jupyter-widgets/base",
       "_view_module_version": "1.2.0",
       "_view_name": "LayoutView",
       "align_content": null,
       "align_items": null,
       "align_self": null,
       "border": null,
       "bottom": null,
       "display": null,
       "flex": null,
       "flex_flow": null,
       "grid_area": null,
       "grid_auto_columns": null,
       "grid_auto_flow": null,
       "grid_auto_rows": null,
       "grid_column": null,
       "grid_gap": null,
       "grid_row": null,
       "grid_template_areas": null,
       "grid_template_columns": null,
       "grid_template_rows": null,
       "height": null,
       "justify_content": null,
       "justify_items": null,
       "left": null,
       "margin": null,
       "max_height": null,
       "max_width": null,
       "min_height": null,
       "min_width": null,
       "object_fit": null,
       "object_position": null,
       "order": null,
       "overflow": null,
       "overflow_x": null,
       "overflow_y": null,
       "padding": null,
       "right": null,
       "top": null,
       "visibility": null,
       "width": null
      }
     },
     "c407a4e8164041b6900cf76e4ca7edef": {
      "model_module": "@jupyter-widgets/controls",
      "model_module_version": "1.5.0",
      "model_name": "ProgressStyleModel",
      "state": {
       "_model_module": "@jupyter-widgets/controls",
       "_model_module_version": "1.5.0",
       "_model_name": "ProgressStyleModel",
       "_view_count": null,
       "_view_module": "@jupyter-widgets/base",
       "_view_module_version": "1.2.0",
       "_view_name": "StyleView",
       "bar_color": null,
       "description_width": ""
      }
     },
     "c4fbaba3b3614f52b678c5d202907586": {
      "model_module": "@jupyter-widgets/controls",
      "model_module_version": "1.5.0",
      "model_name": "FloatProgressModel",
      "state": {
       "_dom_classes": [],
       "_model_module": "@jupyter-widgets/controls",
       "_model_module_version": "1.5.0",
       "_model_name": "FloatProgressModel",
       "_view_count": null,
       "_view_module": "@jupyter-widgets/controls",
       "_view_module_version": "1.5.0",
       "_view_name": "ProgressView",
       "bar_style": "",
       "description": "",
       "description_tooltip": null,
       "layout": "IPY_MODEL_cb6abd52e70f4d7c985201dc638a3ad4",
       "max": 1.0,
       "min": 0.0,
       "orientation": "horizontal",
       "style": "IPY_MODEL_e693050570884933b2a4f09a6e90178f",
       "value": 0.0
      }
     },
     "c557b3395bc941919b63c61a0a9f9b1e": {
      "model_module": "@jupyter-widgets/base",
      "model_module_version": "1.2.0",
      "model_name": "LayoutModel",
      "state": {
       "_model_module": "@jupyter-widgets/base",
       "_model_module_version": "1.2.0",
       "_model_name": "LayoutModel",
       "_view_count": null,
       "_view_module": "@jupyter-widgets/base",
       "_view_module_version": "1.2.0",
       "_view_name": "LayoutView",
       "align_content": null,
       "align_items": null,
       "align_self": null,
       "border": null,
       "bottom": null,
       "display": null,
       "flex": null,
       "flex_flow": null,
       "grid_area": null,
       "grid_auto_columns": null,
       "grid_auto_flow": null,
       "grid_auto_rows": null,
       "grid_column": null,
       "grid_gap": null,
       "grid_row": null,
       "grid_template_areas": null,
       "grid_template_columns": null,
       "grid_template_rows": null,
       "height": null,
       "justify_content": null,
       "justify_items": null,
       "left": null,
       "margin": null,
       "max_height": null,
       "max_width": null,
       "min_height": null,
       "min_width": null,
       "object_fit": null,
       "object_position": null,
       "order": null,
       "overflow": null,
       "overflow_x": null,
       "overflow_y": null,
       "padding": null,
       "right": null,
       "top": null,
       "visibility": null,
       "width": null
      }
     },
     "c814509f60be4a61ae5fc65944f59a69": {
      "model_module": "@jupyter-widgets/controls",
      "model_module_version": "1.5.0",
      "model_name": "DescriptionStyleModel",
      "state": {
       "_model_module": "@jupyter-widgets/controls",
       "_model_module_version": "1.5.0",
       "_model_name": "DescriptionStyleModel",
       "_view_count": null,
       "_view_module": "@jupyter-widgets/base",
       "_view_module_version": "1.2.0",
       "_view_name": "StyleView",
       "description_width": ""
      }
     },
     "cb01d251fe3a4b19a2834b5b46da600a": {
      "model_module": "@jupyter-widgets/base",
      "model_module_version": "1.2.0",
      "model_name": "LayoutModel",
      "state": {
       "_model_module": "@jupyter-widgets/base",
       "_model_module_version": "1.2.0",
       "_model_name": "LayoutModel",
       "_view_count": null,
       "_view_module": "@jupyter-widgets/base",
       "_view_module_version": "1.2.0",
       "_view_name": "LayoutView",
       "align_content": null,
       "align_items": null,
       "align_self": null,
       "border": null,
       "bottom": null,
       "display": null,
       "flex": null,
       "flex_flow": null,
       "grid_area": null,
       "grid_auto_columns": null,
       "grid_auto_flow": null,
       "grid_auto_rows": null,
       "grid_column": null,
       "grid_gap": null,
       "grid_row": null,
       "grid_template_areas": null,
       "grid_template_columns": null,
       "grid_template_rows": null,
       "height": null,
       "justify_content": null,
       "justify_items": null,
       "left": null,
       "margin": null,
       "max_height": null,
       "max_width": null,
       "min_height": null,
       "min_width": null,
       "object_fit": null,
       "object_position": null,
       "order": null,
       "overflow": null,
       "overflow_x": null,
       "overflow_y": null,
       "padding": null,
       "right": null,
       "top": null,
       "visibility": null,
       "width": null
      }
     },
     "cb6abd52e70f4d7c985201dc638a3ad4": {
      "model_module": "@jupyter-widgets/base",
      "model_module_version": "1.2.0",
      "model_name": "LayoutModel",
      "state": {
       "_model_module": "@jupyter-widgets/base",
       "_model_module_version": "1.2.0",
       "_model_name": "LayoutModel",
       "_view_count": null,
       "_view_module": "@jupyter-widgets/base",
       "_view_module_version": "1.2.0",
       "_view_name": "LayoutView",
       "align_content": null,
       "align_items": null,
       "align_self": null,
       "border": null,
       "bottom": null,
       "display": null,
       "flex": null,
       "flex_flow": null,
       "grid_area": null,
       "grid_auto_columns": null,
       "grid_auto_flow": null,
       "grid_auto_rows": null,
       "grid_column": null,
       "grid_gap": null,
       "grid_row": null,
       "grid_template_areas": null,
       "grid_template_columns": null,
       "grid_template_rows": null,
       "height": null,
       "justify_content": null,
       "justify_items": null,
       "left": null,
       "margin": null,
       "max_height": null,
       "max_width": null,
       "min_height": null,
       "min_width": null,
       "object_fit": null,
       "object_position": null,
       "order": null,
       "overflow": null,
       "overflow_x": null,
       "overflow_y": null,
       "padding": null,
       "right": null,
       "top": null,
       "visibility": null,
       "width": null
      }
     },
     "cbcc4ff591184ffbb253e65c9f1bde34": {
      "model_module": "@jupyter-widgets/controls",
      "model_module_version": "1.5.0",
      "model_name": "HTMLModel",
      "state": {
       "_dom_classes": [],
       "_model_module": "@jupyter-widgets/controls",
       "_model_module_version": "1.5.0",
       "_model_name": "HTMLModel",
       "_view_count": null,
       "_view_module": "@jupyter-widgets/controls",
       "_view_module_version": "1.5.0",
       "_view_name": "HTMLView",
       "description": "",
       "description_tooltip": null,
       "layout": "IPY_MODEL_cb01d251fe3a4b19a2834b5b46da600a",
       "placeholder": "​",
       "style": "IPY_MODEL_3c9aa07f9fa54b50bc1ca3b8c5915895",
       "value": " 64/64 [00:02&lt;00:00, 38.48it/s]"
      }
     },
     "cc5c6afa6e864e1bb08acfa8d5bf41e0": {
      "model_module": "@jupyter-widgets/controls",
      "model_module_version": "1.5.0",
      "model_name": "HTMLModel",
      "state": {
       "_dom_classes": [],
       "_model_module": "@jupyter-widgets/controls",
       "_model_module_version": "1.5.0",
       "_model_name": "HTMLModel",
       "_view_count": null,
       "_view_module": "@jupyter-widgets/controls",
       "_view_module_version": "1.5.0",
       "_view_name": "HTMLView",
       "description": "",
       "description_tooltip": null,
       "layout": "IPY_MODEL_2d94cade67434770b73b732adb7c6df5",
       "placeholder": "​",
       "style": "IPY_MODEL_7fe88b208e5c4962b6f81dfc92581e29",
       "value": "100%"
      }
     },
     "ce7f35de411a4037878796881a9a18e5": {
      "model_module": "@jupyter-widgets/base",
      "model_module_version": "1.2.0",
      "model_name": "LayoutModel",
      "state": {
       "_model_module": "@jupyter-widgets/base",
       "_model_module_version": "1.2.0",
       "_model_name": "LayoutModel",
       "_view_count": null,
       "_view_module": "@jupyter-widgets/base",
       "_view_module_version": "1.2.0",
       "_view_name": "LayoutView",
       "align_content": null,
       "align_items": null,
       "align_self": null,
       "border": null,
       "bottom": null,
       "display": null,
       "flex": null,
       "flex_flow": null,
       "grid_area": null,
       "grid_auto_columns": null,
       "grid_auto_flow": null,
       "grid_auto_rows": null,
       "grid_column": null,
       "grid_gap": null,
       "grid_row": null,
       "grid_template_areas": null,
       "grid_template_columns": null,
       "grid_template_rows": null,
       "height": null,
       "justify_content": null,
       "justify_items": null,
       "left": null,
       "margin": null,
       "max_height": null,
       "max_width": null,
       "min_height": null,
       "min_width": null,
       "object_fit": null,
       "object_position": null,
       "order": null,
       "overflow": null,
       "overflow_x": null,
       "overflow_y": null,
       "padding": null,
       "right": null,
       "top": null,
       "visibility": null,
       "width": null
      }
     },
     "d1b45797664c4170a74adecb3d1c71d0": {
      "model_module": "@jupyter-widgets/controls",
      "model_module_version": "1.5.0",
      "model_name": "DescriptionStyleModel",
      "state": {
       "_model_module": "@jupyter-widgets/controls",
       "_model_module_version": "1.5.0",
       "_model_name": "DescriptionStyleModel",
       "_view_count": null,
       "_view_module": "@jupyter-widgets/base",
       "_view_module_version": "1.2.0",
       "_view_name": "StyleView",
       "description_width": ""
      }
     },
     "d6f0efffc201489fa41125e8c162ef80": {
      "model_module": "@jupyter-widgets/controls",
      "model_module_version": "1.5.0",
      "model_name": "DescriptionStyleModel",
      "state": {
       "_model_module": "@jupyter-widgets/controls",
       "_model_module_version": "1.5.0",
       "_model_name": "DescriptionStyleModel",
       "_view_count": null,
       "_view_module": "@jupyter-widgets/base",
       "_view_module_version": "1.2.0",
       "_view_name": "StyleView",
       "description_width": ""
      }
     },
     "d782403e29bb403ca5f20f0a8c1fe34e": {
      "model_module": "@jupyter-widgets/base",
      "model_module_version": "1.2.0",
      "model_name": "LayoutModel",
      "state": {
       "_model_module": "@jupyter-widgets/base",
       "_model_module_version": "1.2.0",
       "_model_name": "LayoutModel",
       "_view_count": null,
       "_view_module": "@jupyter-widgets/base",
       "_view_module_version": "1.2.0",
       "_view_name": "LayoutView",
       "align_content": null,
       "align_items": null,
       "align_self": null,
       "border": null,
       "bottom": null,
       "display": null,
       "flex": null,
       "flex_flow": null,
       "grid_area": null,
       "grid_auto_columns": null,
       "grid_auto_flow": null,
       "grid_auto_rows": null,
       "grid_column": null,
       "grid_gap": null,
       "grid_row": null,
       "grid_template_areas": null,
       "grid_template_columns": null,
       "grid_template_rows": null,
       "height": null,
       "justify_content": null,
       "justify_items": null,
       "left": null,
       "margin": null,
       "max_height": null,
       "max_width": null,
       "min_height": null,
       "min_width": null,
       "object_fit": null,
       "object_position": null,
       "order": null,
       "overflow": null,
       "overflow_x": null,
       "overflow_y": null,
       "padding": null,
       "right": null,
       "top": null,
       "visibility": null,
       "width": null
      }
     },
     "d98db00a35fe46218ae964c2f04d40f3": {
      "model_module": "@jupyter-widgets/controls",
      "model_module_version": "1.5.0",
      "model_name": "ProgressStyleModel",
      "state": {
       "_model_module": "@jupyter-widgets/controls",
       "_model_module_version": "1.5.0",
       "_model_name": "ProgressStyleModel",
       "_view_count": null,
       "_view_module": "@jupyter-widgets/base",
       "_view_module_version": "1.2.0",
       "_view_name": "StyleView",
       "bar_color": null,
       "description_width": ""
      }
     },
     "db7ced7191f540a4b946d7884e0123aa": {
      "model_module": "@jupyter-widgets/base",
      "model_module_version": "1.2.0",
      "model_name": "LayoutModel",
      "state": {
       "_model_module": "@jupyter-widgets/base",
       "_model_module_version": "1.2.0",
       "_model_name": "LayoutModel",
       "_view_count": null,
       "_view_module": "@jupyter-widgets/base",
       "_view_module_version": "1.2.0",
       "_view_name": "LayoutView",
       "align_content": null,
       "align_items": null,
       "align_self": null,
       "border": null,
       "bottom": null,
       "display": null,
       "flex": null,
       "flex_flow": null,
       "grid_area": null,
       "grid_auto_columns": null,
       "grid_auto_flow": null,
       "grid_auto_rows": null,
       "grid_column": null,
       "grid_gap": null,
       "grid_row": null,
       "grid_template_areas": null,
       "grid_template_columns": null,
       "grid_template_rows": null,
       "height": null,
       "justify_content": null,
       "justify_items": null,
       "left": null,
       "margin": null,
       "max_height": null,
       "max_width": null,
       "min_height": null,
       "min_width": null,
       "object_fit": null,
       "object_position": null,
       "order": null,
       "overflow": null,
       "overflow_x": null,
       "overflow_y": null,
       "padding": null,
       "right": null,
       "top": null,
       "visibility": null,
       "width": null
      }
     },
     "dd46feea5c694adab9c1c3aaae85a3af": {
      "model_module": "@jupyter-widgets/controls",
      "model_module_version": "1.5.0",
      "model_name": "HTMLModel",
      "state": {
       "_dom_classes": [],
       "_model_module": "@jupyter-widgets/controls",
       "_model_module_version": "1.5.0",
       "_model_name": "HTMLModel",
       "_view_count": null,
       "_view_module": "@jupyter-widgets/controls",
       "_view_module_version": "1.5.0",
       "_view_name": "HTMLView",
       "description": "",
       "description_tooltip": null,
       "layout": "IPY_MODEL_f91f1364f7ad40ef88fc54b6450be221",
       "placeholder": "​",
       "style": "IPY_MODEL_c814509f60be4a61ae5fc65944f59a69",
       "value": " 1/1 [00:07&lt;00:00,  7.94s/ba]"
      }
     },
     "df5079b6e13f4a0ebc83f8e6168f193f": {
      "model_module": "@jupyter-widgets/controls",
      "model_module_version": "1.5.0",
      "model_name": "FloatProgressModel",
      "state": {
       "_dom_classes": [],
       "_model_module": "@jupyter-widgets/controls",
       "_model_module_version": "1.5.0",
       "_model_name": "FloatProgressModel",
       "_view_count": null,
       "_view_module": "@jupyter-widgets/controls",
       "_view_module_version": "1.5.0",
       "_view_name": "ProgressView",
       "bar_style": "success",
       "description": "",
       "description_tooltip": null,
       "layout": "IPY_MODEL_bc86239e73f64e79b245cb204c58dfb1",
       "max": 816.0,
       "min": 0.0,
       "orientation": "horizontal",
       "style": "IPY_MODEL_d98db00a35fe46218ae964c2f04d40f3",
       "value": 816.0
      }
     },
     "e0f7f78968324801b7ee2181cae004d8": {
      "model_module": "@jupyter-widgets/controls",
      "model_module_version": "1.5.0",
      "model_name": "FloatProgressModel",
      "state": {
       "_dom_classes": [],
       "_model_module": "@jupyter-widgets/controls",
       "_model_module_version": "1.5.0",
       "_model_name": "FloatProgressModel",
       "_view_count": null,
       "_view_module": "@jupyter-widgets/controls",
       "_view_module_version": "1.5.0",
       "_view_name": "ProgressView",
       "bar_style": "success",
       "description": "",
       "description_tooltip": null,
       "layout": "IPY_MODEL_09870632ae4c46d5a34c246c794ae158",
       "max": 5.0,
       "min": 0.0,
       "orientation": "horizontal",
       "style": "IPY_MODEL_68bcfa24fbfc4e9582594980421bc171",
       "value": 5.0
      }
     },
     "e22d9cd506ec4a53a1ac714c64bd6760": {
      "model_module": "@jupyter-widgets/controls",
      "model_module_version": "1.5.0",
      "model_name": "DescriptionStyleModel",
      "state": {
       "_model_module": "@jupyter-widgets/controls",
       "_model_module_version": "1.5.0",
       "_model_name": "DescriptionStyleModel",
       "_view_count": null,
       "_view_module": "@jupyter-widgets/base",
       "_view_module_version": "1.2.0",
       "_view_name": "StyleView",
       "description_width": ""
      }
     },
     "e4c2284b12424badad94a3d6e498dcbb": {
      "model_module": "@jupyter-widgets/controls",
      "model_module_version": "1.5.0",
      "model_name": "HBoxModel",
      "state": {
       "_dom_classes": [],
       "_model_module": "@jupyter-widgets/controls",
       "_model_module_version": "1.5.0",
       "_model_name": "HBoxModel",
       "_view_count": null,
       "_view_module": "@jupyter-widgets/controls",
       "_view_module_version": "1.5.0",
       "_view_name": "HBoxView",
       "box_style": "",
       "children": [
        "IPY_MODEL_46e5097f2a19445298262d6df4dce898",
        "IPY_MODEL_fe44a486a0834e94ac719ea2a29fd8f3",
        "IPY_MODEL_5d14a26391214607bed1d66a2ae8566f"
       ],
       "layout": "IPY_MODEL_5010d8ae28674b7b8384843bbc8adbdd"
      }
     },
     "e5675fbd2da34b208a876f15bc7e69a9": {
      "model_module": "@jupyter-widgets/controls",
      "model_module_version": "1.5.0",
      "model_name": "HTMLModel",
      "state": {
       "_dom_classes": [],
       "_model_module": "@jupyter-widgets/controls",
       "_model_module_version": "1.5.0",
       "_model_name": "HTMLModel",
       "_view_count": null,
       "_view_module": "@jupyter-widgets/controls",
       "_view_module_version": "1.5.0",
       "_view_name": "HTMLView",
       "description": "",
       "description_tooltip": null,
       "layout": "IPY_MODEL_89576efc415642f189263faf3863f042",
       "placeholder": "​",
       "style": "IPY_MODEL_a3004914650b473e9eb3beb3dbadebcd",
       "value": " 1/1 [00:00&lt;00:00,  1.56ba/s]"
      }
     },
     "e693050570884933b2a4f09a6e90178f": {
      "model_module": "@jupyter-widgets/controls",
      "model_module_version": "1.5.0",
      "model_name": "ProgressStyleModel",
      "state": {
       "_model_module": "@jupyter-widgets/controls",
       "_model_module_version": "1.5.0",
       "_model_name": "ProgressStyleModel",
       "_view_count": null,
       "_view_module": "@jupyter-widgets/base",
       "_view_module_version": "1.2.0",
       "_view_name": "StyleView",
       "bar_color": null,
       "description_width": ""
      }
     },
     "e96a80e9e6bc42b0a45f3e3c550cc047": {
      "model_module": "@jupyter-widgets/controls",
      "model_module_version": "1.5.0",
      "model_name": "DescriptionStyleModel",
      "state": {
       "_model_module": "@jupyter-widgets/controls",
       "_model_module_version": "1.5.0",
       "_model_name": "DescriptionStyleModel",
       "_view_count": null,
       "_view_module": "@jupyter-widgets/base",
       "_view_module_version": "1.2.0",
       "_view_name": "StyleView",
       "description_width": ""
      }
     },
     "eaaef026ed344bc4b65bc7d7a592d2cf": {
      "model_module": "@jupyter-widgets/controls",
      "model_module_version": "1.5.0",
      "model_name": "HBoxModel",
      "state": {
       "_dom_classes": [],
       "_model_module": "@jupyter-widgets/controls",
       "_model_module_version": "1.5.0",
       "_model_name": "HBoxModel",
       "_view_count": null,
       "_view_module": "@jupyter-widgets/controls",
       "_view_module_version": "1.5.0",
       "_view_name": "HBoxView",
       "box_style": "",
       "children": [
        "IPY_MODEL_8ff09f2b47a4408a8831bec15d0a2d1f",
        "IPY_MODEL_e0f7f78968324801b7ee2181cae004d8",
        "IPY_MODEL_aa66fd6411c548c98a0b46db6b2967b4"
       ],
       "layout": "IPY_MODEL_0f0ff39177324e308fa7c01077c8a33b"
      }
     },
     "ef71308126884f04b1d84725bb53d334": {
      "model_module": "@jupyter-widgets/controls",
      "model_module_version": "1.5.0",
      "model_name": "HTMLModel",
      "state": {
       "_dom_classes": [],
       "_model_module": "@jupyter-widgets/controls",
       "_model_module_version": "1.5.0",
       "_model_name": "HTMLModel",
       "_view_count": null,
       "_view_module": "@jupyter-widgets/controls",
       "_view_module_version": "1.5.0",
       "_view_name": "HTMLView",
       "description": "",
       "description_tooltip": null,
       "layout": "IPY_MODEL_f913f4fb60b24173a1a6f0608e2f0193",
       "placeholder": "​",
       "style": "IPY_MODEL_d1b45797664c4170a74adecb3d1c71d0",
       "value": "100%"
      }
     },
     "f3b4c093438d497db2a508484db0df49": {
      "model_module": "@jupyter-widgets/controls",
      "model_module_version": "1.5.0",
      "model_name": "HBoxModel",
      "state": {
       "_dom_classes": [],
       "_model_module": "@jupyter-widgets/controls",
       "_model_module_version": "1.5.0",
       "_model_name": "HBoxModel",
       "_view_count": null,
       "_view_module": "@jupyter-widgets/controls",
       "_view_module_version": "1.5.0",
       "_view_name": "HBoxView",
       "box_style": "",
       "children": [
        "IPY_MODEL_33f8da5e0fcd412db22cc5519387bc9b",
        "IPY_MODEL_8afa423f4d03489d9f9617e1a3593f87",
        "IPY_MODEL_e5675fbd2da34b208a876f15bc7e69a9"
       ],
       "layout": "IPY_MODEL_8c92bed6a68941859c3c2d822d597120"
      }
     },
     "f8fe1e86113844e9b2b67914925c6912": {
      "model_module": "@jupyter-widgets/controls",
      "model_module_version": "1.5.0",
      "model_name": "ProgressStyleModel",
      "state": {
       "_model_module": "@jupyter-widgets/controls",
       "_model_module_version": "1.5.0",
       "_model_name": "ProgressStyleModel",
       "_view_count": null,
       "_view_module": "@jupyter-widgets/base",
       "_view_module_version": "1.2.0",
       "_view_name": "StyleView",
       "bar_color": null,
       "description_width": ""
      }
     },
     "f913f4fb60b24173a1a6f0608e2f0193": {
      "model_module": "@jupyter-widgets/base",
      "model_module_version": "1.2.0",
      "model_name": "LayoutModel",
      "state": {
       "_model_module": "@jupyter-widgets/base",
       "_model_module_version": "1.2.0",
       "_model_name": "LayoutModel",
       "_view_count": null,
       "_view_module": "@jupyter-widgets/base",
       "_view_module_version": "1.2.0",
       "_view_name": "LayoutView",
       "align_content": null,
       "align_items": null,
       "align_self": null,
       "border": null,
       "bottom": null,
       "display": null,
       "flex": null,
       "flex_flow": null,
       "grid_area": null,
       "grid_auto_columns": null,
       "grid_auto_flow": null,
       "grid_auto_rows": null,
       "grid_column": null,
       "grid_gap": null,
       "grid_row": null,
       "grid_template_areas": null,
       "grid_template_columns": null,
       "grid_template_rows": null,
       "height": null,
       "justify_content": null,
       "justify_items": null,
       "left": null,
       "margin": null,
       "max_height": null,
       "max_width": null,
       "min_height": null,
       "min_width": null,
       "object_fit": null,
       "object_position": null,
       "order": null,
       "overflow": null,
       "overflow_x": null,
       "overflow_y": null,
       "padding": null,
       "right": null,
       "top": null,
       "visibility": null,
       "width": null
      }
     },
     "f91f1364f7ad40ef88fc54b6450be221": {
      "model_module": "@jupyter-widgets/base",
      "model_module_version": "1.2.0",
      "model_name": "LayoutModel",
      "state": {
       "_model_module": "@jupyter-widgets/base",
       "_model_module_version": "1.2.0",
       "_model_name": "LayoutModel",
       "_view_count": null,
       "_view_module": "@jupyter-widgets/base",
       "_view_module_version": "1.2.0",
       "_view_name": "LayoutView",
       "align_content": null,
       "align_items": null,
       "align_self": null,
       "border": null,
       "bottom": null,
       "display": null,
       "flex": null,
       "flex_flow": null,
       "grid_area": null,
       "grid_auto_columns": null,
       "grid_auto_flow": null,
       "grid_auto_rows": null,
       "grid_column": null,
       "grid_gap": null,
       "grid_row": null,
       "grid_template_areas": null,
       "grid_template_columns": null,
       "grid_template_rows": null,
       "height": null,
       "justify_content": null,
       "justify_items": null,
       "left": null,
       "margin": null,
       "max_height": null,
       "max_width": null,
       "min_height": null,
       "min_width": null,
       "object_fit": null,
       "object_position": null,
       "order": null,
       "overflow": null,
       "overflow_x": null,
       "overflow_y": null,
       "padding": null,
       "right": null,
       "top": null,
       "visibility": null,
       "width": null
      }
     },
     "fc85b3968c644cefb63c945f9c8ab37b": {
      "model_module": "@jupyter-widgets/controls",
      "model_module_version": "1.5.0",
      "model_name": "FloatProgressModel",
      "state": {
       "_dom_classes": [],
       "_model_module": "@jupyter-widgets/controls",
       "_model_module_version": "1.5.0",
       "_model_name": "FloatProgressModel",
       "_view_count": null,
       "_view_module": "@jupyter-widgets/controls",
       "_view_module_version": "1.5.0",
       "_view_name": "ProgressView",
       "bar_style": "success",
       "description": "",
       "description_tooltip": null,
       "layout": "IPY_MODEL_89317a46b15445ac970b644d5dd59ac4",
       "max": 67.0,
       "min": 0.0,
       "orientation": "horizontal",
       "style": "IPY_MODEL_597e59684c7f47fdab13449e6fd35bff",
       "value": 67.0
      }
     },
     "fcfb112c98a94b6d9c037707260a7f11": {
      "model_module": "@jupyter-widgets/controls",
      "model_module_version": "1.5.0",
      "model_name": "DescriptionStyleModel",
      "state": {
       "_model_module": "@jupyter-widgets/controls",
       "_model_module_version": "1.5.0",
       "_model_name": "DescriptionStyleModel",
       "_view_count": null,
       "_view_module": "@jupyter-widgets/base",
       "_view_module_version": "1.2.0",
       "_view_name": "StyleView",
       "description_width": ""
      }
     },
     "fdaeae53aec74600be1c33266f69455b": {
      "model_module": "@jupyter-widgets/controls",
      "model_module_version": "1.5.0",
      "model_name": "HTMLModel",
      "state": {
       "_dom_classes": [],
       "_model_module": "@jupyter-widgets/controls",
       "_model_module_version": "1.5.0",
       "_model_name": "HTMLModel",
       "_view_count": null,
       "_view_module": "@jupyter-widgets/controls",
       "_view_module_version": "1.5.0",
       "_view_name": "HTMLView",
       "description": "",
       "description_tooltip": null,
       "layout": "IPY_MODEL_779054365b2b4914b43baef8a8ffaeb3",
       "placeholder": "​",
       "style": "IPY_MODEL_7f0289355ec04587ba9df05d60f58a6a",
       "value": "100%"
      }
     },
     "fe44a486a0834e94ac719ea2a29fd8f3": {
      "model_module": "@jupyter-widgets/controls",
      "model_module_version": "1.5.0",
      "model_name": "FloatProgressModel",
      "state": {
       "_dom_classes": [],
       "_model_module": "@jupyter-widgets/controls",
       "_model_module_version": "1.5.0",
       "_model_name": "FloatProgressModel",
       "_view_count": null,
       "_view_module": "@jupyter-widgets/controls",
       "_view_module_version": "1.5.0",
       "_view_name": "ProgressView",
       "bar_style": "success",
       "description": "",
       "description_tooltip": null,
       "layout": "IPY_MODEL_134500e3b4344bf0a24178d10363b96c",
       "max": 1.0,
       "min": 0.0,
       "orientation": "horizontal",
       "style": "IPY_MODEL_0ca7f7ced0cf410ebb8276be98ecdb90",
       "value": 1.0
      }
     }
    },
    "version_major": 2,
    "version_minor": 0
   }
  }
 },
 "nbformat": 4,
 "nbformat_minor": 5
}
